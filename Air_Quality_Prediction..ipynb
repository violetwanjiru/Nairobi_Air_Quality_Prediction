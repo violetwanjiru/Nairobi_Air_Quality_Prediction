{
 "cells": [
  {
   "cell_type": "markdown",
   "id": "fc447951",
   "metadata": {},
   "source": [
    "# Air Quality Prediction Using Autoregressive Model"
   ]
  },
  {
   "cell_type": "markdown",
   "id": "c0613b2c",
   "metadata": {},
   "source": [
    "# Problem Statement\n",
    "\n",
    "Air pollution, particularly fine particulate matter (PM2.5), poses significant health risks, including respiratory and cardiovascular diseases. Accurate forecasting of PM2.5 levels is crucial for timely interventions, policy formulation, and public health awareness.\n",
    "\n",
    "In Nairobi, fluctuating pollution levels due to factors such as traffic congestion, industrial activities, and weather patterns make real-time monitoring and prediction essential. However, existing air quality monitoring systems often lack predictive capabilities, limiting proactive decision-making.\n",
    "\n",
    "This project aims to develop an autoregressive time series model to predict PM2.5 concentrations based on historical sensor data. By leveraging past pollution levels, the model will identify patterns and correlations that can enhance forecasting accuracy. The insights from this study will aid policymakers, environmental agencies, and the public in mitigating air pollution’s adverse effects."
   ]
  },
  {
   "cell_type": "code",
   "execution_count": 41,
   "id": "b9e5ad9a",
   "metadata": {},
   "outputs": [],
   "source": [
    "#Import libraries\n",
    "import warnings\n",
    "import matplotlib.pyplot as plt\n",
    "import numpy as np\n",
    "import pandas as pd\n",
    "import plotly.express as px\n",
    "from sklearn.metrics import mean_absolute_error\n",
    "from statsmodels.graphics.tsaplots import plot_acf, plot_pacf\n",
    "from statsmodels.tsa.ar_model import AutoReg\n",
    "import pytz\n",
    "\n",
    "warnings.simplefilter(action=\"ignore\", category=FutureWarning)"
   ]
  },
  {
   "cell_type": "code",
   "execution_count": 42,
   "id": "d6860f0c",
   "metadata": {},
   "outputs": [],
   "source": [
    "#Load data\n",
    "files = [\n",
    "    r'C:\\Users\\hp\\Desktop\\AIR_QUALITY_PROJECT\\2018\\september_2018_sensor_data_archive.csv',\n",
    "    r'C:\\Users\\hp\\Desktop\\AIR_QUALITY_PROJECT\\2018\\october_2018_sensor_data_archive.csv',\n",
    "    r'C:\\Users\\hp\\Desktop\\AIR_QUALITY_PROJECT\\2018\\november_2018_sensor_data_archive.csv'\n",
    "    \n",
    "]\n",
    "nairobi = pd.concat(\n",
    "    [pd.read_csv(file, sep=\";\", dtype=str, low_memory=False) for file in files], #low_memory =false to import all data in string type\n",
    "    ignore_index=True\n",
    ")"
   ]
  },
  {
   "cell_type": "code",
   "execution_count": 43,
   "id": "1734fb1e",
   "metadata": {},
   "outputs": [
    {
     "data": {
      "text/html": [
       "<div>\n",
       "<style scoped>\n",
       "    .dataframe tbody tr th:only-of-type {\n",
       "        vertical-align: middle;\n",
       "    }\n",
       "\n",
       "    .dataframe tbody tr th {\n",
       "        vertical-align: top;\n",
       "    }\n",
       "\n",
       "    .dataframe thead th {\n",
       "        text-align: right;\n",
       "    }\n",
       "</style>\n",
       "<table border=\"1\" class=\"dataframe\">\n",
       "  <thead>\n",
       "    <tr style=\"text-align: right;\">\n",
       "      <th></th>\n",
       "      <th>sensor_id</th>\n",
       "      <th>sensor_type</th>\n",
       "      <th>location</th>\n",
       "      <th>lat</th>\n",
       "      <th>lon</th>\n",
       "      <th>timestamp</th>\n",
       "      <th>value_type</th>\n",
       "      <th>value</th>\n",
       "    </tr>\n",
       "  </thead>\n",
       "  <tbody>\n",
       "    <tr>\n",
       "      <th>0</th>\n",
       "      <td>57</td>\n",
       "      <td>SDS011</td>\n",
       "      <td>29</td>\n",
       "      <td>-1.300</td>\n",
       "      <td>36.785</td>\n",
       "      <td>2018-09-01T00:00:02.472867+00:00</td>\n",
       "      <td>P2</td>\n",
       "      <td>34.43</td>\n",
       "    </tr>\n",
       "    <tr>\n",
       "      <th>1</th>\n",
       "      <td>57</td>\n",
       "      <td>SDS011</td>\n",
       "      <td>29</td>\n",
       "      <td>-1.300</td>\n",
       "      <td>36.785</td>\n",
       "      <td>2018-09-01T00:00:02.472867+00:00</td>\n",
       "      <td>P1</td>\n",
       "      <td>39.67</td>\n",
       "    </tr>\n",
       "    <tr>\n",
       "      <th>2</th>\n",
       "      <td>58</td>\n",
       "      <td>DHT22</td>\n",
       "      <td>29</td>\n",
       "      <td>-1.300</td>\n",
       "      <td>36.785</td>\n",
       "      <td>2018-09-01T00:00:04.301785+00:00</td>\n",
       "      <td>humidity</td>\n",
       "      <td>83.40</td>\n",
       "    </tr>\n",
       "    <tr>\n",
       "      <th>3</th>\n",
       "      <td>58</td>\n",
       "      <td>DHT22</td>\n",
       "      <td>29</td>\n",
       "      <td>-1.300</td>\n",
       "      <td>36.785</td>\n",
       "      <td>2018-09-01T00:00:04.301785+00:00</td>\n",
       "      <td>temperature</td>\n",
       "      <td>16.50</td>\n",
       "    </tr>\n",
       "    <tr>\n",
       "      <th>4</th>\n",
       "      <td>69</td>\n",
       "      <td>SDS011</td>\n",
       "      <td>7</td>\n",
       "      <td>-1.298</td>\n",
       "      <td>36.791</td>\n",
       "      <td>2018-09-01T00:00:07.536156+00:00</td>\n",
       "      <td>P2</td>\n",
       "      <td>16.63</td>\n",
       "    </tr>\n",
       "  </tbody>\n",
       "</table>\n",
       "</div>"
      ],
      "text/plain": [
       "  sensor_id sensor_type location     lat     lon  \\\n",
       "0        57      SDS011       29  -1.300  36.785   \n",
       "1        57      SDS011       29  -1.300  36.785   \n",
       "2        58       DHT22       29  -1.300  36.785   \n",
       "3        58       DHT22       29  -1.300  36.785   \n",
       "4        69      SDS011        7  -1.298  36.791   \n",
       "\n",
       "                          timestamp   value_type  value  \n",
       "0  2018-09-01T00:00:02.472867+00:00           P2  34.43  \n",
       "1  2018-09-01T00:00:02.472867+00:00           P1  39.67  \n",
       "2  2018-09-01T00:00:04.301785+00:00     humidity  83.40  \n",
       "3  2018-09-01T00:00:04.301785+00:00  temperature  16.50  \n",
       "4  2018-09-01T00:00:07.536156+00:00           P2  16.63  "
      ]
     },
     "execution_count": 43,
     "metadata": {},
     "output_type": "execute_result"
    }
   ],
   "source": [
    "nairobi.head()"
   ]
  },
  {
   "cell_type": "code",
   "execution_count": 44,
   "id": "7a044258",
   "metadata": {},
   "outputs": [],
   "source": [
    "#Convert value and sensor id to numeric dtype\n",
    "numeric_cols = [\"sensor_id\", \"value\"]  \n",
    "for col in numeric_cols:\n",
    "    nairobi[col] = pd.to_numeric(nairobi[col], errors=\"coerce\")"
   ]
  },
  {
   "cell_type": "code",
   "execution_count": 45,
   "id": "3bb65bc5",
   "metadata": {},
   "outputs": [],
   "source": [
    "#convert timestamp column to datetime\n",
    "nairobi[\"timestamp\"] = pd.to_datetime(nairobi[\"timestamp\"], errors=\"coerce\")"
   ]
  },
  {
   "cell_type": "markdown",
   "id": "c83f47f9",
   "metadata": {},
   "source": [
    "Subset the data to select data from the sensor that has highest numeber of PM2.5 reading."
   ]
  },
  {
   "cell_type": "code",
   "execution_count": 46,
   "id": "ec71d06d",
   "metadata": {},
   "outputs": [
    {
     "name": "stdout",
     "output_type": "stream",
     "text": [
      "Sensor 51 has the most P2 readings: 49212\n"
     ]
    }
   ],
   "source": [
    "#Select sensor type that has the most P2 reading from the dataset\n",
    "p2_counts = nairobi[nairobi['value_type'] == 'P2']['sensor_id'].value_counts()\n",
    "\n",
    "# Get the sensor with the most P2 readings\n",
    "most_p2_sensor = p2_counts.idxmax()\n",
    "max_p2_count = p2_counts.max()\n",
    "\n",
    "print(f\"Sensor {most_p2_sensor} has the most P2 readings: {max_p2_count}\")\n"
   ]
  },
  {
   "cell_type": "code",
   "execution_count": 47,
   "id": "2769fdf8",
   "metadata": {},
   "outputs": [
    {
     "data": {
      "text/plain": [
       "(2634833, 8)"
      ]
     },
     "execution_count": 47,
     "metadata": {},
     "output_type": "execute_result"
    }
   ],
   "source": [
    "nairobi.shape"
   ]
  },
  {
   "cell_type": "markdown",
   "id": "ca44381b",
   "metadata": {},
   "source": [
    "## Data Wrangling"
   ]
  },
  {
   "cell_type": "code",
   "execution_count": 48,
   "id": "e4c16b2f",
   "metadata": {},
   "outputs": [],
   "source": [
    "#Develop a wrngle function\n",
    "def wrangle(df):\n",
    "    # Filter for sensor_id 156 and value_type \"P2\"\n",
    "    df = df[(df[\"sensor_id\"] == 51) & (df[\"value_type\"] == \"P2\")]\n",
    "\n",
    "    # Rename 'value' column to 'P2'\n",
    "    df = df.rename(columns={\"value\": \"P2\"}).drop(columns=[\"value_type\"])\n",
    "    \n",
    "    # Set timestamp as index and keep only 'P2'\n",
    "    df = df.set_index(\"timestamp\")[[\"P2\"]]\n",
    "    \n",
    "    #localize timezone\n",
    "    df.index = pd.to_datetime(df.index)\n",
    "    df = df.tz_convert(\"Africa/Nairobi\")\n",
    "    \n",
    "    df['P2'] = pd.to_numeric(df['P2'], errors='coerce')  \n",
    "    df = df.dropna(subset=['P2'])  \n",
    "    \n",
    "    #Remove outlier\n",
    "    df = df[df['P2']< 100]\n",
    "    \n",
    "    #Resample the data to provide the mean PM2.5 reading for each hour\n",
    "    df = df['P2'].resample('1H').mean().fillna(method='ffill').to_frame()\n",
    "\n",
    "\n",
    "    return df\n",
    "    "
   ]
  },
  {
   "cell_type": "code",
   "execution_count": 49,
   "id": "cba32995",
   "metadata": {},
   "outputs": [
    {
     "name": "stdout",
     "output_type": "stream",
     "text": [
      "                                  P2\n",
      "timestamp                           \n",
      "2018-09-01 03:00:00+03:00  16.142500\n",
      "2018-09-01 04:00:00+03:00  16.567500\n",
      "2018-09-01 05:00:00+03:00  12.747391\n",
      "2018-09-01 06:00:00+03:00  15.055417\n",
      "2018-09-01 07:00:00+03:00  25.797500\n",
      "...                              ...\n",
      "2018-11-30 22:00:00+03:00  16.074211\n",
      "2018-11-30 23:00:00+03:00  31.839444\n",
      "2018-12-01 00:00:00+03:00  17.252105\n",
      "2018-12-01 01:00:00+03:00  12.720000\n",
      "2018-12-01 02:00:00+03:00  10.854737\n",
      "\n",
      "[2184 rows x 1 columns]\n"
     ]
    }
   ],
   "source": [
    "# Call the function\n",
    "df = wrangle(nairobi)\n",
    "print(df)"
   ]
  },
  {
   "cell_type": "code",
   "execution_count": 50,
   "id": "4c9c7642",
   "metadata": {},
   "outputs": [
    {
     "data": {
      "text/plain": [
       "(2184, 1)"
      ]
     },
     "execution_count": 50,
     "metadata": {},
     "output_type": "execute_result"
    }
   ],
   "source": [
    "df.shape"
   ]
  },
  {
   "cell_type": "code",
   "execution_count": 51,
   "id": "cb795404",
   "metadata": {},
   "outputs": [
    {
     "data": {
      "text/plain": [
       "<Axes: title={'center': 'Distribution of PM2.5 Readings'}>"
      ]
     },
     "execution_count": 51,
     "metadata": {},
     "output_type": "execute_result"
    },
    {
     "data": {
      "image/png": "[encoded data removed]",
      "text/plain": [
       "<Figure size 1500x600 with 1 Axes>"
      ]
     },
     "metadata": {},
     "output_type": "display_data"
    }
   ],
   "source": [
    "#Plot box plot to identify outliers\n",
    "fig, ax = plt.subplots(figsize=(15, 6))\n",
    "df['P2'].plot(kind='box', vert=False, title='Distribution of PM2.5 Readings', ax=ax)"
   ]
  },
  {
   "cell_type": "markdown",
   "id": "2c4c3f23",
   "metadata": {},
   "source": [
    "## Plot timeseries plot for average PM2.5 reading per hour"
   ]
  },
  {
   "cell_type": "code",
   "execution_count": 52,
   "id": "c9325c44",
   "metadata": {},
   "outputs": [
    {
     "data": {
      "text/plain": [
       "<Axes: title={'center': 'Nairobi PM2.5'}, xlabel='Date', ylabel='PM2.5 Level'>"
      ]
     },
     "execution_count": 52,
     "metadata": {},
     "output_type": "execute_result"
    },
    {
     "data": {
      "image/png": "[encoded data removed]",
      "text/plain": [
       "<Figure size 1500x600 with 1 Axes>"
      ]
     },
     "metadata": {},
     "output_type": "display_data"
    }
   ],
   "source": [
    "#Plot time series plot for average PM2.5 reading per hour\n",
    "fig, ax = plt.subplots(figsize=(15, 6))\n",
    "df.plot(xlabel= 'Date', ylabel= 'PM2.5 Level', title=\"Nairobi PM2.5\", ax=ax)"
   ]
  },
  {
   "cell_type": "markdown",
   "id": "4c593cd1",
   "metadata": {},
   "source": [
    "**Apply a rolling average to smooth fluctuations in the dataset and identify potential trends.**\n",
    "\n",
    "- A rolling average (also known as a moving average) calculates the mean of multiple subsets of numbers within a dataset, helping to smooth out short-term variations.\n",
    "\n",
    "- In this case, we compute the rolling average of the readings in the DataFrame using a window size of 168 (equivalent to the number of hours in a week). "
   ]
  },
  {
   "cell_type": "code",
   "execution_count": 54,
   "id": "59422786",
   "metadata": {},
   "outputs": [
    {
     "data": {
      "image/png": "[encoded data removed]",
      "text/plain": [
       "<Figure size 1500x600 with 1 Axes>"
      ]
     },
     "metadata": {},
     "output_type": "display_data"
    }
   ],
   "source": [
    "fig, ax = plt.subplots(figsize=(15, 6))\n",
    "df.rolling(168).mean().plot(ax=ax, xlabel='Date', ylabel='PM2.5 Level', title='Nairobi PM2.5 Levels, 7-Day Rolling Average');"
   ]
  },
  {
   "cell_type": "markdown",
   "id": "5f562cea",
   "metadata": {},
   "source": [
    "## Explore Data"
   ]
  },
  {
   "cell_type": "markdown",
   "id": "d5ad0929",
   "metadata": {},
   "source": [
    "**Plot An Autocorrelation Function(ACF)**"
   ]
  },
  {
   "cell_type": "markdown",
   "id": "b59b9be0",
   "metadata": {},
   "source": [
    "- An Autocorrelation Function (ACF) plot is a visual tool used in time series analysis to measure and display the correlation    between a time series and its past values (lags). It helps determine how past observations influence future ones and is essential in identifying significant lags for modeling.\n",
    "- Let's plot an ACF plot to show us how many lags we should include in our model to achieve good predictive power"
   ]
  },
  {
   "cell_type": "code",
   "execution_count": 19,
   "id": "cf7da419",
   "metadata": {},
   "outputs": [
    {
     "data": {
      "image/png": "[encoded data removed]",
      "text/plain": [
       "<Figure size 1500x600 with 1 Axes>"
      ]
     },
     "metadata": {},
     "output_type": "display_data"
    }
   ],
   "source": [
    "fig, ax = plt.subplots(figsize=(15, 6))\n",
    "plot_acf(df, ax=ax)\n",
    "plt.xlabel(\"Lag [hours]\")  \n",
    "plt.ylabel(\"Correlation Coefficient\")\n",
    "plt.title(\"Nairobi PM2.5 Readings, ACF\");"
   ]
  },
  {
   "cell_type": "markdown",
   "id": "44d23127",
   "metadata": {},
   "source": [
    "- We can see a strong correlation between the current observations and those from an hour ago.\n",
    "- There are additional peaks at 12 hours and 24 hours, indicating that past values from 24 hours ago have predictive power.\n"
   ]
  },
  {
   "cell_type": "markdown",
   "id": "fe9e7588",
   "metadata": {},
   "source": [
    "**Plot a Partial Autocorrelation function**"
   ]
  },
  {
   "cell_type": "code",
   "execution_count": 55,
   "id": "aa8be6d8",
   "metadata": {
    "scrolled": true
   },
   "outputs": [
    {
     "data": {
      "image/png": "[encoded data removed]",
      "text/plain": [
       "<Figure size 1500x600 with 1 Axes>"
      ]
     },
     "metadata": {},
     "output_type": "display_data"
    }
   ],
   "source": [
    "#PACF plot will show us the right lag that has predictive power \n",
    "fig, ax = plt.subplots(figsize=(15, 6))\n",
    "plot_pacf(df, ax=ax)\n",
    "plt.xlabel(\"Lag [hours]\")\n",
    "plt.ylabel(\"Correlation Coefficient\");"
   ]
  },
  {
   "cell_type": "markdown",
   "id": "c9ccba6d",
   "metadata": {},
   "source": [
    "- We can see that there is correlation of around 0.7 in our data at lag 1 - meaning what happened in the last hour has strong power of predicting what is  happening now.\n",
    "- At 12hours & 24 hours there is a peak. Meaning that what happened 24 hours has some predictive power.\n",
    "- This helps us determine the number of lags to include in our model."
   ]
  },
  {
   "cell_type": "markdown",
   "id": "9edaffb1",
   "metadata": {},
   "source": [
    "# Train Autoregressive Model"
   ]
  },
  {
   "cell_type": "markdown",
   "id": "23d3a280",
   "metadata": {},
   "source": [
    "## Split Data to train and test data"
   ]
  },
  {
   "cell_type": "code",
   "execution_count": 56,
   "id": "939c1a9d",
   "metadata": {},
   "outputs": [
    {
     "name": "stdout",
     "output_type": "stream",
     "text": [
      "df_train shape: (1965, 1)\n",
      "df_test shape: (219, 1)\n"
     ]
    }
   ],
   "source": [
    "#Split y into training and test sets. The first 90% of the data should be in your training set. \n",
    "#The remaining 10% should be in the test set.\n",
    "cutoff_test = int(len(df)* 0.90)\n",
    "\n",
    "df_train = df.iloc[:cutoff_test]\n",
    "df_test = df.iloc[cutoff_test:]\n",
    "print(\"df_train shape:\", df_train.shape)\n",
    "print(\"df_test shape:\", df_test.shape)"
   ]
  },
  {
   "cell_type": "code",
   "execution_count": 57,
   "id": "e37020dc",
   "metadata": {},
   "outputs": [
    {
     "name": "stdout",
     "output_type": "stream",
     "text": [
      "Mean P2 Reading: P2    11.178751\n",
      "dtype: float64\n",
      "Baseline MAE: 4.601705559581848\n"
     ]
    }
   ],
   "source": [
    "#Lets estabish baseline mean absolute error for the model\n",
    "df_train_mean = df_train.mean()\n",
    "df_pred_baseline = [df_train_mean] * len(df_train)\n",
    "mae_baseline = mean_absolute_error(df_train, df_pred_baseline)\n",
    "\n",
    "print(\"Mean P2 Reading:\", df_train_mean)\n",
    "print(\"Baseline MAE:\", mae_baseline)"
   ]
  },
  {
   "cell_type": "markdown",
   "id": "0b29e133",
   "metadata": {},
   "source": [
    "## Fit Autoreg Model"
   ]
  },
  {
   "cell_type": "code",
   "execution_count": 58,
   "id": "ad4818c5",
   "metadata": {},
   "outputs": [
    {
     "name": "stdout",
     "output_type": "stream",
     "text": [
      "Residuals:\n",
      "timestamp\n",
      "2018-09-02 05:00:00+03:00    -1.165384\n",
      "2018-09-02 06:00:00+03:00    -3.265900\n",
      "2018-09-02 07:00:00+03:00    11.190235\n",
      "2018-09-02 08:00:00+03:00    -9.783656\n",
      "2018-09-02 09:00:00+03:00     0.306819\n",
      "                               ...    \n",
      "2018-11-21 19:00:00+03:00    -0.103936\n",
      "2018-11-21 20:00:00+03:00    -1.585090\n",
      "2018-11-21 21:00:00+03:00    -1.135885\n",
      "2018-11-21 22:00:00+03:00    -1.892714\n",
      "2018-11-21 23:00:00+03:00    14.741875\n",
      "Freq: H, Length: 1939, dtype: float64\n",
      "Training MAE: 2.9674313840786866\n"
     ]
    }
   ],
   "source": [
    "target_col = 'P2'  \n",
    "\n",
    "# Fit the AutoReg model\n",
    "model = AutoReg(df_train[target_col], lags=26).fit()\n",
    "\n",
    "# Predict values (start prediction at index 26)\n",
    "y_pred = model.predict(start=26, end=len(df_train)-1)\n",
    "\n",
    "# Convert y_pred to a Series with the correct index\n",
    "y_pred = pd.Series(y_pred.values, index=df_train.index[26:])\n",
    "\n",
    "# Compute residuals (actual - predicted)\n",
    "residuals = df_train[target_col].iloc[26:] - y_pred\n",
    "\n",
    "# Print residuals (dropping NaN values)\n",
    "print(\"Residuals:\")\n",
    "print(residuals.dropna())\n",
    "\n",
    "# Compute Training MAE\n",
    "training_mae = mean_absolute_error(df_train[target_col].iloc[26:], y_pred)\n",
    "print(\"Training MAE:\", training_mae)\n"
   ]
  },
  {
   "cell_type": "code",
   "execution_count": 59,
   "id": "5641ae97",
   "metadata": {},
   "outputs": [
    {
     "data": {
      "image/png": "[encoded data removed]",
      "text/plain": [
       "<Figure size 1500x600 with 1 Axes>"
      ]
     },
     "metadata": {},
     "output_type": "display_data"
    }
   ],
   "source": [
    "fig, ax = plt.subplots(figsize=(15, 6))\n",
    "residuals.plot(ylabel='Residual Value', ax=ax);"
   ]
  },
  {
   "cell_type": "code",
   "execution_count": 60,
   "id": "b4cc77e8",
   "metadata": {},
   "outputs": [
    {
     "data": {
      "text/plain": [
       "Text(0.5, 1.0, 'AR(26), Distribution of Residual')"
      ]
     },
     "execution_count": 60,
     "metadata": {},
     "output_type": "execute_result"
    },
    {
     "data": {
      "image/png": "[encoded data removed]",
      "text/plain": [
       "<Figure size 640x480 with 1 Axes>"
      ]
     },
     "metadata": {},
     "output_type": "display_data"
    }
   ],
   "source": [
    "#plot histogram of the residuals\n",
    "residuals.hist()\n",
    "plt.xlabel('Residual Values')\n",
    "plt.ylabel('Frequency')\n",
    "plt.title('AR(26), Distribution of Residual')"
   ]
  },
  {
   "cell_type": "markdown",
   "id": "cd6c33ce",
   "metadata": {},
   "source": [
    "    - The residuals are normally distributed"
   ]
  },
  {
   "cell_type": "code",
   "execution_count": 61,
   "id": "7e337c60",
   "metadata": {},
   "outputs": [
    {
     "name": "stdout",
     "output_type": "stream",
     "text": [
      "Test MAE: 3.9888166503277205\n"
     ]
    }
   ],
   "source": [
    "#Calculate the test mean absolute error\n",
    "y_pred_test = model.predict(df_test.index.min(), df_test.index.max())\n",
    "test_mae = mean_absolute_error(df_test, y_pred_test)\n",
    "print(\"Test MAE:\", test_mae)\n"
   ]
  },
  {
   "cell_type": "code",
   "execution_count": 29,
   "id": "15f9e7a5",
   "metadata": {},
   "outputs": [
    {
     "name": "stdout",
     "output_type": "stream",
     "text": [
      "Test MAE: 3.9888166503277205\n"
     ]
    }
   ],
   "source": [
    "y_pred_test = model.predict(start=df_test.index[0], end=df_test.index[-1])\n",
    "test_mae = mean_absolute_error(df_test.squeeze(), y_pred_test)\n",
    "print(\"Test MAE:\", test_mae)\n"
   ]
  },
  {
   "cell_type": "code",
   "execution_count": 62,
   "id": "b08d850d",
   "metadata": {},
   "outputs": [
    {
     "name": "stdout",
     "output_type": "stream",
     "text": [
      "                              y_test     y_pred\n",
      "timestamp                                      \n",
      "2018-11-22 00:00:00+03:00  21.422500  18.671846\n",
      "2018-11-22 01:00:00+03:00  12.851250  12.917800\n",
      "2018-11-22 02:00:00+03:00   9.300000  12.356154\n",
      "2018-11-22 03:00:00+03:00   7.750833  10.840717\n",
      "2018-11-22 04:00:00+03:00   6.844783   9.519359\n"
     ]
    }
   ],
   "source": [
    "#Create a DataFrame test_predictions that has two columns: \"y_test\" and \"y_pred\"\n",
    "# Ensure y_test and y_pred are 1D arrays\n",
    "y_test = df_test.squeeze()  # Convert DataFrame to Series if needed\n",
    "y_pred = y_pred_test.squeeze()\n",
    "\n",
    "# Create DataFrame\n",
    "test_predictions = pd.DataFrame({\"y_test\": y_test, \"y_pred\": y_pred}, index=df_test.index)\n",
    "\n",
    "# Display DataFrame\n",
    "print(test_predictions.head())\n"
   ]
  },
  {
   "cell_type": "code",
   "execution_count": 64,
   "id": "48da620b",
   "metadata": {},
   "outputs": [
    {
     "data": {
      "application/vnd.plotly.v1+json": {
       "config": {
        "plotlyServerURL": "https://plot.ly"
       },
       "data": [
        {
         "hovertemplate": "variable=y_test<br>timestamp=%{x}<br>P2=%{y}<extra></extra>",
         "legendgroup": "y_test",
         "line": {
          "color": "#636efa",
          "dash": "solid"
         },
         "marker": {
          "symbol": "circle"
         },
         "mode": "lines",
         "name": "y_test",
         "orientation": "v",
         "showlegend": true,
         "type": "scatter",
         "x": [
          "2018-11-22T00:00:00+03:00",
          "2018-11-22T01:00:00+03:00",
          "2018-11-22T02:00:00+03:00",
          "2018-11-22T03:00:00+03:00",
          "2018-11-22T04:00:00+03:00",
          "2018-11-22T05:00:00+03:00",
          "2018-11-22T06:00:00+03:00",
          "2018-11-22T07:00:00+03:00",
          "2018-11-22T08:00:00+03:00",
          "2018-11-22T09:00:00+03:00",
          "2018-11-22T10:00:00+03:00",
          "2018-11-22T11:00:00+03:00",
          "2018-11-22T12:00:00+03:00",
          "2018-11-22T13:00:00+03:00",
          "2018-11-22T14:00:00+03:00",
          "2018-11-22T15:00:00+03:00",
          "2018-11-22T16:00:00+03:00",
          "2018-11-22T17:00:00+03:00",
          "2018-11-22T18:00:00+03:00",
          "2018-11-22T19:00:00+03:00",
          "2018-11-22T20:00:00+03:00",
          "2018-11-22T21:00:00+03:00",
          "2018-11-22T22:00:00+03:00",
          "2018-11-22T23:00:00+03:00",
          "2018-11-23T00:00:00+03:00",
          "2018-11-23T01:00:00+03:00",
          "2018-11-23T02:00:00+03:00",
          "2018-11-23T03:00:00+03:00",
          "2018-11-23T04:00:00+03:00",
          "2018-11-23T05:00:00+03:00",
          "2018-11-23T06:00:00+03:00",
          "2018-11-23T07:00:00+03:00",
          "2018-11-23T08:00:00+03:00",
          "2018-11-23T09:00:00+03:00",
          "2018-11-23T10:00:00+03:00",
          "2018-11-23T11:00:00+03:00",
          "2018-11-23T12:00:00+03:00",
          "2018-11-23T13:00:00+03:00",
          "2018-11-23T14:00:00+03:00",
          "2018-11-23T15:00:00+03:00",
          "2018-11-23T16:00:00+03:00",
          "2018-11-23T17:00:00+03:00",
          "2018-11-23T18:00:00+03:00",
          "2018-11-23T19:00:00+03:00",
          "2018-11-23T20:00:00+03:00",
          "2018-11-23T21:00:00+03:00",
          "2018-11-23T22:00:00+03:00",
          "2018-11-23T23:00:00+03:00",
          "2018-11-24T00:00:00+03:00",
          "2018-11-24T01:00:00+03:00",
          "2018-11-24T02:00:00+03:00",
          "2018-11-24T03:00:00+03:00",
          "2018-11-24T04:00:00+03:00",
          "2018-11-24T05:00:00+03:00",
          "2018-11-24T06:00:00+03:00",
          "2018-11-24T07:00:00+03:00",
          "2018-11-24T08:00:00+03:00",
          "2018-11-24T09:00:00+03:00",
          "2018-11-24T10:00:00+03:00",
          "2018-11-24T11:00:00+03:00",
          "2018-11-24T12:00:00+03:00",
          "2018-11-24T13:00:00+03:00",
          "2018-11-24T14:00:00+03:00",
          "2018-11-24T15:00:00+03:00",
          "2018-11-24T16:00:00+03:00",
          "2018-11-24T17:00:00+03:00",
          "2018-11-24T18:00:00+03:00",
          "2018-11-24T19:00:00+03:00",
          "2018-11-24T20:00:00+03:00",
          "2018-11-24T21:00:00+03:00",
          "2018-11-24T22:00:00+03:00",
          "2018-11-24T23:00:00+03:00",
          "2018-11-25T00:00:00+03:00",
          "2018-11-25T01:00:00+03:00",
          "2018-11-25T02:00:00+03:00",
          "2018-11-25T03:00:00+03:00",
          "2018-11-25T04:00:00+03:00",
          "2018-11-25T05:00:00+03:00",
          "2018-11-25T06:00:00+03:00",
          "2018-11-25T07:00:00+03:00",
          "2018-11-25T08:00:00+03:00",
          "2018-11-25T09:00:00+03:00",
          "2018-11-25T10:00:00+03:00",
          "2018-11-25T11:00:00+03:00",
          "2018-11-25T12:00:00+03:00",
          "2018-11-25T13:00:00+03:00",
          "2018-11-25T14:00:00+03:00",
          "2018-11-25T15:00:00+03:00",
          "2018-11-25T16:00:00+03:00",
          "2018-11-25T17:00:00+03:00",
          "2018-11-25T18:00:00+03:00",
          "2018-11-25T19:00:00+03:00",
          "2018-11-25T20:00:00+03:00",
          "2018-11-25T21:00:00+03:00",
          "2018-11-25T22:00:00+03:00",
          "2018-11-25T23:00:00+03:00",
          "2018-11-26T00:00:00+03:00",
          "2018-11-26T01:00:00+03:00",
          "2018-11-26T02:00:00+03:00",
          "2018-11-26T03:00:00+03:00",
          "2018-11-26T04:00:00+03:00",
          "2018-11-26T05:00:00+03:00",
          "2018-11-26T06:00:00+03:00",
          "2018-11-26T07:00:00+03:00",
          "2018-11-26T08:00:00+03:00",
          "2018-11-26T09:00:00+03:00",
          "2018-11-26T10:00:00+03:00",
          "2018-11-26T11:00:00+03:00",
          "2018-11-26T12:00:00+03:00",
          "2018-11-26T13:00:00+03:00",
          "2018-11-26T14:00:00+03:00",
          "2018-11-26T15:00:00+03:00",
          "2018-11-26T16:00:00+03:00",
          "2018-11-26T17:00:00+03:00",
          "2018-11-26T18:00:00+03:00",
          "2018-11-26T19:00:00+03:00",
          "2018-11-26T20:00:00+03:00",
          "2018-11-26T21:00:00+03:00",
          "2018-11-26T22:00:00+03:00",
          "2018-11-26T23:00:00+03:00",
          "2018-11-27T00:00:00+03:00",
          "2018-11-27T01:00:00+03:00",
          "2018-11-27T02:00:00+03:00",
          "2018-11-27T03:00:00+03:00",
          "2018-11-27T04:00:00+03:00",
          "2018-11-27T05:00:00+03:00",
          "2018-11-27T06:00:00+03:00",
          "2018-11-27T07:00:00+03:00",
          "2018-11-27T08:00:00+03:00",
          "2018-11-27T09:00:00+03:00",
          "2018-11-27T10:00:00+03:00",
          "2018-11-27T11:00:00+03:00",
          "2018-11-27T12:00:00+03:00",
          "2018-11-27T13:00:00+03:00",
          "2018-11-27T14:00:00+03:00",
          "2018-11-27T15:00:00+03:00",
          "2018-11-27T16:00:00+03:00",
          "2018-11-27T17:00:00+03:00",
          "2018-11-27T18:00:00+03:00",
          "2018-11-27T19:00:00+03:00",
          "2018-11-27T20:00:00+03:00",
          "2018-11-27T21:00:00+03:00",
          "2018-11-27T22:00:00+03:00",
          "2018-11-27T23:00:00+03:00",
          "2018-11-28T00:00:00+03:00",
          "2018-11-28T01:00:00+03:00",
          "2018-11-28T02:00:00+03:00",
          "2018-11-28T03:00:00+03:00",
          "2018-11-28T04:00:00+03:00",
          "2018-11-28T05:00:00+03:00",
          "2018-11-28T06:00:00+03:00",
          "2018-11-28T07:00:00+03:00",
          "2018-11-28T08:00:00+03:00",
          "2018-11-28T09:00:00+03:00",
          "2018-11-28T10:00:00+03:00",
          "2018-11-28T11:00:00+03:00",
          "2018-11-28T12:00:00+03:00",
          "2018-11-28T13:00:00+03:00",
          "2018-11-28T14:00:00+03:00",
          "2018-11-28T15:00:00+03:00",
          "2018-11-28T16:00:00+03:00",
          "2018-11-28T17:00:00+03:00",
          "2018-11-28T18:00:00+03:00",
          "2018-11-28T19:00:00+03:00",
          "2018-11-28T20:00:00+03:00",
          "2018-11-28T21:00:00+03:00",
          "2018-11-28T22:00:00+03:00",
          "2018-11-28T23:00:00+03:00",
          "2018-11-29T00:00:00+03:00",
          "2018-11-29T01:00:00+03:00",
          "2018-11-29T02:00:00+03:00",
          "2018-11-29T03:00:00+03:00",
          "2018-11-29T04:00:00+03:00",
          "2018-11-29T05:00:00+03:00",
          "2018-11-29T06:00:00+03:00",
          "2018-11-29T07:00:00+03:00",
          "2018-11-29T08:00:00+03:00",
          "2018-11-29T09:00:00+03:00",
          "2018-11-29T10:00:00+03:00",
          "2018-11-29T11:00:00+03:00",
          "2018-11-29T12:00:00+03:00",
          "2018-11-29T13:00:00+03:00",
          "2018-11-29T14:00:00+03:00",
          "2018-11-29T15:00:00+03:00",
          "2018-11-29T16:00:00+03:00",
          "2018-11-29T17:00:00+03:00",
          "2018-11-29T18:00:00+03:00",
          "2018-11-29T19:00:00+03:00",
          "2018-11-29T20:00:00+03:00",
          "2018-11-29T21:00:00+03:00",
          "2018-11-29T22:00:00+03:00",
          "2018-11-29T23:00:00+03:00",
          "2018-11-30T00:00:00+03:00",
          "2018-11-30T01:00:00+03:00",
          "2018-11-30T02:00:00+03:00",
          "2018-11-30T03:00:00+03:00",
          "2018-11-30T04:00:00+03:00",
          "2018-11-30T05:00:00+03:00",
          "2018-11-30T06:00:00+03:00",
          "2018-11-30T07:00:00+03:00",
          "2018-11-30T08:00:00+03:00",
          "2018-11-30T09:00:00+03:00",
          "2018-11-30T10:00:00+03:00",
          "2018-11-30T11:00:00+03:00",
          "2018-11-30T12:00:00+03:00",
          "2018-11-30T13:00:00+03:00",
          "2018-11-30T14:00:00+03:00",
          "2018-11-30T15:00:00+03:00",
          "2018-11-30T16:00:00+03:00",
          "2018-11-30T17:00:00+03:00",
          "2018-11-30T18:00:00+03:00",
          "2018-11-30T19:00:00+03:00",
          "2018-11-30T20:00:00+03:00",
          "2018-11-30T21:00:00+03:00",
          "2018-11-30T22:00:00+03:00",
          "2018-11-30T23:00:00+03:00",
          "2018-12-01T00:00:00+03:00",
          "2018-12-01T01:00:00+03:00",
          "2018-12-01T02:00:00+03:00"
         ],
         "xaxis": "x",
         "y": [
          21.4225,
          12.85125,
          9.299999999999999,
          7.7508333333333335,
          6.8447826086956525,
          7.28125,
          9.62,
          17.927916666666665,
          24.361666666666665,
          12.754347826086958,
          9.60608695652174,
          8.861666666666666,
          7.53,
          7.0978260869565215,
          6.01125,
          5.690909090909091,
          6.990833333333334,
          8.044782608695652,
          9.055,
          9.384545454545455,
          9.72125,
          10.140833333333333,
          10.951739130434783,
          10.212916666666667,
          8.735,
          8.051250000000001,
          7.572500000000001,
          7.6570833333333335,
          8.060833333333333,
          8.29,
          10.769583333333335,
          18.683333333333334,
          14.784166666666666,
          11.460833333333333,
          10.114347826086956,
          9.1975,
          14.928095238095239,
          59.33941176470588,
          20.500833333333333,
          11.261304347826087,
          7.635416666666667,
          7.374583333333334,
          16.940833333333334,
          12.8025,
          10.803333333333335,
          10.4325,
          9.105,
          8.665217391304349,
          7.802083333333333,
          8.804166666666665,
          7.639166666666667,
          7.407916666666666,
          7.2562500000000005,
          9.2575,
          16.51478260869565,
          18.369565217391305,
          19.496521739130436,
          19.468333333333334,
          10.659583333333334,
          8.720416666666667,
          7.7225,
          7.19125,
          6.490869565217391,
          6.167368421052632,
          6.384583333333333,
          9.091739130434783,
          8.816521739130435,
          11.151904761904762,
          11.206249999999999,
          16.110869565217392,
          34.444782608695654,
          29.04125,
          20.266666666666666,
          16.605833333333333,
          10.57304347826087,
          9.623478260869565,
          9.706666666666667,
          8.284583333333332,
          10.808750000000002,
          25.508750000000003,
          27.598260869565216,
          19.05375,
          31.73,
          14.468333333333334,
          11.181666666666667,
          7.8116666666666665,
          4.456666666666666,
          12.829583333333334,
          22.300833333333333,
          25.6425,
          12.367826086956521,
          9.134782608695652,
          6.482499999999999,
          5.5874999999999995,
          5.645833333333333,
          6.957272727272727,
          6.412916666666667,
          9.854166666666666,
          8.177083333333334,
          7.689130434782609,
          5.15875,
          5.882083333333333,
          7.437916666666666,
          10.667727272727273,
          7.115714285714286,
          6.708333333333333,
          5.940416666666667,
          7.457777777777778,
          4.742916666666667,
          11.714,
          27.635833333333334,
          8.885909090909092,
          5.915,
          5.4714285714285715,
          5.8786956521739135,
          7.062916666666666,
          8.772272727272728,
          8.278333333333334,
          8.473333333333334,
          10.024,
          7.566666666666666,
          6.7250000000000005,
          8.554166666666667,
          7.039166666666667,
          7.56375,
          6.95,
          10.039583333333333,
          11.891304347826088,
          9.004999999999999,
          6.14,
          11.219565217391304,
          7.326250000000001,
          5.347391304347826,
          4.655,
          4.005,
          3.9400000000000004,
          4.9437500000000005,
          5.896249999999999,
          8.200000000000001,
          9.19909090909091,
          9.1525,
          10.805,
          12.926521739130434,
          7.968333333333334,
          7.260416666666667,
          7.52375,
          8.486521739130435,
          8.880416666666667,
          13.530416666666667,
          13.46125,
          12.91375,
          13.056363636363637,
          11.760416666666666,
          8.91625,
          5.867391304347826,
          9.607916666666666,
          7.205,
          6.031666666666666,
          4.505454545454546,
          5.725217391304348,
          6.9925,
          6.717142857142857,
          7.695,
          10.85,
          13.576521739130435,
          13.458571428571428,
          11.01909090909091,
          8.98952380952381,
          8.328125,
          8.506,
          9.423913043478262,
          9.881818181818183,
          9.290833333333333,
          9.271666666666667,
          11.868181818181819,
          15.6895,
          15.407058823529413,
          14.487499999999999,
          12.345,
          11.348125,
          7.944583333333333,
          6.5042857142857144,
          6.544999999999999,
          6.949166666666667,
          7.9695833333333335,
          9.3225,
          10.439583333333333,
          12.096521739130436,
          12.969999999999999,
          13.8125,
          13.950416666666667,
          13.0025,
          12.235,
          11.258181818181818,
          9.835833333333333,
          9.484583333333333,
          9.049999999999999,
          9.230416666666667,
          9.6925,
          9.276818181818182,
          9.268333333333333,
          9.165217391304349,
          7.507083333333334,
          7.07,
          6.698181818181819,
          5.735,
          5.421666666666667,
          5.102083333333334,
          5.902916666666666,
          6.820434782608696,
          8.737391304347826,
          11.3825,
          11.412083333333333,
          23.234117647058824,
          16.074210526315788,
          31.839444444444446,
          17.252105263157897,
          12.72,
          10.854736842105263
         ],
         "yaxis": "y"
        },
        {
         "hovertemplate": "variable=y_pred<br>timestamp=%{x}<br>P2=%{y}<extra></extra>",
         "legendgroup": "y_pred",
         "line": {
          "color": "#EF553B",
          "dash": "solid"
         },
         "marker": {
          "symbol": "circle"
         },
         "mode": "lines",
         "name": "y_pred",
         "orientation": "v",
         "showlegend": true,
         "type": "scatter",
         "x": [
          "2018-11-22T00:00:00+03:00",
          "2018-11-22T01:00:00+03:00",
          "2018-11-22T02:00:00+03:00",
          "2018-11-22T03:00:00+03:00",
          "2018-11-22T04:00:00+03:00",
          "2018-11-22T05:00:00+03:00",
          "2018-11-22T06:00:00+03:00",
          "2018-11-22T07:00:00+03:00",
          "2018-11-22T08:00:00+03:00",
          "2018-11-22T09:00:00+03:00",
          "2018-11-22T10:00:00+03:00",
          "2018-11-22T11:00:00+03:00",
          "2018-11-22T12:00:00+03:00",
          "2018-11-22T13:00:00+03:00",
          "2018-11-22T14:00:00+03:00",
          "2018-11-22T15:00:00+03:00",
          "2018-11-22T16:00:00+03:00",
          "2018-11-22T17:00:00+03:00",
          "2018-11-22T18:00:00+03:00",
          "2018-11-22T19:00:00+03:00",
          "2018-11-22T20:00:00+03:00",
          "2018-11-22T21:00:00+03:00",
          "2018-11-22T22:00:00+03:00",
          "2018-11-22T23:00:00+03:00",
          "2018-11-23T00:00:00+03:00",
          "2018-11-23T01:00:00+03:00",
          "2018-11-23T02:00:00+03:00",
          "2018-11-23T03:00:00+03:00",
          "2018-11-23T04:00:00+03:00",
          "2018-11-23T05:00:00+03:00",
          "2018-11-23T06:00:00+03:00",
          "2018-11-23T07:00:00+03:00",
          "2018-11-23T08:00:00+03:00",
          "2018-11-23T09:00:00+03:00",
          "2018-11-23T10:00:00+03:00",
          "2018-11-23T11:00:00+03:00",
          "2018-11-23T12:00:00+03:00",
          "2018-11-23T13:00:00+03:00",
          "2018-11-23T14:00:00+03:00",
          "2018-11-23T15:00:00+03:00",
          "2018-11-23T16:00:00+03:00",
          "2018-11-23T17:00:00+03:00",
          "2018-11-23T18:00:00+03:00",
          "2018-11-23T19:00:00+03:00",
          "2018-11-23T20:00:00+03:00",
          "2018-11-23T21:00:00+03:00",
          "2018-11-23T22:00:00+03:00",
          "2018-11-23T23:00:00+03:00",
          "2018-11-24T00:00:00+03:00",
          "2018-11-24T01:00:00+03:00",
          "2018-11-24T02:00:00+03:00",
          "2018-11-24T03:00:00+03:00",
          "2018-11-24T04:00:00+03:00",
          "2018-11-24T05:00:00+03:00",
          "2018-11-24T06:00:00+03:00",
          "2018-11-24T07:00:00+03:00",
          "2018-11-24T08:00:00+03:00",
          "2018-11-24T09:00:00+03:00",
          "2018-11-24T10:00:00+03:00",
          "2018-11-24T11:00:00+03:00",
          "2018-11-24T12:00:00+03:00",
          "2018-11-24T13:00:00+03:00",
          "2018-11-24T14:00:00+03:00",
          "2018-11-24T15:00:00+03:00",
          "2018-11-24T16:00:00+03:00",
          "2018-11-24T17:00:00+03:00",
          "2018-11-24T18:00:00+03:00",
          "2018-11-24T19:00:00+03:00",
          "2018-11-24T20:00:00+03:00",
          "2018-11-24T21:00:00+03:00",
          "2018-11-24T22:00:00+03:00",
          "2018-11-24T23:00:00+03:00",
          "2018-11-25T00:00:00+03:00",
          "2018-11-25T01:00:00+03:00",
          "2018-11-25T02:00:00+03:00",
          "2018-11-25T03:00:00+03:00",
          "2018-11-25T04:00:00+03:00",
          "2018-11-25T05:00:00+03:00",
          "2018-11-25T06:00:00+03:00",
          "2018-11-25T07:00:00+03:00",
          "2018-11-25T08:00:00+03:00",
          "2018-11-25T09:00:00+03:00",
          "2018-11-25T10:00:00+03:00",
          "2018-11-25T11:00:00+03:00",
          "2018-11-25T12:00:00+03:00",
          "2018-11-25T13:00:00+03:00",
          "2018-11-25T14:00:00+03:00",
          "2018-11-25T15:00:00+03:00",
          "2018-11-25T16:00:00+03:00",
          "2018-11-25T17:00:00+03:00",
          "2018-11-25T18:00:00+03:00",
          "2018-11-25T19:00:00+03:00",
          "2018-11-25T20:00:00+03:00",
          "2018-11-25T21:00:00+03:00",
          "2018-11-25T22:00:00+03:00",
          "2018-11-25T23:00:00+03:00",
          "2018-11-26T00:00:00+03:00",
          "2018-11-26T01:00:00+03:00",
          "2018-11-26T02:00:00+03:00",
          "2018-11-26T03:00:00+03:00",
          "2018-11-26T04:00:00+03:00",
          "2018-11-26T05:00:00+03:00",
          "2018-11-26T06:00:00+03:00",
          "2018-11-26T07:00:00+03:00",
          "2018-11-26T08:00:00+03:00",
          "2018-11-26T09:00:00+03:00",
          "2018-11-26T10:00:00+03:00",
          "2018-11-26T11:00:00+03:00",
          "2018-11-26T12:00:00+03:00",
          "2018-11-26T13:00:00+03:00",
          "2018-11-26T14:00:00+03:00",
          "2018-11-26T15:00:00+03:00",
          "2018-11-26T16:00:00+03:00",
          "2018-11-26T17:00:00+03:00",
          "2018-11-26T18:00:00+03:00",
          "2018-11-26T19:00:00+03:00",
          "2018-11-26T20:00:00+03:00",
          "2018-11-26T21:00:00+03:00",
          "2018-11-26T22:00:00+03:00",
          "2018-11-26T23:00:00+03:00",
          "2018-11-27T00:00:00+03:00",
          "2018-11-27T01:00:00+03:00",
          "2018-11-27T02:00:00+03:00",
          "2018-11-27T03:00:00+03:00",
          "2018-11-27T04:00:00+03:00",
          "2018-11-27T05:00:00+03:00",
          "2018-11-27T06:00:00+03:00",
          "2018-11-27T07:00:00+03:00",
          "2018-11-27T08:00:00+03:00",
          "2018-11-27T09:00:00+03:00",
          "2018-11-27T10:00:00+03:00",
          "2018-11-27T11:00:00+03:00",
          "2018-11-27T12:00:00+03:00",
          "2018-11-27T13:00:00+03:00",
          "2018-11-27T14:00:00+03:00",
          "2018-11-27T15:00:00+03:00",
          "2018-11-27T16:00:00+03:00",
          "2018-11-27T17:00:00+03:00",
          "2018-11-27T18:00:00+03:00",
          "2018-11-27T19:00:00+03:00",
          "2018-11-27T20:00:00+03:00",
          "2018-11-27T21:00:00+03:00",
          "2018-11-27T22:00:00+03:00",
          "2018-11-27T23:00:00+03:00",
          "2018-11-28T00:00:00+03:00",
          "2018-11-28T01:00:00+03:00",
          "2018-11-28T02:00:00+03:00",
          "2018-11-28T03:00:00+03:00",
          "2018-11-28T04:00:00+03:00",
          "2018-11-28T05:00:00+03:00",
          "2018-11-28T06:00:00+03:00",
          "2018-11-28T07:00:00+03:00",
          "2018-11-28T08:00:00+03:00",
          "2018-11-28T09:00:00+03:00",
          "2018-11-28T10:00:00+03:00",
          "2018-11-28T11:00:00+03:00",
          "2018-11-28T12:00:00+03:00",
          "2018-11-28T13:00:00+03:00",
          "2018-11-28T14:00:00+03:00",
          "2018-11-28T15:00:00+03:00",
          "2018-11-28T16:00:00+03:00",
          "2018-11-28T17:00:00+03:00",
          "2018-11-28T18:00:00+03:00",
          "2018-11-28T19:00:00+03:00",
          "2018-11-28T20:00:00+03:00",
          "2018-11-28T21:00:00+03:00",
          "2018-11-28T22:00:00+03:00",
          "2018-11-28T23:00:00+03:00",
          "2018-11-29T00:00:00+03:00",
          "2018-11-29T01:00:00+03:00",
          "2018-11-29T02:00:00+03:00",
          "2018-11-29T03:00:00+03:00",
          "2018-11-29T04:00:00+03:00",
          "2018-11-29T05:00:00+03:00",
          "2018-11-29T06:00:00+03:00",
          "2018-11-29T07:00:00+03:00",
          "2018-11-29T08:00:00+03:00",
          "2018-11-29T09:00:00+03:00",
          "2018-11-29T10:00:00+03:00",
          "2018-11-29T11:00:00+03:00",
          "2018-11-29T12:00:00+03:00",
          "2018-11-29T13:00:00+03:00",
          "2018-11-29T14:00:00+03:00",
          "2018-11-29T15:00:00+03:00",
          "2018-11-29T16:00:00+03:00",
          "2018-11-29T17:00:00+03:00",
          "2018-11-29T18:00:00+03:00",
          "2018-11-29T19:00:00+03:00",
          "2018-11-29T20:00:00+03:00",
          "2018-11-29T21:00:00+03:00",
          "2018-11-29T22:00:00+03:00",
          "2018-11-29T23:00:00+03:00",
          "2018-11-30T00:00:00+03:00",
          "2018-11-30T01:00:00+03:00",
          "2018-11-30T02:00:00+03:00",
          "2018-11-30T03:00:00+03:00",
          "2018-11-30T04:00:00+03:00",
          "2018-11-30T05:00:00+03:00",
          "2018-11-30T06:00:00+03:00",
          "2018-11-30T07:00:00+03:00",
          "2018-11-30T08:00:00+03:00",
          "2018-11-30T09:00:00+03:00",
          "2018-11-30T10:00:00+03:00",
          "2018-11-30T11:00:00+03:00",
          "2018-11-30T12:00:00+03:00",
          "2018-11-30T13:00:00+03:00",
          "2018-11-30T14:00:00+03:00",
          "2018-11-30T15:00:00+03:00",
          "2018-11-30T16:00:00+03:00",
          "2018-11-30T17:00:00+03:00",
          "2018-11-30T18:00:00+03:00",
          "2018-11-30T19:00:00+03:00",
          "2018-11-30T20:00:00+03:00",
          "2018-11-30T21:00:00+03:00",
          "2018-11-30T22:00:00+03:00",
          "2018-11-30T23:00:00+03:00",
          "2018-12-01T00:00:00+03:00",
          "2018-12-01T01:00:00+03:00",
          "2018-12-01T02:00:00+03:00"
         ],
         "xaxis": "x",
         "y": [
          18.671845613001672,
          12.917800438654968,
          12.356154276838094,
          10.840716838260043,
          9.519359047180599,
          9.651733215540018,
          10.202403595501961,
          11.006579186301527,
          13.285787269851207,
          13.510765169814205,
          12.65208806914088,
          12.686290275960024,
          12.811515807079576,
          11.869491954853595,
          10.864496093221364,
          10.47617937062199,
          9.936922657492545,
          9.631881008054288,
          10.321558968193,
          10.254055446171293,
          10.277325291417146,
          11.083456042456985,
          11.503539284290976,
          11.892177203231762,
          13.05080563731846,
          12.231541708964334,
          11.209002475022118,
          11.003826509919065,
          10.676666408984174,
          10.359590719757863,
          10.485502771783699,
          10.811721488641894,
          11.134896027184066,
          11.579588185163812,
          11.815710714844466,
          11.75105240690751,
          11.70366522119535,
          11.630258945082357,
          11.298905802566178,
          10.989637411429864,
          10.871376059409,
          10.725401924980517,
          10.69152554057984,
          10.87056149258101,
          10.936330950595826,
          11.053672353202641,
          11.314932059559261,
          11.441527200117768,
          11.470194394121538,
          11.488265820687962,
          11.295258527224513,
          11.073318876459142,
          10.974378439927749,
          10.897097102618606,
          10.851570604047899,
          10.920431932600287,
          11.048972900376416,
          11.162044202667673,
          11.273732487867804,
          11.344243710196624,
          11.331732144054818,
          11.291236466606232,
          11.233831821921964,
          11.128336859242216,
          11.039459238098107,
          11.003244979276381,
          10.980101328545638,
          10.993526432882135,
          11.053517339517574,
          11.105608473537348,
          11.160838772616664,
          11.222397546046107,
          11.242813186769816,
          11.225804537273092,
          11.193708013973799,
          11.137012312915013,
          11.078603961128549,
          11.04632552786329,
          11.033115926112199,
          11.037233123632591,
          11.068690746552335,
          11.11313919708195,
          11.149953352553899,
          11.178585519143597,
          11.19262186398311,
          11.183349672278421,
          11.161925069229266,
          11.135456950673518,
          11.103402571254627,
          11.079558194731428,
          11.071541053373732,
          11.07292279854584,
          11.085356421101814,
          11.107842795494687,
          11.12921031390688,
          11.146554386921478,
          11.158355549702259,
          11.157847865873158,
          11.146498276679951,
          11.130766576617056,
          11.112812751777776,
          11.097096886427112,
          11.089447976999136,
          11.089768298825424,
          11.096374411774569,
          11.108977654310758,
          11.1233718769681,
          11.134297504415462,
          11.140704130122044,
          11.141569421481488,
          11.135938304803421,
          11.126754431765967,
          11.116885330183672,
          11.10769905688491,
          11.102124433124892,
          11.101642658854946,
          11.104907148641182,
          11.111141026367674,
          11.119086766864175,
          11.125963263831906,
          11.13028953556671,
          11.131603682881487,
          11.129295887457433,
          11.124209656645116,
          11.118301997088823,
          11.112850788922493,
          11.109022810859983,
          11.107982755926798,
          11.109626466679643,
          11.113109005067262,
          11.117673688219973,
          11.122033368810893,
          11.124870255098596,
          11.125817799594493,
          11.124852001021491,
          11.122173431512438,
          11.118730067665672,
          11.115514527748008,
          11.113137602066072,
          11.112198406372244,
          11.11288152647321,
          11.114735224610412,
          11.1172333678542,
          11.119790449710862,
          11.12166995332743,
          11.122454376139704,
          11.122110551148213,
          11.12075616520365,
          11.118795101729082,
          11.116839227151608,
          11.115344254914717,
          11.1146088140904,
          11.114806799689141,
          11.115798004880887,
          11.117226798375427,
          11.118735822198111,
          11.119939060948765,
          11.120523404007464,
          11.120425006410171,
          11.119737993916715,
          11.118652290742318,
          11.117489873093556,
          11.116561672688551,
          11.116053911090116,
          11.116064416368772,
          11.116559777509359,
          11.11735555300548,
          11.118229253957836,
          11.11897082754906,
          11.119393211417334,
          11.119413912699079,
          11.119073858039783,
          11.118481379003653,
          11.117800788603125,
          11.11722025568598,
          11.116872868232429,
          11.116818900400851,
          11.117054845775902,
          11.117496212009499,
          11.118007927136384,
          11.118460964784285,
          11.11874783186409,
          11.118805064102538,
          11.118641662496794,
          11.118319619911665,
          11.117928203383473,
          11.117573039367837,
          11.117342392531842,
          11.117279502679411,
          11.11738606334152,
          11.11762334483562,
          11.117918266416128,
          11.118191858238847,
          11.118379841963435,
          11.118440792626458,
          11.118369303815507,
          11.118196474555836,
          11.117973356870872,
          11.117758932671604,
          11.117607611603237,
          11.117551553792655,
          11.117595465447065,
          11.117720906605754,
          11.117889550689192,
          11.118054328445858,
          11.118174980358955,
          11.118225377093122,
          11.118198013485697,
          11.118106799342199,
          11.1179804468364,
          11.117852860633151,
          11.117756211434944,
          11.117712465447463,
          11.117727493525429,
          11.117792449298125,
          11.117887216087205,
          11.117985194760756,
          11.118061463140302,
          11.118099148269222
         ],
         "yaxis": "y"
        }
       ],
       "layout": {
        "legend": {
         "title": {
          "text": "variable"
         },
         "tracegroupgap": 0
        },
        "margin": {
         "t": 60
        },
        "template": {
         "data": {
          "bar": [
           {
            "error_x": {
             "color": "#2a3f5f"
            },
            "error_y": {
             "color": "#2a3f5f"
            },
            "marker": {
             "line": {
              "color": "#E5ECF6",
              "width": 0.5
             },
             "pattern": {
              "fillmode": "overlay",
              "size": 10,
              "solidity": 0.2
             }
            },
            "type": "bar"
           }
          ],
          "barpolar": [
           {
            "marker": {
             "line": {
              "color": "#E5ECF6",
              "width": 0.5
             },
             "pattern": {
              "fillmode": "overlay",
              "size": 10,
              "solidity": 0.2
             }
            },
            "type": "barpolar"
           }
          ],
          "carpet": [
           {
            "aaxis": {
             "endlinecolor": "#2a3f5f",
             "gridcolor": "white",
             "linecolor": "white",
             "minorgridcolor": "white",
             "startlinecolor": "#2a3f5f"
            },
            "baxis": {
             "endlinecolor": "#2a3f5f",
             "gridcolor": "white",
             "linecolor": "white",
             "minorgridcolor": "white",
             "startlinecolor": "#2a3f5f"
            },
            "type": "carpet"
           }
          ],
          "choropleth": [
           {
            "colorbar": {
             "outlinewidth": 0,
             "ticks": ""
            },
            "type": "choropleth"
           }
          ],
          "contour": [
           {
            "colorbar": {
             "outlinewidth": 0,
             "ticks": ""
            },
            "colorscale": [
             [
              0,
              "#0d0887"
             ],
             [
              0.1111111111111111,
              "#46039f"
             ],
             [
              0.2222222222222222,
              "#7201a8"
             ],
             [
              0.3333333333333333,
              "#9c179e"
             ],
             [
              0.4444444444444444,
              "#bd3786"
             ],
             [
              0.5555555555555556,
              "#d8576b"
             ],
             [
              0.6666666666666666,
              "#ed7953"
             ],
             [
              0.7777777777777778,
              "#fb9f3a"
             ],
             [
              0.8888888888888888,
              "#fdca26"
             ],
             [
              1,
              "#f0f921"
             ]
            ],
            "type": "contour"
           }
          ],
          "contourcarpet": [
           {
            "colorbar": {
             "outlinewidth": 0,
             "ticks": ""
            },
            "type": "contourcarpet"
           }
          ],
          "heatmap": [
           {
            "colorbar": {
             "outlinewidth": 0,
             "ticks": ""
            },
            "colorscale": [
             [
              0,
              "#0d0887"
             ],
             [
              0.1111111111111111,
              "#46039f"
             ],
             [
              0.2222222222222222,
              "#7201a8"
             ],
             [
              0.3333333333333333,
              "#9c179e"
             ],
             [
              0.4444444444444444,
              "#bd3786"
             ],
             [
              0.5555555555555556,
              "#d8576b"
             ],
             [
              0.6666666666666666,
              "#ed7953"
             ],
             [
              0.7777777777777778,
              "#fb9f3a"
             ],
             [
              0.8888888888888888,
              "#fdca26"
             ],
             [
              1,
              "#f0f921"
             ]
            ],
            "type": "heatmap"
           }
          ],
          "heatmapgl": [
           {
            "colorbar": {
             "outlinewidth": 0,
             "ticks": ""
            },
            "colorscale": [
             [
              0,
              "#0d0887"
             ],
             [
              0.1111111111111111,
              "#46039f"
             ],
             [
              0.2222222222222222,
              "#7201a8"
             ],
             [
              0.3333333333333333,
              "#9c179e"
             ],
             [
              0.4444444444444444,
              "#bd3786"
             ],
             [
              0.5555555555555556,
              "#d8576b"
             ],
             [
              0.6666666666666666,
              "#ed7953"
             ],
             [
              0.7777777777777778,
              "#fb9f3a"
             ],
             [
              0.8888888888888888,
              "#fdca26"
             ],
             [
              1,
              "#f0f921"
             ]
            ],
            "type": "heatmapgl"
           }
          ],
          "histogram": [
           {
            "marker": {
             "pattern": {
              "fillmode": "overlay",
              "size": 10,
              "solidity": 0.2
             }
            },
            "type": "histogram"
           }
          ],
          "histogram2d": [
           {
            "colorbar": {
             "outlinewidth": 0,
             "ticks": ""
            },
            "colorscale": [
             [
              0,
              "#0d0887"
             ],
             [
              0.1111111111111111,
              "#46039f"
             ],
             [
              0.2222222222222222,
              "#7201a8"
             ],
             [
              0.3333333333333333,
              "#9c179e"
             ],
             [
              0.4444444444444444,
              "#bd3786"
             ],
             [
              0.5555555555555556,
              "#d8576b"
             ],
             [
              0.6666666666666666,
              "#ed7953"
             ],
             [
              0.7777777777777778,
              "#fb9f3a"
             ],
             [
              0.8888888888888888,
              "#fdca26"
             ],
             [
              1,
              "#f0f921"
             ]
            ],
            "type": "histogram2d"
           }
          ],
          "histogram2dcontour": [
           {
            "colorbar": {
             "outlinewidth": 0,
             "ticks": ""
            },
            "colorscale": [
             [
              0,
              "#0d0887"
             ],
             [
              0.1111111111111111,
              "#46039f"
             ],
             [
              0.2222222222222222,
              "#7201a8"
             ],
             [
              0.3333333333333333,
              "#9c179e"
             ],
             [
              0.4444444444444444,
              "#bd3786"
             ],
             [
              0.5555555555555556,
              "#d8576b"
             ],
             [
              0.6666666666666666,
              "#ed7953"
             ],
             [
              0.7777777777777778,
              "#fb9f3a"
             ],
             [
              0.8888888888888888,
              "#fdca26"
             ],
             [
              1,
              "#f0f921"
             ]
            ],
            "type": "histogram2dcontour"
           }
          ],
          "mesh3d": [
           {
            "colorbar": {
             "outlinewidth": 0,
             "ticks": ""
            },
            "type": "mesh3d"
           }
          ],
          "parcoords": [
           {
            "line": {
             "colorbar": {
              "outlinewidth": 0,
              "ticks": ""
             }
            },
            "type": "parcoords"
           }
          ],
          "pie": [
           {
            "automargin": true,
            "type": "pie"
           }
          ],
          "scatter": [
           {
            "fillpattern": {
             "fillmode": "overlay",
             "size": 10,
             "solidity": 0.2
            },
            "type": "scatter"
           }
          ],
          "scatter3d": [
           {
            "line": {
             "colorbar": {
              "outlinewidth": 0,
              "ticks": ""
             }
            },
            "marker": {
             "colorbar": {
              "outlinewidth": 0,
              "ticks": ""
             }
            },
            "type": "scatter3d"
           }
          ],
          "scattercarpet": [
           {
            "marker": {
             "colorbar": {
              "outlinewidth": 0,
              "ticks": ""
             }
            },
            "type": "scattercarpet"
           }
          ],
          "scattergeo": [
           {
            "marker": {
             "colorbar": {
              "outlinewidth": 0,
              "ticks": ""
             }
            },
            "type": "scattergeo"
           }
          ],
          "scattergl": [
           {
            "marker": {
             "colorbar": {
              "outlinewidth": 0,
              "ticks": ""
             }
            },
            "type": "scattergl"
           }
          ],
          "scattermapbox": [
           {
            "marker": {
             "colorbar": {
              "outlinewidth": 0,
              "ticks": ""
             }
            },
            "type": "scattermapbox"
           }
          ],
          "scatterpolar": [
           {
            "marker": {
             "colorbar": {
              "outlinewidth": 0,
              "ticks": ""
             }
            },
            "type": "scatterpolar"
           }
          ],
          "scatterpolargl": [
           {
            "marker": {
             "colorbar": {
              "outlinewidth": 0,
              "ticks": ""
             }
            },
            "type": "scatterpolargl"
           }
          ],
          "scatterternary": [
           {
            "marker": {
             "colorbar": {
              "outlinewidth": 0,
              "ticks": ""
             }
            },
            "type": "scatterternary"
           }
          ],
          "surface": [
           {
            "colorbar": {
             "outlinewidth": 0,
             "ticks": ""
            },
            "colorscale": [
             [
              0,
              "#0d0887"
             ],
             [
              0.1111111111111111,
              "#46039f"
             ],
             [
              0.2222222222222222,
              "#7201a8"
             ],
             [
              0.3333333333333333,
              "#9c179e"
             ],
             [
              0.4444444444444444,
              "#bd3786"
             ],
             [
              0.5555555555555556,
              "#d8576b"
             ],
             [
              0.6666666666666666,
              "#ed7953"
             ],
             [
              0.7777777777777778,
              "#fb9f3a"
             ],
             [
              0.8888888888888888,
              "#fdca26"
             ],
             [
              1,
              "#f0f921"
             ]
            ],
            "type": "surface"
           }
          ],
          "table": [
           {
            "cells": {
             "fill": {
              "color": "#EBF0F8"
             },
             "line": {
              "color": "white"
             }
            },
            "header": {
             "fill": {
              "color": "#C8D4E3"
             },
             "line": {
              "color": "white"
             }
            },
            "type": "table"
           }
          ]
         },
         "layout": {
          "annotationdefaults": {
           "arrowcolor": "#2a3f5f",
           "arrowhead": 0,
           "arrowwidth": 1
          },
          "autotypenumbers": "strict",
          "coloraxis": {
           "colorbar": {
            "outlinewidth": 0,
            "ticks": ""
           }
          },
          "colorscale": {
           "diverging": [
            [
             0,
             "#8e0152"
            ],
            [
             0.1,
             "#c51b7d"
            ],
            [
             0.2,
             "#de77ae"
            ],
            [
             0.3,
             "#f1b6da"
            ],
            [
             0.4,
             "#fde0ef"
            ],
            [
             0.5,
             "#f7f7f7"
            ],
            [
             0.6,
             "#e6f5d0"
            ],
            [
             0.7,
             "#b8e186"
            ],
            [
             0.8,
             "#7fbc41"
            ],
            [
             0.9,
             "#4d9221"
            ],
            [
             1,
             "#276419"
            ]
           ],
           "sequential": [
            [
             0,
             "#0d0887"
            ],
            [
             0.1111111111111111,
             "#46039f"
            ],
            [
             0.2222222222222222,
             "#7201a8"
            ],
            [
             0.3333333333333333,
             "#9c179e"
            ],
            [
             0.4444444444444444,
             "#bd3786"
            ],
            [
             0.5555555555555556,
             "#d8576b"
            ],
            [
             0.6666666666666666,
             "#ed7953"
            ],
            [
             0.7777777777777778,
             "#fb9f3a"
            ],
            [
             0.8888888888888888,
             "#fdca26"
            ],
            [
             1,
             "#f0f921"
            ]
           ],
           "sequentialminus": [
            [
             0,
             "#0d0887"
            ],
            [
             0.1111111111111111,
             "#46039f"
            ],
            [
             0.2222222222222222,
             "#7201a8"
            ],
            [
             0.3333333333333333,
             "#9c179e"
            ],
            [
             0.4444444444444444,
             "#bd3786"
            ],
            [
             0.5555555555555556,
             "#d8576b"
            ],
            [
             0.6666666666666666,
             "#ed7953"
            ],
            [
             0.7777777777777778,
             "#fb9f3a"
            ],
            [
             0.8888888888888888,
             "#fdca26"
            ],
            [
             1,
             "#f0f921"
            ]
           ]
          },
          "colorway": [
           "#636efa",
           "#EF553B",
           "#00cc96",
           "#ab63fa",
           "#FFA15A",
           "#19d3f3",
           "#FF6692",
           "#B6E880",
           "#FF97FF",
           "#FECB52"
          ],
          "font": {
           "color": "#2a3f5f"
          },
          "geo": {
           "bgcolor": "white",
           "lakecolor": "white",
           "landcolor": "#E5ECF6",
           "showlakes": true,
           "showland": true,
           "subunitcolor": "white"
          },
          "hoverlabel": {
           "align": "left"
          },
          "hovermode": "closest",
          "mapbox": {
           "style": "light"
          },
          "paper_bgcolor": "white",
          "plot_bgcolor": "#E5ECF6",
          "polar": {
           "angularaxis": {
            "gridcolor": "white",
            "linecolor": "white",
            "ticks": ""
           },
           "bgcolor": "#E5ECF6",
           "radialaxis": {
            "gridcolor": "white",
            "linecolor": "white",
            "ticks": ""
           }
          },
          "scene": {
           "xaxis": {
            "backgroundcolor": "#E5ECF6",
            "gridcolor": "white",
            "gridwidth": 2,
            "linecolor": "white",
            "showbackground": true,
            "ticks": "",
            "zerolinecolor": "white"
           },
           "yaxis": {
            "backgroundcolor": "#E5ECF6",
            "gridcolor": "white",
            "gridwidth": 2,
            "linecolor": "white",
            "showbackground": true,
            "ticks": "",
            "zerolinecolor": "white"
           },
           "zaxis": {
            "backgroundcolor": "#E5ECF6",
            "gridcolor": "white",
            "gridwidth": 2,
            "linecolor": "white",
            "showbackground": true,
            "ticks": "",
            "zerolinecolor": "white"
           }
          },
          "shapedefaults": {
           "line": {
            "color": "#2a3f5f"
           }
          },
          "ternary": {
           "aaxis": {
            "gridcolor": "white",
            "linecolor": "white",
            "ticks": ""
           },
           "baxis": {
            "gridcolor": "white",
            "linecolor": "white",
            "ticks": ""
           },
           "bgcolor": "#E5ECF6",
           "caxis": {
            "gridcolor": "white",
            "linecolor": "white",
            "ticks": ""
           }
          },
          "title": {
           "x": 0.05
          },
          "xaxis": {
           "automargin": true,
           "gridcolor": "white",
           "linecolor": "white",
           "ticks": "",
           "title": {
            "standoff": 15
           },
           "zerolinecolor": "white",
           "zerolinewidth": 2
          },
          "yaxis": {
           "automargin": true,
           "gridcolor": "white",
           "linecolor": "white",
           "ticks": "",
           "title": {
            "standoff": 15
           },
           "zerolinecolor": "white",
           "zerolinewidth": 2
          }
         }
        },
        "xaxis": {
         "anchor": "y",
         "domain": [
          0,
          1
         ],
         "title": {
          "text": "timestamp"
         }
        },
        "yaxis": {
         "anchor": "x",
         "domain": [
          0,
          1
         ],
         "title": {
          "text": "P2"
         }
        }
       }
      },
      "text/html": [
       "<div>                            <div id=\"7d2fb00d-ff1e-42f4-9aa8-d18d2ef92607\" class=\"plotly-graph-div\" style=\"height:525px; width:100%;\"></div>            <script type=\"text/javascript\">                require([\"plotly\"], function(Plotly) {                    window.PLOTLYENV=window.PLOTLYENV || {};                                    if (document.getElementById(\"7d2fb00d-ff1e-42f4-9aa8-d18d2ef92607\")) {                    Plotly.newPlot(                        \"7d2fb00d-ff1e-42f4-9aa8-d18d2ef92607\",                        [{\"hovertemplate\":\"variable=y_test<br>timestamp=%{x}<br>P2=%{y}<extra></extra>\",\"legendgroup\":\"y_test\",\"line\":{\"color\":\"#636efa\",\"dash\":\"solid\"},\"marker\":{\"symbol\":\"circle\"},\"mode\":\"lines\",\"name\":\"y_test\",\"orientation\":\"v\",\"showlegend\":true,\"x\":[\"2018-11-22T00:00:00+03:00\",\"2018-11-22T01:00:00+03:00\",\"2018-11-22T02:00:00+03:00\",\"2018-11-22T03:00:00+03:00\",\"2018-11-22T04:00:00+03:00\",\"2018-11-22T05:00:00+03:00\",\"2018-11-22T06:00:00+03:00\",\"2018-11-22T07:00:00+03:00\",\"2018-11-22T08:00:00+03:00\",\"2018-11-22T09:00:00+03:00\",\"2018-11-22T10:00:00+03:00\",\"2018-11-22T11:00:00+03:00\",\"2018-11-22T12:00:00+03:00\",\"2018-11-22T13:00:00+03:00\",\"2018-11-22T14:00:00+03:00\",\"2018-11-22T15:00:00+03:00\",\"2018-11-22T16:00:00+03:00\",\"2018-11-22T17:00:00+03:00\",\"2018-11-22T18:00:00+03:00\",\"2018-11-22T19:00:00+03:00\",\"2018-11-22T20:00:00+03:00\",\"2018-11-22T21:00:00+03:00\",\"2018-11-22T22:00:00+03:00\",\"2018-11-22T23:00:00+03:00\",\"2018-11-23T00:00:00+03:00\",\"2018-11-23T01:00:00+03:00\",\"2018-11-23T02:00:00+03:00\",\"2018-11-23T03:00:00+03:00\",\"2018-11-23T04:00:00+03:00\",\"2018-11-23T05:00:00+03:00\",\"2018-11-23T06:00:00+03:00\",\"2018-11-23T07:00:00+03:00\",\"2018-11-23T08:00:00+03:00\",\"2018-11-23T09:00:00+03:00\",\"2018-11-23T10:00:00+03:00\",\"2018-11-23T11:00:00+03:00\",\"2018-11-23T12:00:00+03:00\",\"2018-11-23T13:00:00+03:00\",\"2018-11-23T14:00:00+03:00\",\"2018-11-23T15:00:00+03:00\",\"2018-11-23T16:00:00+03:00\",\"2018-11-23T17:00:00+03:00\",\"2018-11-23T18:00:00+03:00\",\"2018-11-23T19:00:00+03:00\",\"2018-11-23T20:00:00+03:00\",\"2018-11-23T21:00:00+03:00\",\"2018-11-23T22:00:00+03:00\",\"2018-11-23T23:00:00+03:00\",\"2018-11-24T00:00:00+03:00\",\"2018-11-24T01:00:00+03:00\",\"2018-11-24T02:00:00+03:00\",\"2018-11-24T03:00:00+03:00\",\"2018-11-24T04:00:00+03:00\",\"2018-11-24T05:00:00+03:00\",\"2018-11-24T06:00:00+03:00\",\"2018-11-24T07:00:00+03:00\",\"2018-11-24T08:00:00+03:00\",\"2018-11-24T09:00:00+03:00\",\"2018-11-24T10:00:00+03:00\",\"2018-11-24T11:00:00+03:00\",\"2018-11-24T12:00:00+03:00\",\"2018-11-24T13:00:00+03:00\",\"2018-11-24T14:00:00+03:00\",\"2018-11-24T15:00:00+03:00\",\"2018-11-24T16:00:00+03:00\",\"2018-11-24T17:00:00+03:00\",\"2018-11-24T18:00:00+03:00\",\"2018-11-24T19:00:00+03:00\",\"2018-11-24T20:00:00+03:00\",\"2018-11-24T21:00:00+03:00\",\"2018-11-24T22:00:00+03:00\",\"2018-11-24T23:00:00+03:00\",\"2018-11-25T00:00:00+03:00\",\"2018-11-25T01:00:00+03:00\",\"2018-11-25T02:00:00+03:00\",\"2018-11-25T03:00:00+03:00\",\"2018-11-25T04:00:00+03:00\",\"2018-11-25T05:00:00+03:00\",\"2018-11-25T06:00:00+03:00\",\"2018-11-25T07:00:00+03:00\",\"2018-11-25T08:00:00+03:00\",\"2018-11-25T09:00:00+03:00\",\"2018-11-25T10:00:00+03:00\",\"2018-11-25T11:00:00+03:00\",\"2018-11-25T12:00:00+03:00\",\"2018-11-25T13:00:00+03:00\",\"2018-11-25T14:00:00+03:00\",\"2018-11-25T15:00:00+03:00\",\"2018-11-25T16:00:00+03:00\",\"2018-11-25T17:00:00+03:00\",\"2018-11-25T18:00:00+03:00\",\"2018-11-25T19:00:00+03:00\",\"2018-11-25T20:00:00+03:00\",\"2018-11-25T21:00:00+03:00\",\"2018-11-25T22:00:00+03:00\",\"2018-11-25T23:00:00+03:00\",\"2018-11-26T00:00:00+03:00\",\"2018-11-26T01:00:00+03:00\",\"2018-11-26T02:00:00+03:00\",\"2018-11-26T03:00:00+03:00\",\"2018-11-26T04:00:00+03:00\",\"2018-11-26T05:00:00+03:00\",\"2018-11-26T06:00:00+03:00\",\"2018-11-26T07:00:00+03:00\",\"2018-11-26T08:00:00+03:00\",\"2018-11-26T09:00:00+03:00\",\"2018-11-26T10:00:00+03:00\",\"2018-11-26T11:00:00+03:00\",\"2018-11-26T12:00:00+03:00\",\"2018-11-26T13:00:00+03:00\",\"2018-11-26T14:00:00+03:00\",\"2018-11-26T15:00:00+03:00\",\"2018-11-26T16:00:00+03:00\",\"2018-11-26T17:00:00+03:00\",\"2018-11-26T18:00:00+03:00\",\"2018-11-26T19:00:00+03:00\",\"2018-11-26T20:00:00+03:00\",\"2018-11-26T21:00:00+03:00\",\"2018-11-26T22:00:00+03:00\",\"2018-11-26T23:00:00+03:00\",\"2018-11-27T00:00:00+03:00\",\"2018-11-27T01:00:00+03:00\",\"2018-11-27T02:00:00+03:00\",\"2018-11-27T03:00:00+03:00\",\"2018-11-27T04:00:00+03:00\",\"2018-11-27T05:00:00+03:00\",\"2018-11-27T06:00:00+03:00\",\"2018-11-27T07:00:00+03:00\",\"2018-11-27T08:00:00+03:00\",\"2018-11-27T09:00:00+03:00\",\"2018-11-27T10:00:00+03:00\",\"2018-11-27T11:00:00+03:00\",\"2018-11-27T12:00:00+03:00\",\"2018-11-27T13:00:00+03:00\",\"2018-11-27T14:00:00+03:00\",\"2018-11-27T15:00:00+03:00\",\"2018-11-27T16:00:00+03:00\",\"2018-11-27T17:00:00+03:00\",\"2018-11-27T18:00:00+03:00\",\"2018-11-27T19:00:00+03:00\",\"2018-11-27T20:00:00+03:00\",\"2018-11-27T21:00:00+03:00\",\"2018-11-27T22:00:00+03:00\",\"2018-11-27T23:00:00+03:00\",\"2018-11-28T00:00:00+03:00\",\"2018-11-28T01:00:00+03:00\",\"2018-11-28T02:00:00+03:00\",\"2018-11-28T03:00:00+03:00\",\"2018-11-28T04:00:00+03:00\",\"2018-11-28T05:00:00+03:00\",\"2018-11-28T06:00:00+03:00\",\"2018-11-28T07:00:00+03:00\",\"2018-11-28T08:00:00+03:00\",\"2018-11-28T09:00:00+03:00\",\"2018-11-28T10:00:00+03:00\",\"2018-11-28T11:00:00+03:00\",\"2018-11-28T12:00:00+03:00\",\"2018-11-28T13:00:00+03:00\",\"2018-11-28T14:00:00+03:00\",\"2018-11-28T15:00:00+03:00\",\"2018-11-28T16:00:00+03:00\",\"2018-11-28T17:00:00+03:00\",\"2018-11-28T18:00:00+03:00\",\"2018-11-28T19:00:00+03:00\",\"2018-11-28T20:00:00+03:00\",\"2018-11-28T21:00:00+03:00\",\"2018-11-28T22:00:00+03:00\",\"2018-11-28T23:00:00+03:00\",\"2018-11-29T00:00:00+03:00\",\"2018-11-29T01:00:00+03:00\",\"2018-11-29T02:00:00+03:00\",\"2018-11-29T03:00:00+03:00\",\"2018-11-29T04:00:00+03:00\",\"2018-11-29T05:00:00+03:00\",\"2018-11-29T06:00:00+03:00\",\"2018-11-29T07:00:00+03:00\",\"2018-11-29T08:00:00+03:00\",\"2018-11-29T09:00:00+03:00\",\"2018-11-29T10:00:00+03:00\",\"2018-11-29T11:00:00+03:00\",\"2018-11-29T12:00:00+03:00\",\"2018-11-29T13:00:00+03:00\",\"2018-11-29T14:00:00+03:00\",\"2018-11-29T15:00:00+03:00\",\"2018-11-29T16:00:00+03:00\",\"2018-11-29T17:00:00+03:00\",\"2018-11-29T18:00:00+03:00\",\"2018-11-29T19:00:00+03:00\",\"2018-11-29T20:00:00+03:00\",\"2018-11-29T21:00:00+03:00\",\"2018-11-29T22:00:00+03:00\",\"2018-11-29T23:00:00+03:00\",\"2018-11-30T00:00:00+03:00\",\"2018-11-30T01:00:00+03:00\",\"2018-11-30T02:00:00+03:00\",\"2018-11-30T03:00:00+03:00\",\"2018-11-30T04:00:00+03:00\",\"2018-11-30T05:00:00+03:00\",\"2018-11-30T06:00:00+03:00\",\"2018-11-30T07:00:00+03:00\",\"2018-11-30T08:00:00+03:00\",\"2018-11-30T09:00:00+03:00\",\"2018-11-30T10:00:00+03:00\",\"2018-11-30T11:00:00+03:00\",\"2018-11-30T12:00:00+03:00\",\"2018-11-30T13:00:00+03:00\",\"2018-11-30T14:00:00+03:00\",\"2018-11-30T15:00:00+03:00\",\"2018-11-30T16:00:00+03:00\",\"2018-11-30T17:00:00+03:00\",\"2018-11-30T18:00:00+03:00\",\"2018-11-30T19:00:00+03:00\",\"2018-11-30T20:00:00+03:00\",\"2018-11-30T21:00:00+03:00\",\"2018-11-30T22:00:00+03:00\",\"2018-11-30T23:00:00+03:00\",\"2018-12-01T00:00:00+03:00\",\"2018-12-01T01:00:00+03:00\",\"2018-12-01T02:00:00+03:00\"],\"xaxis\":\"x\",\"y\":[21.4225,12.85125,9.299999999999999,7.7508333333333335,6.8447826086956525,7.28125,9.62,17.927916666666665,24.361666666666665,12.754347826086958,9.60608695652174,8.861666666666666,7.53,7.0978260869565215,6.01125,5.690909090909091,6.990833333333334,8.044782608695652,9.055,9.384545454545455,9.72125,10.140833333333333,10.951739130434783,10.212916666666667,8.735,8.051250000000001,7.572500000000001,7.6570833333333335,8.060833333333333,8.29,10.769583333333335,18.683333333333334,14.784166666666666,11.460833333333333,10.114347826086956,9.1975,14.928095238095239,59.33941176470588,20.500833333333333,11.261304347826087,7.635416666666667,7.374583333333334,16.940833333333334,12.8025,10.803333333333335,10.4325,9.105,8.665217391304349,7.802083333333333,8.804166666666665,7.639166666666667,7.407916666666666,7.2562500000000005,9.2575,16.51478260869565,18.369565217391305,19.496521739130436,19.468333333333334,10.659583333333334,8.720416666666667,7.7225,7.19125,6.490869565217391,6.167368421052632,6.384583333333333,9.091739130434783,8.816521739130435,11.151904761904762,11.206249999999999,16.110869565217392,34.444782608695654,29.04125,20.266666666666666,16.605833333333333,10.57304347826087,9.623478260869565,9.706666666666667,8.284583333333332,10.808750000000002,25.508750000000003,27.598260869565216,19.05375,31.73,14.468333333333334,11.181666666666667,7.8116666666666665,4.456666666666666,12.829583333333334,22.300833333333333,25.6425,12.367826086956521,9.134782608695652,6.482499999999999,5.5874999999999995,5.645833333333333,6.957272727272727,6.412916666666667,9.854166666666666,8.177083333333334,7.689130434782609,5.15875,5.882083333333333,7.437916666666666,10.667727272727273,7.115714285714286,6.708333333333333,5.940416666666667,7.457777777777778,4.742916666666667,11.714,27.635833333333334,8.885909090909092,5.915,5.4714285714285715,5.8786956521739135,7.062916666666666,8.772272727272728,8.278333333333334,8.473333333333334,10.024,7.566666666666666,6.7250000000000005,8.554166666666667,7.039166666666667,7.56375,6.95,10.039583333333333,11.891304347826088,9.004999999999999,6.14,11.219565217391304,7.326250000000001,5.347391304347826,4.655,4.005,3.9400000000000004,4.9437500000000005,5.896249999999999,8.200000000000001,9.19909090909091,9.1525,10.805,12.926521739130434,7.968333333333334,7.260416666666667,7.52375,8.486521739130435,8.880416666666667,13.530416666666667,13.46125,12.91375,13.056363636363637,11.760416666666666,8.91625,5.867391304347826,9.607916666666666,7.205,6.031666666666666,4.505454545454546,5.725217391304348,6.9925,6.717142857142857,7.695,10.85,13.576521739130435,13.458571428571428,11.01909090909091,8.98952380952381,8.328125,8.506,9.423913043478262,9.881818181818183,9.290833333333333,9.271666666666667,11.868181818181819,15.6895,15.407058823529413,14.487499999999999,12.345,11.348125,7.944583333333333,6.5042857142857144,6.544999999999999,6.949166666666667,7.9695833333333335,9.3225,10.439583333333333,12.096521739130436,12.969999999999999,13.8125,13.950416666666667,13.0025,12.235,11.258181818181818,9.835833333333333,9.484583333333333,9.049999999999999,9.230416666666667,9.6925,9.276818181818182,9.268333333333333,9.165217391304349,7.507083333333334,7.07,6.698181818181819,5.735,5.421666666666667,5.102083333333334,5.902916666666666,6.820434782608696,8.737391304347826,11.3825,11.412083333333333,23.234117647058824,16.074210526315788,31.839444444444446,17.252105263157897,12.72,10.854736842105263],\"yaxis\":\"y\",\"type\":\"scatter\"},{\"hovertemplate\":\"variable=y_pred<br>timestamp=%{x}<br>P2=%{y}<extra></extra>\",\"legendgroup\":\"y_pred\",\"line\":{\"color\":\"#EF553B\",\"dash\":\"solid\"},\"marker\":{\"symbol\":\"circle\"},\"mode\":\"lines\",\"name\":\"y_pred\",\"orientation\":\"v\",\"showlegend\":true,\"x\":[\"2018-11-22T00:00:00+03:00\",\"2018-11-22T01:00:00+03:00\",\"2018-11-22T02:00:00+03:00\",\"2018-11-22T03:00:00+03:00\",\"2018-11-22T04:00:00+03:00\",\"2018-11-22T05:00:00+03:00\",\"2018-11-22T06:00:00+03:00\",\"2018-11-22T07:00:00+03:00\",\"2018-11-22T08:00:00+03:00\",\"2018-11-22T09:00:00+03:00\",\"2018-11-22T10:00:00+03:00\",\"2018-11-22T11:00:00+03:00\",\"2018-11-22T12:00:00+03:00\",\"2018-11-22T13:00:00+03:00\",\"2018-11-22T14:00:00+03:00\",\"2018-11-22T15:00:00+03:00\",\"2018-11-22T16:00:00+03:00\",\"2018-11-22T17:00:00+03:00\",\"2018-11-22T18:00:00+03:00\",\"2018-11-22T19:00:00+03:00\",\"2018-11-22T20:00:00+03:00\",\"2018-11-22T21:00:00+03:00\",\"2018-11-22T22:00:00+03:00\",\"2018-11-22T23:00:00+03:00\",\"2018-11-23T00:00:00+03:00\",\"2018-11-23T01:00:00+03:00\",\"2018-11-23T02:00:00+03:00\",\"2018-11-23T03:00:00+03:00\",\"2018-11-23T04:00:00+03:00\",\"2018-11-23T05:00:00+03:00\",\"2018-11-23T06:00:00+03:00\",\"2018-11-23T07:00:00+03:00\",\"2018-11-23T08:00:00+03:00\",\"2018-11-23T09:00:00+03:00\",\"2018-11-23T10:00:00+03:00\",\"2018-11-23T11:00:00+03:00\",\"2018-11-23T12:00:00+03:00\",\"2018-11-23T13:00:00+03:00\",\"2018-11-23T14:00:00+03:00\",\"2018-11-23T15:00:00+03:00\",\"2018-11-23T16:00:00+03:00\",\"2018-11-23T17:00:00+03:00\",\"2018-11-23T18:00:00+03:00\",\"2018-11-23T19:00:00+03:00\",\"2018-11-23T20:00:00+03:00\",\"2018-11-23T21:00:00+03:00\",\"2018-11-23T22:00:00+03:00\",\"2018-11-23T23:00:00+03:00\",\"2018-11-24T00:00:00+03:00\",\"2018-11-24T01:00:00+03:00\",\"2018-11-24T02:00:00+03:00\",\"2018-11-24T03:00:00+03:00\",\"2018-11-24T04:00:00+03:00\",\"2018-11-24T05:00:00+03:00\",\"2018-11-24T06:00:00+03:00\",\"2018-11-24T07:00:00+03:00\",\"2018-11-24T08:00:00+03:00\",\"2018-11-24T09:00:00+03:00\",\"2018-11-24T10:00:00+03:00\",\"2018-11-24T11:00:00+03:00\",\"2018-11-24T12:00:00+03:00\",\"2018-11-24T13:00:00+03:00\",\"2018-11-24T14:00:00+03:00\",\"2018-11-24T15:00:00+03:00\",\"2018-11-24T16:00:00+03:00\",\"2018-11-24T17:00:00+03:00\",\"2018-11-24T18:00:00+03:00\",\"2018-11-24T19:00:00+03:00\",\"2018-11-24T20:00:00+03:00\",\"2018-11-24T21:00:00+03:00\",\"2018-11-24T22:00:00+03:00\",\"2018-11-24T23:00:00+03:00\",\"2018-11-25T00:00:00+03:00\",\"2018-11-25T01:00:00+03:00\",\"2018-11-25T02:00:00+03:00\",\"2018-11-25T03:00:00+03:00\",\"2018-11-25T04:00:00+03:00\",\"2018-11-25T05:00:00+03:00\",\"2018-11-25T06:00:00+03:00\",\"2018-11-25T07:00:00+03:00\",\"2018-11-25T08:00:00+03:00\",\"2018-11-25T09:00:00+03:00\",\"2018-11-25T10:00:00+03:00\",\"2018-11-25T11:00:00+03:00\",\"2018-11-25T12:00:00+03:00\",\"2018-11-25T13:00:00+03:00\",\"2018-11-25T14:00:00+03:00\",\"2018-11-25T15:00:00+03:00\",\"2018-11-25T16:00:00+03:00\",\"2018-11-25T17:00:00+03:00\",\"2018-11-25T18:00:00+03:00\",\"2018-11-25T19:00:00+03:00\",\"2018-11-25T20:00:00+03:00\",\"2018-11-25T21:00:00+03:00\",\"2018-11-25T22:00:00+03:00\",\"2018-11-25T23:00:00+03:00\",\"2018-11-26T00:00:00+03:00\",\"2018-11-26T01:00:00+03:00\",\"2018-11-26T02:00:00+03:00\",\"2018-11-26T03:00:00+03:00\",\"2018-11-26T04:00:00+03:00\",\"2018-11-26T05:00:00+03:00\",\"2018-11-26T06:00:00+03:00\",\"2018-11-26T07:00:00+03:00\",\"2018-11-26T08:00:00+03:00\",\"2018-11-26T09:00:00+03:00\",\"2018-11-26T10:00:00+03:00\",\"2018-11-26T11:00:00+03:00\",\"2018-11-26T12:00:00+03:00\",\"2018-11-26T13:00:00+03:00\",\"2018-11-26T14:00:00+03:00\",\"2018-11-26T15:00:00+03:00\",\"2018-11-26T16:00:00+03:00\",\"2018-11-26T17:00:00+03:00\",\"2018-11-26T18:00:00+03:00\",\"2018-11-26T19:00:00+03:00\",\"2018-11-26T20:00:00+03:00\",\"2018-11-26T21:00:00+03:00\",\"2018-11-26T22:00:00+03:00\",\"2018-11-26T23:00:00+03:00\",\"2018-11-27T00:00:00+03:00\",\"2018-11-27T01:00:00+03:00\",\"2018-11-27T02:00:00+03:00\",\"2018-11-27T03:00:00+03:00\",\"2018-11-27T04:00:00+03:00\",\"2018-11-27T05:00:00+03:00\",\"2018-11-27T06:00:00+03:00\",\"2018-11-27T07:00:00+03:00\",\"2018-11-27T08:00:00+03:00\",\"2018-11-27T09:00:00+03:00\",\"2018-11-27T10:00:00+03:00\",\"2018-11-27T11:00:00+03:00\",\"2018-11-27T12:00:00+03:00\",\"2018-11-27T13:00:00+03:00\",\"2018-11-27T14:00:00+03:00\",\"2018-11-27T15:00:00+03:00\",\"2018-11-27T16:00:00+03:00\",\"2018-11-27T17:00:00+03:00\",\"2018-11-27T18:00:00+03:00\",\"2018-11-27T19:00:00+03:00\",\"2018-11-27T20:00:00+03:00\",\"2018-11-27T21:00:00+03:00\",\"2018-11-27T22:00:00+03:00\",\"2018-11-27T23:00:00+03:00\",\"2018-11-28T00:00:00+03:00\",\"2018-11-28T01:00:00+03:00\",\"2018-11-28T02:00:00+03:00\",\"2018-11-28T03:00:00+03:00\",\"2018-11-28T04:00:00+03:00\",\"2018-11-28T05:00:00+03:00\",\"2018-11-28T06:00:00+03:00\",\"2018-11-28T07:00:00+03:00\",\"2018-11-28T08:00:00+03:00\",\"2018-11-28T09:00:00+03:00\",\"2018-11-28T10:00:00+03:00\",\"2018-11-28T11:00:00+03:00\",\"2018-11-28T12:00:00+03:00\",\"2018-11-28T13:00:00+03:00\",\"2018-11-28T14:00:00+03:00\",\"2018-11-28T15:00:00+03:00\",\"2018-11-28T16:00:00+03:00\",\"2018-11-28T17:00:00+03:00\",\"2018-11-28T18:00:00+03:00\",\"2018-11-28T19:00:00+03:00\",\"2018-11-28T20:00:00+03:00\",\"2018-11-28T21:00:00+03:00\",\"2018-11-28T22:00:00+03:00\",\"2018-11-28T23:00:00+03:00\",\"2018-11-29T00:00:00+03:00\",\"2018-11-29T01:00:00+03:00\",\"2018-11-29T02:00:00+03:00\",\"2018-11-29T03:00:00+03:00\",\"2018-11-29T04:00:00+03:00\",\"2018-11-29T05:00:00+03:00\",\"2018-11-29T06:00:00+03:00\",\"2018-11-29T07:00:00+03:00\",\"2018-11-29T08:00:00+03:00\",\"2018-11-29T09:00:00+03:00\",\"2018-11-29T10:00:00+03:00\",\"2018-11-29T11:00:00+03:00\",\"2018-11-29T12:00:00+03:00\",\"2018-11-29T13:00:00+03:00\",\"2018-11-29T14:00:00+03:00\",\"2018-11-29T15:00:00+03:00\",\"2018-11-29T16:00:00+03:00\",\"2018-11-29T17:00:00+03:00\",\"2018-11-29T18:00:00+03:00\",\"2018-11-29T19:00:00+03:00\",\"2018-11-29T20:00:00+03:00\",\"2018-11-29T21:00:00+03:00\",\"2018-11-29T22:00:00+03:00\",\"2018-11-29T23:00:00+03:00\",\"2018-11-30T00:00:00+03:00\",\"2018-11-30T01:00:00+03:00\",\"2018-11-30T02:00:00+03:00\",\"2018-11-30T03:00:00+03:00\",\"2018-11-30T04:00:00+03:00\",\"2018-11-30T05:00:00+03:00\",\"2018-11-30T06:00:00+03:00\",\"2018-11-30T07:00:00+03:00\",\"2018-11-30T08:00:00+03:00\",\"2018-11-30T09:00:00+03:00\",\"2018-11-30T10:00:00+03:00\",\"2018-11-30T11:00:00+03:00\",\"2018-11-30T12:00:00+03:00\",\"2018-11-30T13:00:00+03:00\",\"2018-11-30T14:00:00+03:00\",\"2018-11-30T15:00:00+03:00\",\"2018-11-30T16:00:00+03:00\",\"2018-11-30T17:00:00+03:00\",\"2018-11-30T18:00:00+03:00\",\"2018-11-30T19:00:00+03:00\",\"2018-11-30T20:00:00+03:00\",\"2018-11-30T21:00:00+03:00\",\"2018-11-30T22:00:00+03:00\",\"2018-11-30T23:00:00+03:00\",\"2018-12-01T00:00:00+03:00\",\"2018-12-01T01:00:00+03:00\",\"2018-12-01T02:00:00+03:00\"],\"xaxis\":\"x\",\"y\":[18.671845613001672,12.917800438654968,12.356154276838094,10.840716838260043,9.519359047180599,9.651733215540018,10.202403595501961,11.006579186301527,13.285787269851207,13.510765169814205,12.65208806914088,12.686290275960024,12.811515807079576,11.869491954853595,10.864496093221364,10.47617937062199,9.936922657492545,9.631881008054288,10.321558968193,10.254055446171293,10.277325291417146,11.083456042456985,11.503539284290976,11.892177203231762,13.05080563731846,12.231541708964334,11.209002475022118,11.003826509919065,10.676666408984174,10.359590719757863,10.485502771783699,10.811721488641894,11.134896027184066,11.579588185163812,11.815710714844466,11.75105240690751,11.70366522119535,11.630258945082357,11.298905802566178,10.989637411429864,10.871376059409,10.725401924980517,10.69152554057984,10.87056149258101,10.936330950595826,11.053672353202641,11.314932059559261,11.441527200117768,11.470194394121538,11.488265820687962,11.295258527224513,11.073318876459142,10.974378439927749,10.897097102618606,10.851570604047899,10.920431932600287,11.048972900376416,11.162044202667673,11.273732487867804,11.344243710196624,11.331732144054818,11.291236466606232,11.233831821921964,11.128336859242216,11.039459238098107,11.003244979276381,10.980101328545638,10.993526432882135,11.053517339517574,11.105608473537348,11.160838772616664,11.222397546046107,11.242813186769816,11.225804537273092,11.193708013973799,11.137012312915013,11.078603961128549,11.04632552786329,11.033115926112199,11.037233123632591,11.068690746552335,11.11313919708195,11.149953352553899,11.178585519143597,11.19262186398311,11.183349672278421,11.161925069229266,11.135456950673518,11.103402571254627,11.079558194731428,11.071541053373732,11.07292279854584,11.085356421101814,11.107842795494687,11.12921031390688,11.146554386921478,11.158355549702259,11.157847865873158,11.146498276679951,11.130766576617056,11.112812751777776,11.097096886427112,11.089447976999136,11.089768298825424,11.096374411774569,11.108977654310758,11.1233718769681,11.134297504415462,11.140704130122044,11.141569421481488,11.135938304803421,11.126754431765967,11.116885330183672,11.10769905688491,11.102124433124892,11.101642658854946,11.104907148641182,11.111141026367674,11.119086766864175,11.125963263831906,11.13028953556671,11.131603682881487,11.129295887457433,11.124209656645116,11.118301997088823,11.112850788922493,11.109022810859983,11.107982755926798,11.109626466679643,11.113109005067262,11.117673688219973,11.122033368810893,11.124870255098596,11.125817799594493,11.124852001021491,11.122173431512438,11.118730067665672,11.115514527748008,11.113137602066072,11.112198406372244,11.11288152647321,11.114735224610412,11.1172333678542,11.119790449710862,11.12166995332743,11.122454376139704,11.122110551148213,11.12075616520365,11.118795101729082,11.116839227151608,11.115344254914717,11.1146088140904,11.114806799689141,11.115798004880887,11.117226798375427,11.118735822198111,11.119939060948765,11.120523404007464,11.120425006410171,11.119737993916715,11.118652290742318,11.117489873093556,11.116561672688551,11.116053911090116,11.116064416368772,11.116559777509359,11.11735555300548,11.118229253957836,11.11897082754906,11.119393211417334,11.119413912699079,11.119073858039783,11.118481379003653,11.117800788603125,11.11722025568598,11.116872868232429,11.116818900400851,11.117054845775902,11.117496212009499,11.118007927136384,11.118460964784285,11.11874783186409,11.118805064102538,11.118641662496794,11.118319619911665,11.117928203383473,11.117573039367837,11.117342392531842,11.117279502679411,11.11738606334152,11.11762334483562,11.117918266416128,11.118191858238847,11.118379841963435,11.118440792626458,11.118369303815507,11.118196474555836,11.117973356870872,11.117758932671604,11.117607611603237,11.117551553792655,11.117595465447065,11.117720906605754,11.117889550689192,11.118054328445858,11.118174980358955,11.118225377093122,11.118198013485697,11.118106799342199,11.1179804468364,11.117852860633151,11.117756211434944,11.117712465447463,11.117727493525429,11.117792449298125,11.117887216087205,11.117985194760756,11.118061463140302,11.118099148269222],\"yaxis\":\"y\",\"type\":\"scatter\"}],                        {\"template\":{\"data\":{\"histogram2dcontour\":[{\"type\":\"histogram2dcontour\",\"colorbar\":{\"outlinewidth\":0,\"ticks\":\"\"},\"colorscale\":[[0.0,\"#0d0887\"],[0.1111111111111111,\"#46039f\"],[0.2222222222222222,\"#7201a8\"],[0.3333333333333333,\"#9c179e\"],[0.4444444444444444,\"#bd3786\"],[0.5555555555555556,\"#d8576b\"],[0.6666666666666666,\"#ed7953\"],[0.7777777777777778,\"#fb9f3a\"],[0.8888888888888888,\"#fdca26\"],[1.0,\"#f0f921\"]]}],\"choropleth\":[{\"type\":\"choropleth\",\"colorbar\":{\"outlinewidth\":0,\"ticks\":\"\"}}],\"histogram2d\":[{\"type\":\"histogram2d\",\"colorbar\":{\"outlinewidth\":0,\"ticks\":\"\"},\"colorscale\":[[0.0,\"#0d0887\"],[0.1111111111111111,\"#46039f\"],[0.2222222222222222,\"#7201a8\"],[0.3333333333333333,\"#9c179e\"],[0.4444444444444444,\"#bd3786\"],[0.5555555555555556,\"#d8576b\"],[0.6666666666666666,\"#ed7953\"],[0.7777777777777778,\"#fb9f3a\"],[0.8888888888888888,\"#fdca26\"],[1.0,\"#f0f921\"]]}],\"heatmap\":[{\"type\":\"heatmap\",\"colorbar\":{\"outlinewidth\":0,\"ticks\":\"\"},\"colorscale\":[[0.0,\"#0d0887\"],[0.1111111111111111,\"#46039f\"],[0.2222222222222222,\"#7201a8\"],[0.3333333333333333,\"#9c179e\"],[0.4444444444444444,\"#bd3786\"],[0.5555555555555556,\"#d8576b\"],[0.6666666666666666,\"#ed7953\"],[0.7777777777777778,\"#fb9f3a\"],[0.8888888888888888,\"#fdca26\"],[1.0,\"#f0f921\"]]}],\"heatmapgl\":[{\"type\":\"heatmapgl\",\"colorbar\":{\"outlinewidth\":0,\"ticks\":\"\"},\"colorscale\":[[0.0,\"#0d0887\"],[0.1111111111111111,\"#46039f\"],[0.2222222222222222,\"#7201a8\"],[0.3333333333333333,\"#9c179e\"],[0.4444444444444444,\"#bd3786\"],[0.5555555555555556,\"#d8576b\"],[0.6666666666666666,\"#ed7953\"],[0.7777777777777778,\"#fb9f3a\"],[0.8888888888888888,\"#fdca26\"],[1.0,\"#f0f921\"]]}],\"contourcarpet\":[{\"type\":\"contourcarpet\",\"colorbar\":{\"outlinewidth\":0,\"ticks\":\"\"}}],\"contour\":[{\"type\":\"contour\",\"colorbar\":{\"outlinewidth\":0,\"ticks\":\"\"},\"colorscale\":[[0.0,\"#0d0887\"],[0.1111111111111111,\"#46039f\"],[0.2222222222222222,\"#7201a8\"],[0.3333333333333333,\"#9c179e\"],[0.4444444444444444,\"#bd3786\"],[0.5555555555555556,\"#d8576b\"],[0.6666666666666666,\"#ed7953\"],[0.7777777777777778,\"#fb9f3a\"],[0.8888888888888888,\"#fdca26\"],[1.0,\"#f0f921\"]]}],\"surface\":[{\"type\":\"surface\",\"colorbar\":{\"outlinewidth\":0,\"ticks\":\"\"},\"colorscale\":[[0.0,\"#0d0887\"],[0.1111111111111111,\"#46039f\"],[0.2222222222222222,\"#7201a8\"],[0.3333333333333333,\"#9c179e\"],[0.4444444444444444,\"#bd3786\"],[0.5555555555555556,\"#d8576b\"],[0.6666666666666666,\"#ed7953\"],[0.7777777777777778,\"#fb9f3a\"],[0.8888888888888888,\"#fdca26\"],[1.0,\"#f0f921\"]]}],\"mesh3d\":[{\"type\":\"mesh3d\",\"colorbar\":{\"outlinewidth\":0,\"ticks\":\"\"}}],\"scatter\":[{\"fillpattern\":{\"fillmode\":\"overlay\",\"size\":10,\"solidity\":0.2},\"type\":\"scatter\"}],\"parcoords\":[{\"type\":\"parcoords\",\"line\":{\"colorbar\":{\"outlinewidth\":0,\"ticks\":\"\"}}}],\"scatterpolargl\":[{\"type\":\"scatterpolargl\",\"marker\":{\"colorbar\":{\"outlinewidth\":0,\"ticks\":\"\"}}}],\"bar\":[{\"error_x\":{\"color\":\"#2a3f5f\"},\"error_y\":{\"color\":\"#2a3f5f\"},\"marker\":{\"line\":{\"color\":\"#E5ECF6\",\"width\":0.5},\"pattern\":{\"fillmode\":\"overlay\",\"size\":10,\"solidity\":0.2}},\"type\":\"bar\"}],\"scattergeo\":[{\"type\":\"scattergeo\",\"marker\":{\"colorbar\":{\"outlinewidth\":0,\"ticks\":\"\"}}}],\"scatterpolar\":[{\"type\":\"scatterpolar\",\"marker\":{\"colorbar\":{\"outlinewidth\":0,\"ticks\":\"\"}}}],\"histogram\":[{\"marker\":{\"pattern\":{\"fillmode\":\"overlay\",\"size\":10,\"solidity\":0.2}},\"type\":\"histogram\"}],\"scattergl\":[{\"type\":\"scattergl\",\"marker\":{\"colorbar\":{\"outlinewidth\":0,\"ticks\":\"\"}}}],\"scatter3d\":[{\"type\":\"scatter3d\",\"line\":{\"colorbar\":{\"outlinewidth\":0,\"ticks\":\"\"}},\"marker\":{\"colorbar\":{\"outlinewidth\":0,\"ticks\":\"\"}}}],\"scattermapbox\":[{\"type\":\"scattermapbox\",\"marker\":{\"colorbar\":{\"outlinewidth\":0,\"ticks\":\"\"}}}],\"scatterternary\":[{\"type\":\"scatterternary\",\"marker\":{\"colorbar\":{\"outlinewidth\":0,\"ticks\":\"\"}}}],\"scattercarpet\":[{\"type\":\"scattercarpet\",\"marker\":{\"colorbar\":{\"outlinewidth\":0,\"ticks\":\"\"}}}],\"carpet\":[{\"aaxis\":{\"endlinecolor\":\"#2a3f5f\",\"gridcolor\":\"white\",\"linecolor\":\"white\",\"minorgridcolor\":\"white\",\"startlinecolor\":\"#2a3f5f\"},\"baxis\":{\"endlinecolor\":\"#2a3f5f\",\"gridcolor\":\"white\",\"linecolor\":\"white\",\"minorgridcolor\":\"white\",\"startlinecolor\":\"#2a3f5f\"},\"type\":\"carpet\"}],\"table\":[{\"cells\":{\"fill\":{\"color\":\"#EBF0F8\"},\"line\":{\"color\":\"white\"}},\"header\":{\"fill\":{\"color\":\"#C8D4E3\"},\"line\":{\"color\":\"white\"}},\"type\":\"table\"}],\"barpolar\":[{\"marker\":{\"line\":{\"color\":\"#E5ECF6\",\"width\":0.5},\"pattern\":{\"fillmode\":\"overlay\",\"size\":10,\"solidity\":0.2}},\"type\":\"barpolar\"}],\"pie\":[{\"automargin\":true,\"type\":\"pie\"}]},\"layout\":{\"autotypenumbers\":\"strict\",\"colorway\":[\"#636efa\",\"#EF553B\",\"#00cc96\",\"#ab63fa\",\"#FFA15A\",\"#19d3f3\",\"#FF6692\",\"#B6E880\",\"#FF97FF\",\"#FECB52\"],\"font\":{\"color\":\"#2a3f5f\"},\"hovermode\":\"closest\",\"hoverlabel\":{\"align\":\"left\"},\"paper_bgcolor\":\"white\",\"plot_bgcolor\":\"#E5ECF6\",\"polar\":{\"bgcolor\":\"#E5ECF6\",\"angularaxis\":{\"gridcolor\":\"white\",\"linecolor\":\"white\",\"ticks\":\"\"},\"radialaxis\":{\"gridcolor\":\"white\",\"linecolor\":\"white\",\"ticks\":\"\"}},\"ternary\":{\"bgcolor\":\"#E5ECF6\",\"aaxis\":{\"gridcolor\":\"white\",\"linecolor\":\"white\",\"ticks\":\"\"},\"baxis\":{\"gridcolor\":\"white\",\"linecolor\":\"white\",\"ticks\":\"\"},\"caxis\":{\"gridcolor\":\"white\",\"linecolor\":\"white\",\"ticks\":\"\"}},\"coloraxis\":{\"colorbar\":{\"outlinewidth\":0,\"ticks\":\"\"}},\"colorscale\":{\"sequential\":[[0.0,\"#0d0887\"],[0.1111111111111111,\"#46039f\"],[0.2222222222222222,\"#7201a8\"],[0.3333333333333333,\"#9c179e\"],[0.4444444444444444,\"#bd3786\"],[0.5555555555555556,\"#d8576b\"],[0.6666666666666666,\"#ed7953\"],[0.7777777777777778,\"#fb9f3a\"],[0.8888888888888888,\"#fdca26\"],[1.0,\"#f0f921\"]],\"sequentialminus\":[[0.0,\"#0d0887\"],[0.1111111111111111,\"#46039f\"],[0.2222222222222222,\"#7201a8\"],[0.3333333333333333,\"#9c179e\"],[0.4444444444444444,\"#bd3786\"],[0.5555555555555556,\"#d8576b\"],[0.6666666666666666,\"#ed7953\"],[0.7777777777777778,\"#fb9f3a\"],[0.8888888888888888,\"#fdca26\"],[1.0,\"#f0f921\"]],\"diverging\":[[0,\"#8e0152\"],[0.1,\"#c51b7d\"],[0.2,\"#de77ae\"],[0.3,\"#f1b6da\"],[0.4,\"#fde0ef\"],[0.5,\"#f7f7f7\"],[0.6,\"#e6f5d0\"],[0.7,\"#b8e186\"],[0.8,\"#7fbc41\"],[0.9,\"#4d9221\"],[1,\"#276419\"]]},\"xaxis\":{\"gridcolor\":\"white\",\"linecolor\":\"white\",\"ticks\":\"\",\"title\":{\"standoff\":15},\"zerolinecolor\":\"white\",\"automargin\":true,\"zerolinewidth\":2},\"yaxis\":{\"gridcolor\":\"white\",\"linecolor\":\"white\",\"ticks\":\"\",\"title\":{\"standoff\":15},\"zerolinecolor\":\"white\",\"automargin\":true,\"zerolinewidth\":2},\"scene\":{\"xaxis\":{\"backgroundcolor\":\"#E5ECF6\",\"gridcolor\":\"white\",\"linecolor\":\"white\",\"showbackground\":true,\"ticks\":\"\",\"zerolinecolor\":\"white\",\"gridwidth\":2},\"yaxis\":{\"backgroundcolor\":\"#E5ECF6\",\"gridcolor\":\"white\",\"linecolor\":\"white\",\"showbackground\":true,\"ticks\":\"\",\"zerolinecolor\":\"white\",\"gridwidth\":2},\"zaxis\":{\"backgroundcolor\":\"#E5ECF6\",\"gridcolor\":\"white\",\"linecolor\":\"white\",\"showbackground\":true,\"ticks\":\"\",\"zerolinecolor\":\"white\",\"gridwidth\":2}},\"shapedefaults\":{\"line\":{\"color\":\"#2a3f5f\"}},\"annotationdefaults\":{\"arrowcolor\":\"#2a3f5f\",\"arrowhead\":0,\"arrowwidth\":1},\"geo\":{\"bgcolor\":\"white\",\"landcolor\":\"#E5ECF6\",\"subunitcolor\":\"white\",\"showland\":true,\"showlakes\":true,\"lakecolor\":\"white\"},\"title\":{\"x\":0.05},\"mapbox\":{\"style\":\"light\"}}},\"xaxis\":{\"anchor\":\"y\",\"domain\":[0.0,1.0],\"title\":{\"text\":\"timestamp\"}},\"yaxis\":{\"anchor\":\"x\",\"domain\":[0.0,1.0],\"title\":{\"text\":\"P2\"}},\"legend\":{\"title\":{\"text\":\"variable\"},\"tracegroupgap\":0},\"margin\":{\"t\":60}},                        {\"responsive\": true}                    ).then(function(){\n",
       "                            \n",
       "var gd = document.getElementById('7d2fb00d-ff1e-42f4-9aa8-d18d2ef92607');\n",
       "var x = new MutationObserver(function (mutations, observer) {{\n",
       "        var display = window.getComputedStyle(gd).display;\n",
       "        if (!display || display === 'none') {{\n",
       "            console.log([gd, 'removed!']);\n",
       "            Plotly.purge(gd);\n",
       "            observer.disconnect();\n",
       "        }}\n",
       "}});\n",
       "\n",
       "// Listen for the removal of the full notebook cells\n",
       "var notebookContainer = gd.closest('#notebook-container');\n",
       "if (notebookContainer) {{\n",
       "    x.observe(notebookContainer, {childList: true});\n",
       "}}\n",
       "\n",
       "// Listen for the clearing of the current output cell\n",
       "var outputEl = gd.closest('.output');\n",
       "if (outputEl) {{\n",
       "    x.observe(outputEl, {childList: true});\n",
       "}}\n",
       "\n",
       "                        })                };                });            </script>        </div>"
      ]
     },
     "metadata": {},
     "output_type": "display_data"
    }
   ],
   "source": [
    "#Create a time series plot for the values in test_predictions using plotly express. \n",
    "#Be sure that the y-axis is properly labeled as \"P2\".\n",
    "fig = px.line(test_predictions, labels={\"value\": \"P2\"})\n",
    "fig.show();"
   ]
  },
  {
   "cell_type": "markdown",
   "id": "6250e452",
   "metadata": {},
   "source": [
    "- The model is not performing well because it relies on the past 26 data points for predictions. As it progresses, it starts by using 25 actual data points and one predicted point. This pattern continues until the model is entirely dependent on its own predictions rather than actual data. As a result, errors accumulate, leading to a breakdown in accuracy, which explains why the plot deteriorates."
   ]
  },
  {
   "cell_type": "markdown",
   "id": "097c612a",
   "metadata": {},
   "source": [
    "**Perform a Walk forward Validation for the entire y_test**\n"
   ]
  },
  {
   "cell_type": "code",
   "execution_count": 65,
   "id": "267b684e",
   "metadata": {},
   "outputs": [],
   "source": [
    "#Perform walk-forward validation for your model for the entire test set y_test. \n",
    "#Store your model's predictions in the Series y_pred_wfv\n",
    "y_pred_wfv = pd.Series()\n",
    "history = df_train.copy()\n",
    "for i in range(len(y_test)):\n",
    "    model = AutoReg(history, lags=26).fit()\n",
    "    next_pred = model.forecast()\n",
    "    y_pred_wfv = pd.concat([y_pred_wfv, next_pred])  \n",
    "    history = pd.concat([history, df_test.loc[next_pred.index]])"
   ]
  },
  {
   "cell_type": "code",
   "execution_count": 66,
   "id": "ce68fbdd",
   "metadata": {},
   "outputs": [
    {
     "name": "stdout",
     "output_type": "stream",
     "text": [
      "Test MAE (walk forward validation): 2.82\n"
     ]
    }
   ],
   "source": [
    "#Calculate the test mean absolute error for your model.\n",
    "test_mae = mean_absolute_error(y_test, y_pred_wfv)\n",
    "print(\"Test MAE (walk forward validation):\", round(test_mae, 2))"
   ]
  },
  {
   "cell_type": "code",
   "execution_count": 67,
   "id": "75b68db2",
   "metadata": {},
   "outputs": [
    {
     "data": {
      "application/vnd.plotly.v1+json": {
       "config": {
        "plotlyServerURL": "https://plot.ly"
       },
       "data": [
        {
         "hovertemplate": "variable=y_test<br>index=%{x}<br>PM2.5=%{y}<extra></extra>",
         "legendgroup": "y_test",
         "line": {
          "color": "#636efa",
          "dash": "solid"
         },
         "marker": {
          "symbol": "circle"
         },
         "mode": "lines",
         "name": "y_test",
         "orientation": "v",
         "showlegend": true,
         "type": "scatter",
         "x": [
          "2018-11-22T00:00:00+03:00",
          "2018-11-22T01:00:00+03:00",
          "2018-11-22T02:00:00+03:00",
          "2018-11-22T03:00:00+03:00",
          "2018-11-22T04:00:00+03:00",
          "2018-11-22T05:00:00+03:00",
          "2018-11-22T06:00:00+03:00",
          "2018-11-22T07:00:00+03:00",
          "2018-11-22T08:00:00+03:00",
          "2018-11-22T09:00:00+03:00",
          "2018-11-22T10:00:00+03:00",
          "2018-11-22T11:00:00+03:00",
          "2018-11-22T12:00:00+03:00",
          "2018-11-22T13:00:00+03:00",
          "2018-11-22T14:00:00+03:00",
          "2018-11-22T15:00:00+03:00",
          "2018-11-22T16:00:00+03:00",
          "2018-11-22T17:00:00+03:00",
          "2018-11-22T18:00:00+03:00",
          "2018-11-22T19:00:00+03:00",
          "2018-11-22T20:00:00+03:00",
          "2018-11-22T21:00:00+03:00",
          "2018-11-22T22:00:00+03:00",
          "2018-11-22T23:00:00+03:00",
          "2018-11-23T00:00:00+03:00",
          "2018-11-23T01:00:00+03:00",
          "2018-11-23T02:00:00+03:00",
          "2018-11-23T03:00:00+03:00",
          "2018-11-23T04:00:00+03:00",
          "2018-11-23T05:00:00+03:00",
          "2018-11-23T06:00:00+03:00",
          "2018-11-23T07:00:00+03:00",
          "2018-11-23T08:00:00+03:00",
          "2018-11-23T09:00:00+03:00",
          "2018-11-23T10:00:00+03:00",
          "2018-11-23T11:00:00+03:00",
          "2018-11-23T12:00:00+03:00",
          "2018-11-23T13:00:00+03:00",
          "2018-11-23T14:00:00+03:00",
          "2018-11-23T15:00:00+03:00",
          "2018-11-23T16:00:00+03:00",
          "2018-11-23T17:00:00+03:00",
          "2018-11-23T18:00:00+03:00",
          "2018-11-23T19:00:00+03:00",
          "2018-11-23T20:00:00+03:00",
          "2018-11-23T21:00:00+03:00",
          "2018-11-23T22:00:00+03:00",
          "2018-11-23T23:00:00+03:00",
          "2018-11-24T00:00:00+03:00",
          "2018-11-24T01:00:00+03:00",
          "2018-11-24T02:00:00+03:00",
          "2018-11-24T03:00:00+03:00",
          "2018-11-24T04:00:00+03:00",
          "2018-11-24T05:00:00+03:00",
          "2018-11-24T06:00:00+03:00",
          "2018-11-24T07:00:00+03:00",
          "2018-11-24T08:00:00+03:00",
          "2018-11-24T09:00:00+03:00",
          "2018-11-24T10:00:00+03:00",
          "2018-11-24T11:00:00+03:00",
          "2018-11-24T12:00:00+03:00",
          "2018-11-24T13:00:00+03:00",
          "2018-11-24T14:00:00+03:00",
          "2018-11-24T15:00:00+03:00",
          "2018-11-24T16:00:00+03:00",
          "2018-11-24T17:00:00+03:00",
          "2018-11-24T18:00:00+03:00",
          "2018-11-24T19:00:00+03:00",
          "2018-11-24T20:00:00+03:00",
          "2018-11-24T21:00:00+03:00",
          "2018-11-24T22:00:00+03:00",
          "2018-11-24T23:00:00+03:00",
          "2018-11-25T00:00:00+03:00",
          "2018-11-25T01:00:00+03:00",
          "2018-11-25T02:00:00+03:00",
          "2018-11-25T03:00:00+03:00",
          "2018-11-25T04:00:00+03:00",
          "2018-11-25T05:00:00+03:00",
          "2018-11-25T06:00:00+03:00",
          "2018-11-25T07:00:00+03:00",
          "2018-11-25T08:00:00+03:00",
          "2018-11-25T09:00:00+03:00",
          "2018-11-25T10:00:00+03:00",
          "2018-11-25T11:00:00+03:00",
          "2018-11-25T12:00:00+03:00",
          "2018-11-25T13:00:00+03:00",
          "2018-11-25T14:00:00+03:00",
          "2018-11-25T15:00:00+03:00",
          "2018-11-25T16:00:00+03:00",
          "2018-11-25T17:00:00+03:00",
          "2018-11-25T18:00:00+03:00",
          "2018-11-25T19:00:00+03:00",
          "2018-11-25T20:00:00+03:00",
          "2018-11-25T21:00:00+03:00",
          "2018-11-25T22:00:00+03:00",
          "2018-11-25T23:00:00+03:00",
          "2018-11-26T00:00:00+03:00",
          "2018-11-26T01:00:00+03:00",
          "2018-11-26T02:00:00+03:00",
          "2018-11-26T03:00:00+03:00",
          "2018-11-26T04:00:00+03:00",
          "2018-11-26T05:00:00+03:00",
          "2018-11-26T06:00:00+03:00",
          "2018-11-26T07:00:00+03:00",
          "2018-11-26T08:00:00+03:00",
          "2018-11-26T09:00:00+03:00",
          "2018-11-26T10:00:00+03:00",
          "2018-11-26T11:00:00+03:00",
          "2018-11-26T12:00:00+03:00",
          "2018-11-26T13:00:00+03:00",
          "2018-11-26T14:00:00+03:00",
          "2018-11-26T15:00:00+03:00",
          "2018-11-26T16:00:00+03:00",
          "2018-11-26T17:00:00+03:00",
          "2018-11-26T18:00:00+03:00",
          "2018-11-26T19:00:00+03:00",
          "2018-11-26T20:00:00+03:00",
          "2018-11-26T21:00:00+03:00",
          "2018-11-26T22:00:00+03:00",
          "2018-11-26T23:00:00+03:00",
          "2018-11-27T00:00:00+03:00",
          "2018-11-27T01:00:00+03:00",
          "2018-11-27T02:00:00+03:00",
          "2018-11-27T03:00:00+03:00",
          "2018-11-27T04:00:00+03:00",
          "2018-11-27T05:00:00+03:00",
          "2018-11-27T06:00:00+03:00",
          "2018-11-27T07:00:00+03:00",
          "2018-11-27T08:00:00+03:00",
          "2018-11-27T09:00:00+03:00",
          "2018-11-27T10:00:00+03:00",
          "2018-11-27T11:00:00+03:00",
          "2018-11-27T12:00:00+03:00",
          "2018-11-27T13:00:00+03:00",
          "2018-11-27T14:00:00+03:00",
          "2018-11-27T15:00:00+03:00",
          "2018-11-27T16:00:00+03:00",
          "2018-11-27T17:00:00+03:00",
          "2018-11-27T18:00:00+03:00",
          "2018-11-27T19:00:00+03:00",
          "2018-11-27T20:00:00+03:00",
          "2018-11-27T21:00:00+03:00",
          "2018-11-27T22:00:00+03:00",
          "2018-11-27T23:00:00+03:00",
          "2018-11-28T00:00:00+03:00",
          "2018-11-28T01:00:00+03:00",
          "2018-11-28T02:00:00+03:00",
          "2018-11-28T03:00:00+03:00",
          "2018-11-28T04:00:00+03:00",
          "2018-11-28T05:00:00+03:00",
          "2018-11-28T06:00:00+03:00",
          "2018-11-28T07:00:00+03:00",
          "2018-11-28T08:00:00+03:00",
          "2018-11-28T09:00:00+03:00",
          "2018-11-28T10:00:00+03:00",
          "2018-11-28T11:00:00+03:00",
          "2018-11-28T12:00:00+03:00",
          "2018-11-28T13:00:00+03:00",
          "2018-11-28T14:00:00+03:00",
          "2018-11-28T15:00:00+03:00",
          "2018-11-28T16:00:00+03:00",
          "2018-11-28T17:00:00+03:00",
          "2018-11-28T18:00:00+03:00",
          "2018-11-28T19:00:00+03:00",
          "2018-11-28T20:00:00+03:00",
          "2018-11-28T21:00:00+03:00",
          "2018-11-28T22:00:00+03:00",
          "2018-11-28T23:00:00+03:00",
          "2018-11-29T00:00:00+03:00",
          "2018-11-29T01:00:00+03:00",
          "2018-11-29T02:00:00+03:00",
          "2018-11-29T03:00:00+03:00",
          "2018-11-29T04:00:00+03:00",
          "2018-11-29T05:00:00+03:00",
          "2018-11-29T06:00:00+03:00",
          "2018-11-29T07:00:00+03:00",
          "2018-11-29T08:00:00+03:00",
          "2018-11-29T09:00:00+03:00",
          "2018-11-29T10:00:00+03:00",
          "2018-11-29T11:00:00+03:00",
          "2018-11-29T12:00:00+03:00",
          "2018-11-29T13:00:00+03:00",
          "2018-11-29T14:00:00+03:00",
          "2018-11-29T15:00:00+03:00",
          "2018-11-29T16:00:00+03:00",
          "2018-11-29T17:00:00+03:00",
          "2018-11-29T18:00:00+03:00",
          "2018-11-29T19:00:00+03:00",
          "2018-11-29T20:00:00+03:00",
          "2018-11-29T21:00:00+03:00",
          "2018-11-29T22:00:00+03:00",
          "2018-11-29T23:00:00+03:00",
          "2018-11-30T00:00:00+03:00",
          "2018-11-30T01:00:00+03:00",
          "2018-11-30T02:00:00+03:00",
          "2018-11-30T03:00:00+03:00",
          "2018-11-30T04:00:00+03:00",
          "2018-11-30T05:00:00+03:00",
          "2018-11-30T06:00:00+03:00",
          "2018-11-30T07:00:00+03:00",
          "2018-11-30T08:00:00+03:00",
          "2018-11-30T09:00:00+03:00",
          "2018-11-30T10:00:00+03:00",
          "2018-11-30T11:00:00+03:00",
          "2018-11-30T12:00:00+03:00",
          "2018-11-30T13:00:00+03:00",
          "2018-11-30T14:00:00+03:00",
          "2018-11-30T15:00:00+03:00",
          "2018-11-30T16:00:00+03:00",
          "2018-11-30T17:00:00+03:00",
          "2018-11-30T18:00:00+03:00",
          "2018-11-30T19:00:00+03:00",
          "2018-11-30T20:00:00+03:00",
          "2018-11-30T21:00:00+03:00",
          "2018-11-30T22:00:00+03:00",
          "2018-11-30T23:00:00+03:00",
          "2018-12-01T00:00:00+03:00",
          "2018-12-01T01:00:00+03:00",
          "2018-12-01T02:00:00+03:00"
         ],
         "xaxis": "x",
         "y": [
          21.4225,
          12.85125,
          9.299999999999999,
          7.7508333333333335,
          6.8447826086956525,
          7.28125,
          9.62,
          17.927916666666665,
          24.361666666666665,
          12.754347826086958,
          9.60608695652174,
          8.861666666666666,
          7.53,
          7.0978260869565215,
          6.01125,
          5.690909090909091,
          6.990833333333334,
          8.044782608695652,
          9.055,
          9.384545454545455,
          9.72125,
          10.140833333333333,
          10.951739130434783,
          10.212916666666667,
          8.735,
          8.051250000000001,
          7.572500000000001,
          7.6570833333333335,
          8.060833333333333,
          8.29,
          10.769583333333335,
          18.683333333333334,
          14.784166666666666,
          11.460833333333333,
          10.114347826086956,
          9.1975,
          14.928095238095239,
          59.33941176470588,
          20.500833333333333,
          11.261304347826087,
          7.635416666666667,
          7.374583333333334,
          16.940833333333334,
          12.8025,
          10.803333333333335,
          10.4325,
          9.105,
          8.665217391304349,
          7.802083333333333,
          8.804166666666665,
          7.639166666666667,
          7.407916666666666,
          7.2562500000000005,
          9.2575,
          16.51478260869565,
          18.369565217391305,
          19.496521739130436,
          19.468333333333334,
          10.659583333333334,
          8.720416666666667,
          7.7225,
          7.19125,
          6.490869565217391,
          6.167368421052632,
          6.384583333333333,
          9.091739130434783,
          8.816521739130435,
          11.151904761904762,
          11.206249999999999,
          16.110869565217392,
          34.444782608695654,
          29.04125,
          20.266666666666666,
          16.605833333333333,
          10.57304347826087,
          9.623478260869565,
          9.706666666666667,
          8.284583333333332,
          10.808750000000002,
          25.508750000000003,
          27.598260869565216,
          19.05375,
          31.73,
          14.468333333333334,
          11.181666666666667,
          7.8116666666666665,
          4.456666666666666,
          12.829583333333334,
          22.300833333333333,
          25.6425,
          12.367826086956521,
          9.134782608695652,
          6.482499999999999,
          5.5874999999999995,
          5.645833333333333,
          6.957272727272727,
          6.412916666666667,
          9.854166666666666,
          8.177083333333334,
          7.689130434782609,
          5.15875,
          5.882083333333333,
          7.437916666666666,
          10.667727272727273,
          7.115714285714286,
          6.708333333333333,
          5.940416666666667,
          7.457777777777778,
          4.742916666666667,
          11.714,
          27.635833333333334,
          8.885909090909092,
          5.915,
          5.4714285714285715,
          5.8786956521739135,
          7.062916666666666,
          8.772272727272728,
          8.278333333333334,
          8.473333333333334,
          10.024,
          7.566666666666666,
          6.7250000000000005,
          8.554166666666667,
          7.039166666666667,
          7.56375,
          6.95,
          10.039583333333333,
          11.891304347826088,
          9.004999999999999,
          6.14,
          11.219565217391304,
          7.326250000000001,
          5.347391304347826,
          4.655,
          4.005,
          3.9400000000000004,
          4.9437500000000005,
          5.896249999999999,
          8.200000000000001,
          9.19909090909091,
          9.1525,
          10.805,
          12.926521739130434,
          7.968333333333334,
          7.260416666666667,
          7.52375,
          8.486521739130435,
          8.880416666666667,
          13.530416666666667,
          13.46125,
          12.91375,
          13.056363636363637,
          11.760416666666666,
          8.91625,
          5.867391304347826,
          9.607916666666666,
          7.205,
          6.031666666666666,
          4.505454545454546,
          5.725217391304348,
          6.9925,
          6.717142857142857,
          7.695,
          10.85,
          13.576521739130435,
          13.458571428571428,
          11.01909090909091,
          8.98952380952381,
          8.328125,
          8.506,
          9.423913043478262,
          9.881818181818183,
          9.290833333333333,
          9.271666666666667,
          11.868181818181819,
          15.6895,
          15.407058823529413,
          14.487499999999999,
          12.345,
          11.348125,
          7.944583333333333,
          6.5042857142857144,
          6.544999999999999,
          6.949166666666667,
          7.9695833333333335,
          9.3225,
          10.439583333333333,
          12.096521739130436,
          12.969999999999999,
          13.8125,
          13.950416666666667,
          13.0025,
          12.235,
          11.258181818181818,
          9.835833333333333,
          9.484583333333333,
          9.049999999999999,
          9.230416666666667,
          9.6925,
          9.276818181818182,
          9.268333333333333,
          9.165217391304349,
          7.507083333333334,
          7.07,
          6.698181818181819,
          5.735,
          5.421666666666667,
          5.102083333333334,
          5.902916666666666,
          6.820434782608696,
          8.737391304347826,
          11.3825,
          11.412083333333333,
          23.234117647058824,
          16.074210526315788,
          31.839444444444446,
          17.252105263157897,
          12.72,
          10.854736842105263
         ],
         "yaxis": "y"
        },
        {
         "hovertemplate": "variable=y_pred_wfv<br>index=%{x}<br>PM2.5=%{y}<extra></extra>",
         "legendgroup": "y_pred_wfv",
         "line": {
          "color": "#EF553B",
          "dash": "solid"
         },
         "marker": {
          "symbol": "circle"
         },
         "mode": "lines",
         "name": "y_pred_wfv",
         "orientation": "v",
         "showlegend": true,
         "type": "scatter",
         "x": [
          "2018-11-22T00:00:00+03:00",
          "2018-11-22T01:00:00+03:00",
          "2018-11-22T02:00:00+03:00",
          "2018-11-22T03:00:00+03:00",
          "2018-11-22T04:00:00+03:00",
          "2018-11-22T05:00:00+03:00",
          "2018-11-22T06:00:00+03:00",
          "2018-11-22T07:00:00+03:00",
          "2018-11-22T08:00:00+03:00",
          "2018-11-22T09:00:00+03:00",
          "2018-11-22T10:00:00+03:00",
          "2018-11-22T11:00:00+03:00",
          "2018-11-22T12:00:00+03:00",
          "2018-11-22T13:00:00+03:00",
          "2018-11-22T14:00:00+03:00",
          "2018-11-22T15:00:00+03:00",
          "2018-11-22T16:00:00+03:00",
          "2018-11-22T17:00:00+03:00",
          "2018-11-22T18:00:00+03:00",
          "2018-11-22T19:00:00+03:00",
          "2018-11-22T20:00:00+03:00",
          "2018-11-22T21:00:00+03:00",
          "2018-11-22T22:00:00+03:00",
          "2018-11-22T23:00:00+03:00",
          "2018-11-23T00:00:00+03:00",
          "2018-11-23T01:00:00+03:00",
          "2018-11-23T02:00:00+03:00",
          "2018-11-23T03:00:00+03:00",
          "2018-11-23T04:00:00+03:00",
          "2018-11-23T05:00:00+03:00",
          "2018-11-23T06:00:00+03:00",
          "2018-11-23T07:00:00+03:00",
          "2018-11-23T08:00:00+03:00",
          "2018-11-23T09:00:00+03:00",
          "2018-11-23T10:00:00+03:00",
          "2018-11-23T11:00:00+03:00",
          "2018-11-23T12:00:00+03:00",
          "2018-11-23T13:00:00+03:00",
          "2018-11-23T14:00:00+03:00",
          "2018-11-23T15:00:00+03:00",
          "2018-11-23T16:00:00+03:00",
          "2018-11-23T17:00:00+03:00",
          "2018-11-23T18:00:00+03:00",
          "2018-11-23T19:00:00+03:00",
          "2018-11-23T20:00:00+03:00",
          "2018-11-23T21:00:00+03:00",
          "2018-11-23T22:00:00+03:00",
          "2018-11-23T23:00:00+03:00",
          "2018-11-24T00:00:00+03:00",
          "2018-11-24T01:00:00+03:00",
          "2018-11-24T02:00:00+03:00",
          "2018-11-24T03:00:00+03:00",
          "2018-11-24T04:00:00+03:00",
          "2018-11-24T05:00:00+03:00",
          "2018-11-24T06:00:00+03:00",
          "2018-11-24T07:00:00+03:00",
          "2018-11-24T08:00:00+03:00",
          "2018-11-24T09:00:00+03:00",
          "2018-11-24T10:00:00+03:00",
          "2018-11-24T11:00:00+03:00",
          "2018-11-24T12:00:00+03:00",
          "2018-11-24T13:00:00+03:00",
          "2018-11-24T14:00:00+03:00",
          "2018-11-24T15:00:00+03:00",
          "2018-11-24T16:00:00+03:00",
          "2018-11-24T17:00:00+03:00",
          "2018-11-24T18:00:00+03:00",
          "2018-11-24T19:00:00+03:00",
          "2018-11-24T20:00:00+03:00",
          "2018-11-24T21:00:00+03:00",
          "2018-11-24T22:00:00+03:00",
          "2018-11-24T23:00:00+03:00",
          "2018-11-25T00:00:00+03:00",
          "2018-11-25T01:00:00+03:00",
          "2018-11-25T02:00:00+03:00",
          "2018-11-25T03:00:00+03:00",
          "2018-11-25T04:00:00+03:00",
          "2018-11-25T05:00:00+03:00",
          "2018-11-25T06:00:00+03:00",
          "2018-11-25T07:00:00+03:00",
          "2018-11-25T08:00:00+03:00",
          "2018-11-25T09:00:00+03:00",
          "2018-11-25T10:00:00+03:00",
          "2018-11-25T11:00:00+03:00",
          "2018-11-25T12:00:00+03:00",
          "2018-11-25T13:00:00+03:00",
          "2018-11-25T14:00:00+03:00",
          "2018-11-25T15:00:00+03:00",
          "2018-11-25T16:00:00+03:00",
          "2018-11-25T17:00:00+03:00",
          "2018-11-25T18:00:00+03:00",
          "2018-11-25T19:00:00+03:00",
          "2018-11-25T20:00:00+03:00",
          "2018-11-25T21:00:00+03:00",
          "2018-11-25T22:00:00+03:00",
          "2018-11-25T23:00:00+03:00",
          "2018-11-26T00:00:00+03:00",
          "2018-11-26T01:00:00+03:00",
          "2018-11-26T02:00:00+03:00",
          "2018-11-26T03:00:00+03:00",
          "2018-11-26T04:00:00+03:00",
          "2018-11-26T05:00:00+03:00",
          "2018-11-26T06:00:00+03:00",
          "2018-11-26T07:00:00+03:00",
          "2018-11-26T08:00:00+03:00",
          "2018-11-26T09:00:00+03:00",
          "2018-11-26T10:00:00+03:00",
          "2018-11-26T11:00:00+03:00",
          "2018-11-26T12:00:00+03:00",
          "2018-11-26T13:00:00+03:00",
          "2018-11-26T14:00:00+03:00",
          "2018-11-26T15:00:00+03:00",
          "2018-11-26T16:00:00+03:00",
          "2018-11-26T17:00:00+03:00",
          "2018-11-26T18:00:00+03:00",
          "2018-11-26T19:00:00+03:00",
          "2018-11-26T20:00:00+03:00",
          "2018-11-26T21:00:00+03:00",
          "2018-11-26T22:00:00+03:00",
          "2018-11-26T23:00:00+03:00",
          "2018-11-27T00:00:00+03:00",
          "2018-11-27T01:00:00+03:00",
          "2018-11-27T02:00:00+03:00",
          "2018-11-27T03:00:00+03:00",
          "2018-11-27T04:00:00+03:00",
          "2018-11-27T05:00:00+03:00",
          "2018-11-27T06:00:00+03:00",
          "2018-11-27T07:00:00+03:00",
          "2018-11-27T08:00:00+03:00",
          "2018-11-27T09:00:00+03:00",
          "2018-11-27T10:00:00+03:00",
          "2018-11-27T11:00:00+03:00",
          "2018-11-27T12:00:00+03:00",
          "2018-11-27T13:00:00+03:00",
          "2018-11-27T14:00:00+03:00",
          "2018-11-27T15:00:00+03:00",
          "2018-11-27T16:00:00+03:00",
          "2018-11-27T17:00:00+03:00",
          "2018-11-27T18:00:00+03:00",
          "2018-11-27T19:00:00+03:00",
          "2018-11-27T20:00:00+03:00",
          "2018-11-27T21:00:00+03:00",
          "2018-11-27T22:00:00+03:00",
          "2018-11-27T23:00:00+03:00",
          "2018-11-28T00:00:00+03:00",
          "2018-11-28T01:00:00+03:00",
          "2018-11-28T02:00:00+03:00",
          "2018-11-28T03:00:00+03:00",
          "2018-11-28T04:00:00+03:00",
          "2018-11-28T05:00:00+03:00",
          "2018-11-28T06:00:00+03:00",
          "2018-11-28T07:00:00+03:00",
          "2018-11-28T08:00:00+03:00",
          "2018-11-28T09:00:00+03:00",
          "2018-11-28T10:00:00+03:00",
          "2018-11-28T11:00:00+03:00",
          "2018-11-28T12:00:00+03:00",
          "2018-11-28T13:00:00+03:00",
          "2018-11-28T14:00:00+03:00",
          "2018-11-28T15:00:00+03:00",
          "2018-11-28T16:00:00+03:00",
          "2018-11-28T17:00:00+03:00",
          "2018-11-28T18:00:00+03:00",
          "2018-11-28T19:00:00+03:00",
          "2018-11-28T20:00:00+03:00",
          "2018-11-28T21:00:00+03:00",
          "2018-11-28T22:00:00+03:00",
          "2018-11-28T23:00:00+03:00",
          "2018-11-29T00:00:00+03:00",
          "2018-11-29T01:00:00+03:00",
          "2018-11-29T02:00:00+03:00",
          "2018-11-29T03:00:00+03:00",
          "2018-11-29T04:00:00+03:00",
          "2018-11-29T05:00:00+03:00",
          "2018-11-29T06:00:00+03:00",
          "2018-11-29T07:00:00+03:00",
          "2018-11-29T08:00:00+03:00",
          "2018-11-29T09:00:00+03:00",
          "2018-11-29T10:00:00+03:00",
          "2018-11-29T11:00:00+03:00",
          "2018-11-29T12:00:00+03:00",
          "2018-11-29T13:00:00+03:00",
          "2018-11-29T14:00:00+03:00",
          "2018-11-29T15:00:00+03:00",
          "2018-11-29T16:00:00+03:00",
          "2018-11-29T17:00:00+03:00",
          "2018-11-29T18:00:00+03:00",
          "2018-11-29T19:00:00+03:00",
          "2018-11-29T20:00:00+03:00",
          "2018-11-29T21:00:00+03:00",
          "2018-11-29T22:00:00+03:00",
          "2018-11-29T23:00:00+03:00",
          "2018-11-30T00:00:00+03:00",
          "2018-11-30T01:00:00+03:00",
          "2018-11-30T02:00:00+03:00",
          "2018-11-30T03:00:00+03:00",
          "2018-11-30T04:00:00+03:00",
          "2018-11-30T05:00:00+03:00",
          "2018-11-30T06:00:00+03:00",
          "2018-11-30T07:00:00+03:00",
          "2018-11-30T08:00:00+03:00",
          "2018-11-30T09:00:00+03:00",
          "2018-11-30T10:00:00+03:00",
          "2018-11-30T11:00:00+03:00",
          "2018-11-30T12:00:00+03:00",
          "2018-11-30T13:00:00+03:00",
          "2018-11-30T14:00:00+03:00",
          "2018-11-30T15:00:00+03:00",
          "2018-11-30T16:00:00+03:00",
          "2018-11-30T17:00:00+03:00",
          "2018-11-30T18:00:00+03:00",
          "2018-11-30T19:00:00+03:00",
          "2018-11-30T20:00:00+03:00",
          "2018-11-30T21:00:00+03:00",
          "2018-11-30T22:00:00+03:00",
          "2018-11-30T23:00:00+03:00",
          "2018-12-01T00:00:00+03:00",
          "2018-12-01T01:00:00+03:00",
          "2018-12-01T02:00:00+03:00"
         ],
         "xaxis": "x",
         "y": [
          18.671845613001672,
          14.811705984835601,
          11.917063110018002,
          9.107423933331035,
          7.729007487998732,
          7.835031475862227,
          8.58040895283861,
          10.733973073500096,
          18.057385964735904,
          20.39034993607463,
          11.580902930319354,
          11.780469961229237,
          9.848465391158006,
          7.883379595824904,
          7.3409012779345355,
          7.200440164927555,
          7.46265541607568,
          8.621295293549409,
          9.625161696590826,
          9.649044091398645,
          9.872222747675716,
          10.500223724671342,
          10.528756292367403,
          11.298996000230714,
          11.324071991826465,
          8.690477897902467,
          8.09510224086133,
          8.000056828459533,
          7.846164466093607,
          9.05760537977592,
          9.856164799598256,
          11.873827785538253,
          17.50519903202124,
          13.251748304872013,
          11.024075888001283,
          10.082400562518183,
          9.161542101378448,
          12.894750413075153,
          43.1175301559752,
          10.901140711122698,
          16.156384120620192,
          8.763422358516728,
          8.494125688696823,
          14.21845228982339,
          10.856944634788341,
          12.20632672838929,
          13.406600649143048,
          12.142964495845968,
          9.591140452658749,
          9.249266987225953,
          10.092640756181453,
          8.044952894168615,
          8.633695784430353,
          8.810335538801557,
          8.746752176718832,
          14.255341926037124,
          16.410272642140992,
          14.018511003342143,
          15.729866988895871,
          11.411171999701473,
          10.899437454457285,
          11.075617003618323,
          11.544306272225116,
          5.8784152401960075,
          8.09889858666642,
          8.790989423581864,
          11.214380789667333,
          10.835169421500112,
          11.50381035427135,
          10.926016561327634,
          14.237724919134385,
          25.41068826657595,
          19.78232320542932,
          16.573983887912426,
          13.791420891311656,
          9.480382757146671,
          9.594025575020181,
          9.48678118682621,
          10.12363977206,
          13.711805241085314,
          23.258148004844077,
          22.367170516749027,
          17.272235483970753,
          25.76221597242055,
          10.805357922648968,
          12.049135388199698,
          7.139855446233226,
          5.586190373758315,
          11.944110455663788,
          18.608113084890782,
          20.362824818503675,
          12.477760600743817,
          12.972343582972641,
          8.903365643769522,
          9.536488577572818,
          9.363119628183288,
          8.454918341607618,
          8.082239062798124,
          11.482667667705993,
          8.207815564485534,
          8.408577250102208,
          7.64648972605243,
          7.517689021103722,
          9.241328467920258,
          12.741774364080785,
          8.606180246104131,
          8.859266155997318,
          8.49694073830501,
          7.336022204444889,
          5.461987869698614,
          11.634818398368665,
          21.984601950544263,
          9.011715823987668,
          10.918882705139733,
          7.162690829595982,
          6.680439643331828,
          7.5050831361427575,
          8.769288025008686,
          9.039045777554074,
          10.442950289900413,
          10.789320946676083,
          8.332403279052524,
          8.811705596036193,
          8.899576135085656,
          7.590790083339652,
          8.517279435333313,
          8.044092734344096,
          9.98022460355147,
          11.247054058008626,
          9.33894332642057,
          6.764940209372937,
          11.269405068801733,
          8.229360404822337,
          7.746941364991503,
          7.657467506279172,
          7.57633080823833,
          5.280002294463717,
          6.733899455706453,
          7.474882383936352,
          9.252664587089466,
          9.732492380735568,
          9.611440231751892,
          10.499753747850706,
          11.607392734163952,
          7.939417285510143,
          8.146256187854023,
          7.9774145612011225,
          8.820642432866066,
          9.038001249469861,
          12.934346870687193,
          12.20421006167131,
          12.850778254365173,
          12.549375776379591,
          11.060025930543313,
          9.301859169140325,
          7.668183529489671,
          9.677185532809707,
          7.638301796050599,
          7.884954869226345,
          6.494703489032046,
          7.936735552419045,
          8.559773172610324,
          8.115287786960398,
          9.038318120410445,
          11.098242841280056,
          12.332902049028567,
          11.92273717956767,
          10.449701138596357,
          8.647464233864866,
          8.469825240582715,
          8.785820954896908,
          9.714273164425109,
          10.348191830028945,
          10.606478103428374,
          10.702208885866352,
          12.014977925138263,
          14.115177003774493,
          13.43648179690403,
          12.96661814455096,
          11.368170566494452,
          11.026056131584102,
          8.073289810758746,
          7.615439795085267,
          7.684180548508332,
          8.449477043528871,
          9.345531686337452,
          10.35729571885281,
          11.298836248338933,
          12.4289936050958,
          12.513172268173747,
          12.543146013462596,
          12.144210197687261,
          11.385551158118163,
          11.071562491969111,
          10.5702040869453,
          9.774253868100798,
          9.886124307021289,
          9.835233369675173,
          10.472836131766108,
          11.059128769976057,
          10.89088793415156,
          10.636203020760405,
          10.159085393789185,
          8.658697175940857,
          8.318042519851476,
          7.600206421720623,
          7.069070055430805,
          7.0534379793010125,
          6.915246178402833,
          7.666685871772802,
          8.291438761536757,
          9.654394844394876,
          11.330511840147727,
          11.150909162320822,
          19.31599378116732,
          12.570255206508746,
          25.40067185922765,
          12.106618202471969,
          12.953377220690278
         ],
         "yaxis": "y"
        }
       ],
       "layout": {
        "legend": {
         "title": {
          "text": "variable"
         },
         "tracegroupgap": 0
        },
        "margin": {
         "t": 60
        },
        "template": {
         "data": {
          "bar": [
           {
            "error_x": {
             "color": "#2a3f5f"
            },
            "error_y": {
             "color": "#2a3f5f"
            },
            "marker": {
             "line": {
              "color": "#E5ECF6",
              "width": 0.5
             },
             "pattern": {
              "fillmode": "overlay",
              "size": 10,
              "solidity": 0.2
             }
            },
            "type": "bar"
           }
          ],
          "barpolar": [
           {
            "marker": {
             "line": {
              "color": "#E5ECF6",
              "width": 0.5
             },
             "pattern": {
              "fillmode": "overlay",
              "size": 10,
              "solidity": 0.2
             }
            },
            "type": "barpolar"
           }
          ],
          "carpet": [
           {
            "aaxis": {
             "endlinecolor": "#2a3f5f",
             "gridcolor": "white",
             "linecolor": "white",
             "minorgridcolor": "white",
             "startlinecolor": "#2a3f5f"
            },
            "baxis": {
             "endlinecolor": "#2a3f5f",
             "gridcolor": "white",
             "linecolor": "white",
             "minorgridcolor": "white",
             "startlinecolor": "#2a3f5f"
            },
            "type": "carpet"
           }
          ],
          "choropleth": [
           {
            "colorbar": {
             "outlinewidth": 0,
             "ticks": ""
            },
            "type": "choropleth"
           }
          ],
          "contour": [
           {
            "colorbar": {
             "outlinewidth": 0,
             "ticks": ""
            },
            "colorscale": [
             [
              0,
              "#0d0887"
             ],
             [
              0.1111111111111111,
              "#46039f"
             ],
             [
              0.2222222222222222,
              "#7201a8"
             ],
             [
              0.3333333333333333,
              "#9c179e"
             ],
             [
              0.4444444444444444,
              "#bd3786"
             ],
             [
              0.5555555555555556,
              "#d8576b"
             ],
             [
              0.6666666666666666,
              "#ed7953"
             ],
             [
              0.7777777777777778,
              "#fb9f3a"
             ],
             [
              0.8888888888888888,
              "#fdca26"
             ],
             [
              1,
              "#f0f921"
             ]
            ],
            "type": "contour"
           }
          ],
          "contourcarpet": [
           {
            "colorbar": {
             "outlinewidth": 0,
             "ticks": ""
            },
            "type": "contourcarpet"
           }
          ],
          "heatmap": [
           {
            "colorbar": {
             "outlinewidth": 0,
             "ticks": ""
            },
            "colorscale": [
             [
              0,
              "#0d0887"
             ],
             [
              0.1111111111111111,
              "#46039f"
             ],
             [
              0.2222222222222222,
              "#7201a8"
             ],
             [
              0.3333333333333333,
              "#9c179e"
             ],
             [
              0.4444444444444444,
              "#bd3786"
             ],
             [
              0.5555555555555556,
              "#d8576b"
             ],
             [
              0.6666666666666666,
              "#ed7953"
             ],
             [
              0.7777777777777778,
              "#fb9f3a"
             ],
             [
              0.8888888888888888,
              "#fdca26"
             ],
             [
              1,
              "#f0f921"
             ]
            ],
            "type": "heatmap"
           }
          ],
          "heatmapgl": [
           {
            "colorbar": {
             "outlinewidth": 0,
             "ticks": ""
            },
            "colorscale": [
             [
              0,
              "#0d0887"
             ],
             [
              0.1111111111111111,
              "#46039f"
             ],
             [
              0.2222222222222222,
              "#7201a8"
             ],
             [
              0.3333333333333333,
              "#9c179e"
             ],
             [
              0.4444444444444444,
              "#bd3786"
             ],
             [
              0.5555555555555556,
              "#d8576b"
             ],
             [
              0.6666666666666666,
              "#ed7953"
             ],
             [
              0.7777777777777778,
              "#fb9f3a"
             ],
             [
              0.8888888888888888,
              "#fdca26"
             ],
             [
              1,
              "#f0f921"
             ]
            ],
            "type": "heatmapgl"
           }
          ],
          "histogram": [
           {
            "marker": {
             "pattern": {
              "fillmode": "overlay",
              "size": 10,
              "solidity": 0.2
             }
            },
            "type": "histogram"
           }
          ],
          "histogram2d": [
           {
            "colorbar": {
             "outlinewidth": 0,
             "ticks": ""
            },
            "colorscale": [
             [
              0,
              "#0d0887"
             ],
             [
              0.1111111111111111,
              "#46039f"
             ],
             [
              0.2222222222222222,
              "#7201a8"
             ],
             [
              0.3333333333333333,
              "#9c179e"
             ],
             [
              0.4444444444444444,
              "#bd3786"
             ],
             [
              0.5555555555555556,
              "#d8576b"
             ],
             [
              0.6666666666666666,
              "#ed7953"
             ],
             [
              0.7777777777777778,
              "#fb9f3a"
             ],
             [
              0.8888888888888888,
              "#fdca26"
             ],
             [
              1,
              "#f0f921"
             ]
            ],
            "type": "histogram2d"
           }
          ],
          "histogram2dcontour": [
           {
            "colorbar": {
             "outlinewidth": 0,
             "ticks": ""
            },
            "colorscale": [
             [
              0,
              "#0d0887"
             ],
             [
              0.1111111111111111,
              "#46039f"
             ],
             [
              0.2222222222222222,
              "#7201a8"
             ],
             [
              0.3333333333333333,
              "#9c179e"
             ],
             [
              0.4444444444444444,
              "#bd3786"
             ],
             [
              0.5555555555555556,
              "#d8576b"
             ],
             [
              0.6666666666666666,
              "#ed7953"
             ],
             [
              0.7777777777777778,
              "#fb9f3a"
             ],
             [
              0.8888888888888888,
              "#fdca26"
             ],
             [
              1,
              "#f0f921"
             ]
            ],
            "type": "histogram2dcontour"
           }
          ],
          "mesh3d": [
           {
            "colorbar": {
             "outlinewidth": 0,
             "ticks": ""
            },
            "type": "mesh3d"
           }
          ],
          "parcoords": [
           {
            "line": {
             "colorbar": {
              "outlinewidth": 0,
              "ticks": ""
             }
            },
            "type": "parcoords"
           }
          ],
          "pie": [
           {
            "automargin": true,
            "type": "pie"
           }
          ],
          "scatter": [
           {
            "fillpattern": {
             "fillmode": "overlay",
             "size": 10,
             "solidity": 0.2
            },
            "type": "scatter"
           }
          ],
          "scatter3d": [
           {
            "line": {
             "colorbar": {
              "outlinewidth": 0,
              "ticks": ""
             }
            },
            "marker": {
             "colorbar": {
              "outlinewidth": 0,
              "ticks": ""
             }
            },
            "type": "scatter3d"
           }
          ],
          "scattercarpet": [
           {
            "marker": {
             "colorbar": {
              "outlinewidth": 0,
              "ticks": ""
             }
            },
            "type": "scattercarpet"
           }
          ],
          "scattergeo": [
           {
            "marker": {
             "colorbar": {
              "outlinewidth": 0,
              "ticks": ""
             }
            },
            "type": "scattergeo"
           }
          ],
          "scattergl": [
           {
            "marker": {
             "colorbar": {
              "outlinewidth": 0,
              "ticks": ""
             }
            },
            "type": "scattergl"
           }
          ],
          "scattermapbox": [
           {
            "marker": {
             "colorbar": {
              "outlinewidth": 0,
              "ticks": ""
             }
            },
            "type": "scattermapbox"
           }
          ],
          "scatterpolar": [
           {
            "marker": {
             "colorbar": {
              "outlinewidth": 0,
              "ticks": ""
             }
            },
            "type": "scatterpolar"
           }
          ],
          "scatterpolargl": [
           {
            "marker": {
             "colorbar": {
              "outlinewidth": 0,
              "ticks": ""
             }
            },
            "type": "scatterpolargl"
           }
          ],
          "scatterternary": [
           {
            "marker": {
             "colorbar": {
              "outlinewidth": 0,
              "ticks": ""
             }
            },
            "type": "scatterternary"
           }
          ],
          "surface": [
           {
            "colorbar": {
             "outlinewidth": 0,
             "ticks": ""
            },
            "colorscale": [
             [
              0,
              "#0d0887"
             ],
             [
              0.1111111111111111,
              "#46039f"
             ],
             [
              0.2222222222222222,
              "#7201a8"
             ],
             [
              0.3333333333333333,
              "#9c179e"
             ],
             [
              0.4444444444444444,
              "#bd3786"
             ],
             [
              0.5555555555555556,
              "#d8576b"
             ],
             [
              0.6666666666666666,
              "#ed7953"
             ],
             [
              0.7777777777777778,
              "#fb9f3a"
             ],
             [
              0.8888888888888888,
              "#fdca26"
             ],
             [
              1,
              "#f0f921"
             ]
            ],
            "type": "surface"
           }
          ],
          "table": [
           {
            "cells": {
             "fill": {
              "color": "#EBF0F8"
             },
             "line": {
              "color": "white"
             }
            },
            "header": {
             "fill": {
              "color": "#C8D4E3"
             },
             "line": {
              "color": "white"
             }
            },
            "type": "table"
           }
          ]
         },
         "layout": {
          "annotationdefaults": {
           "arrowcolor": "#2a3f5f",
           "arrowhead": 0,
           "arrowwidth": 1
          },
          "autotypenumbers": "strict",
          "coloraxis": {
           "colorbar": {
            "outlinewidth": 0,
            "ticks": ""
           }
          },
          "colorscale": {
           "diverging": [
            [
             0,
             "#8e0152"
            ],
            [
             0.1,
             "#c51b7d"
            ],
            [
             0.2,
             "#de77ae"
            ],
            [
             0.3,
             "#f1b6da"
            ],
            [
             0.4,
             "#fde0ef"
            ],
            [
             0.5,
             "#f7f7f7"
            ],
            [
             0.6,
             "#e6f5d0"
            ],
            [
             0.7,
             "#b8e186"
            ],
            [
             0.8,
             "#7fbc41"
            ],
            [
             0.9,
             "#4d9221"
            ],
            [
             1,
             "#276419"
            ]
           ],
           "sequential": [
            [
             0,
             "#0d0887"
            ],
            [
             0.1111111111111111,
             "#46039f"
            ],
            [
             0.2222222222222222,
             "#7201a8"
            ],
            [
             0.3333333333333333,
             "#9c179e"
            ],
            [
             0.4444444444444444,
             "#bd3786"
            ],
            [
             0.5555555555555556,
             "#d8576b"
            ],
            [
             0.6666666666666666,
             "#ed7953"
            ],
            [
             0.7777777777777778,
             "#fb9f3a"
            ],
            [
             0.8888888888888888,
             "#fdca26"
            ],
            [
             1,
             "#f0f921"
            ]
           ],
           "sequentialminus": [
            [
             0,
             "#0d0887"
            ],
            [
             0.1111111111111111,
             "#46039f"
            ],
            [
             0.2222222222222222,
             "#7201a8"
            ],
            [
             0.3333333333333333,
             "#9c179e"
            ],
            [
             0.4444444444444444,
             "#bd3786"
            ],
            [
             0.5555555555555556,
             "#d8576b"
            ],
            [
             0.6666666666666666,
             "#ed7953"
            ],
            [
             0.7777777777777778,
             "#fb9f3a"
            ],
            [
             0.8888888888888888,
             "#fdca26"
            ],
            [
             1,
             "#f0f921"
            ]
           ]
          },
          "colorway": [
           "#636efa",
           "#EF553B",
           "#00cc96",
           "#ab63fa",
           "#FFA15A",
           "#19d3f3",
           "#FF6692",
           "#B6E880",
           "#FF97FF",
           "#FECB52"
          ],
          "font": {
           "color": "#2a3f5f"
          },
          "geo": {
           "bgcolor": "white",
           "lakecolor": "white",
           "landcolor": "#E5ECF6",
           "showlakes": true,
           "showland": true,
           "subunitcolor": "white"
          },
          "hoverlabel": {
           "align": "left"
          },
          "hovermode": "closest",
          "mapbox": {
           "style": "light"
          },
          "paper_bgcolor": "white",
          "plot_bgcolor": "#E5ECF6",
          "polar": {
           "angularaxis": {
            "gridcolor": "white",
            "linecolor": "white",
            "ticks": ""
           },
           "bgcolor": "#E5ECF6",
           "radialaxis": {
            "gridcolor": "white",
            "linecolor": "white",
            "ticks": ""
           }
          },
          "scene": {
           "xaxis": {
            "backgroundcolor": "#E5ECF6",
            "gridcolor": "white",
            "gridwidth": 2,
            "linecolor": "white",
            "showbackground": true,
            "ticks": "",
            "zerolinecolor": "white"
           },
           "yaxis": {
            "backgroundcolor": "#E5ECF6",
            "gridcolor": "white",
            "gridwidth": 2,
            "linecolor": "white",
            "showbackground": true,
            "ticks": "",
            "zerolinecolor": "white"
           },
           "zaxis": {
            "backgroundcolor": "#E5ECF6",
            "gridcolor": "white",
            "gridwidth": 2,
            "linecolor": "white",
            "showbackground": true,
            "ticks": "",
            "zerolinecolor": "white"
           }
          },
          "shapedefaults": {
           "line": {
            "color": "#2a3f5f"
           }
          },
          "ternary": {
           "aaxis": {
            "gridcolor": "white",
            "linecolor": "white",
            "ticks": ""
           },
           "baxis": {
            "gridcolor": "white",
            "linecolor": "white",
            "ticks": ""
           },
           "bgcolor": "#E5ECF6",
           "caxis": {
            "gridcolor": "white",
            "linecolor": "white",
            "ticks": ""
           }
          },
          "title": {
           "x": 0.05
          },
          "xaxis": {
           "automargin": true,
           "gridcolor": "white",
           "linecolor": "white",
           "ticks": "",
           "title": {
            "standoff": 15
           },
           "zerolinecolor": "white",
           "zerolinewidth": 2
          },
          "yaxis": {
           "automargin": true,
           "gridcolor": "white",
           "linecolor": "white",
           "ticks": "",
           "title": {
            "standoff": 15
           },
           "zerolinecolor": "white",
           "zerolinewidth": 2
          }
         }
        },
        "xaxis": {
         "anchor": "y",
         "domain": [
          0,
          1
         ],
         "title": {
          "text": "index"
         }
        },
        "yaxis": {
         "anchor": "x",
         "domain": [
          0,
          1
         ],
         "title": {
          "text": "PM2.5"
         }
        }
       }
      },
      "text/html": [
       "<div>                            <div id=\"c0a2025b-38ea-4950-86a9-a14de38e8c7c\" class=\"plotly-graph-div\" style=\"height:525px; width:100%;\"></div>            <script type=\"text/javascript\">                require([\"plotly\"], function(Plotly) {                    window.PLOTLYENV=window.PLOTLYENV || {};                                    if (document.getElementById(\"c0a2025b-38ea-4950-86a9-a14de38e8c7c\")) {                    Plotly.newPlot(                        \"c0a2025b-38ea-4950-86a9-a14de38e8c7c\",                        [{\"hovertemplate\":\"variable=y_test<br>index=%{x}<br>PM2.5=%{y}<extra></extra>\",\"legendgroup\":\"y_test\",\"line\":{\"color\":\"#636efa\",\"dash\":\"solid\"},\"marker\":{\"symbol\":\"circle\"},\"mode\":\"lines\",\"name\":\"y_test\",\"orientation\":\"v\",\"showlegend\":true,\"x\":[\"2018-11-22T00:00:00+03:00\",\"2018-11-22T01:00:00+03:00\",\"2018-11-22T02:00:00+03:00\",\"2018-11-22T03:00:00+03:00\",\"2018-11-22T04:00:00+03:00\",\"2018-11-22T05:00:00+03:00\",\"2018-11-22T06:00:00+03:00\",\"2018-11-22T07:00:00+03:00\",\"2018-11-22T08:00:00+03:00\",\"2018-11-22T09:00:00+03:00\",\"2018-11-22T10:00:00+03:00\",\"2018-11-22T11:00:00+03:00\",\"2018-11-22T12:00:00+03:00\",\"2018-11-22T13:00:00+03:00\",\"2018-11-22T14:00:00+03:00\",\"2018-11-22T15:00:00+03:00\",\"2018-11-22T16:00:00+03:00\",\"2018-11-22T17:00:00+03:00\",\"2018-11-22T18:00:00+03:00\",\"2018-11-22T19:00:00+03:00\",\"2018-11-22T20:00:00+03:00\",\"2018-11-22T21:00:00+03:00\",\"2018-11-22T22:00:00+03:00\",\"2018-11-22T23:00:00+03:00\",\"2018-11-23T00:00:00+03:00\",\"2018-11-23T01:00:00+03:00\",\"2018-11-23T02:00:00+03:00\",\"2018-11-23T03:00:00+03:00\",\"2018-11-23T04:00:00+03:00\",\"2018-11-23T05:00:00+03:00\",\"2018-11-23T06:00:00+03:00\",\"2018-11-23T07:00:00+03:00\",\"2018-11-23T08:00:00+03:00\",\"2018-11-23T09:00:00+03:00\",\"2018-11-23T10:00:00+03:00\",\"2018-11-23T11:00:00+03:00\",\"2018-11-23T12:00:00+03:00\",\"2018-11-23T13:00:00+03:00\",\"2018-11-23T14:00:00+03:00\",\"2018-11-23T15:00:00+03:00\",\"2018-11-23T16:00:00+03:00\",\"2018-11-23T17:00:00+03:00\",\"2018-11-23T18:00:00+03:00\",\"2018-11-23T19:00:00+03:00\",\"2018-11-23T20:00:00+03:00\",\"2018-11-23T21:00:00+03:00\",\"2018-11-23T22:00:00+03:00\",\"2018-11-23T23:00:00+03:00\",\"2018-11-24T00:00:00+03:00\",\"2018-11-24T01:00:00+03:00\",\"2018-11-24T02:00:00+03:00\",\"2018-11-24T03:00:00+03:00\",\"2018-11-24T04:00:00+03:00\",\"2018-11-24T05:00:00+03:00\",\"2018-11-24T06:00:00+03:00\",\"2018-11-24T07:00:00+03:00\",\"2018-11-24T08:00:00+03:00\",\"2018-11-24T09:00:00+03:00\",\"2018-11-24T10:00:00+03:00\",\"2018-11-24T11:00:00+03:00\",\"2018-11-24T12:00:00+03:00\",\"2018-11-24T13:00:00+03:00\",\"2018-11-24T14:00:00+03:00\",\"2018-11-24T15:00:00+03:00\",\"2018-11-24T16:00:00+03:00\",\"2018-11-24T17:00:00+03:00\",\"2018-11-24T18:00:00+03:00\",\"2018-11-24T19:00:00+03:00\",\"2018-11-24T20:00:00+03:00\",\"2018-11-24T21:00:00+03:00\",\"2018-11-24T22:00:00+03:00\",\"2018-11-24T23:00:00+03:00\",\"2018-11-25T00:00:00+03:00\",\"2018-11-25T01:00:00+03:00\",\"2018-11-25T02:00:00+03:00\",\"2018-11-25T03:00:00+03:00\",\"2018-11-25T04:00:00+03:00\",\"2018-11-25T05:00:00+03:00\",\"2018-11-25T06:00:00+03:00\",\"2018-11-25T07:00:00+03:00\",\"2018-11-25T08:00:00+03:00\",\"2018-11-25T09:00:00+03:00\",\"2018-11-25T10:00:00+03:00\",\"2018-11-25T11:00:00+03:00\",\"2018-11-25T12:00:00+03:00\",\"2018-11-25T13:00:00+03:00\",\"2018-11-25T14:00:00+03:00\",\"2018-11-25T15:00:00+03:00\",\"2018-11-25T16:00:00+03:00\",\"2018-11-25T17:00:00+03:00\",\"2018-11-25T18:00:00+03:00\",\"2018-11-25T19:00:00+03:00\",\"2018-11-25T20:00:00+03:00\",\"2018-11-25T21:00:00+03:00\",\"2018-11-25T22:00:00+03:00\",\"2018-11-25T23:00:00+03:00\",\"2018-11-26T00:00:00+03:00\",\"2018-11-26T01:00:00+03:00\",\"2018-11-26T02:00:00+03:00\",\"2018-11-26T03:00:00+03:00\",\"2018-11-26T04:00:00+03:00\",\"2018-11-26T05:00:00+03:00\",\"2018-11-26T06:00:00+03:00\",\"2018-11-26T07:00:00+03:00\",\"2018-11-26T08:00:00+03:00\",\"2018-11-26T09:00:00+03:00\",\"2018-11-26T10:00:00+03:00\",\"2018-11-26T11:00:00+03:00\",\"2018-11-26T12:00:00+03:00\",\"2018-11-26T13:00:00+03:00\",\"2018-11-26T14:00:00+03:00\",\"2018-11-26T15:00:00+03:00\",\"2018-11-26T16:00:00+03:00\",\"2018-11-26T17:00:00+03:00\",\"2018-11-26T18:00:00+03:00\",\"2018-11-26T19:00:00+03:00\",\"2018-11-26T20:00:00+03:00\",\"2018-11-26T21:00:00+03:00\",\"2018-11-26T22:00:00+03:00\",\"2018-11-26T23:00:00+03:00\",\"2018-11-27T00:00:00+03:00\",\"2018-11-27T01:00:00+03:00\",\"2018-11-27T02:00:00+03:00\",\"2018-11-27T03:00:00+03:00\",\"2018-11-27T04:00:00+03:00\",\"2018-11-27T05:00:00+03:00\",\"2018-11-27T06:00:00+03:00\",\"2018-11-27T07:00:00+03:00\",\"2018-11-27T08:00:00+03:00\",\"2018-11-27T09:00:00+03:00\",\"2018-11-27T10:00:00+03:00\",\"2018-11-27T11:00:00+03:00\",\"2018-11-27T12:00:00+03:00\",\"2018-11-27T13:00:00+03:00\",\"2018-11-27T14:00:00+03:00\",\"2018-11-27T15:00:00+03:00\",\"2018-11-27T16:00:00+03:00\",\"2018-11-27T17:00:00+03:00\",\"2018-11-27T18:00:00+03:00\",\"2018-11-27T19:00:00+03:00\",\"2018-11-27T20:00:00+03:00\",\"2018-11-27T21:00:00+03:00\",\"2018-11-27T22:00:00+03:00\",\"2018-11-27T23:00:00+03:00\",\"2018-11-28T00:00:00+03:00\",\"2018-11-28T01:00:00+03:00\",\"2018-11-28T02:00:00+03:00\",\"2018-11-28T03:00:00+03:00\",\"2018-11-28T04:00:00+03:00\",\"2018-11-28T05:00:00+03:00\",\"2018-11-28T06:00:00+03:00\",\"2018-11-28T07:00:00+03:00\",\"2018-11-28T08:00:00+03:00\",\"2018-11-28T09:00:00+03:00\",\"2018-11-28T10:00:00+03:00\",\"2018-11-28T11:00:00+03:00\",\"2018-11-28T12:00:00+03:00\",\"2018-11-28T13:00:00+03:00\",\"2018-11-28T14:00:00+03:00\",\"2018-11-28T15:00:00+03:00\",\"2018-11-28T16:00:00+03:00\",\"2018-11-28T17:00:00+03:00\",\"2018-11-28T18:00:00+03:00\",\"2018-11-28T19:00:00+03:00\",\"2018-11-28T20:00:00+03:00\",\"2018-11-28T21:00:00+03:00\",\"2018-11-28T22:00:00+03:00\",\"2018-11-28T23:00:00+03:00\",\"2018-11-29T00:00:00+03:00\",\"2018-11-29T01:00:00+03:00\",\"2018-11-29T02:00:00+03:00\",\"2018-11-29T03:00:00+03:00\",\"2018-11-29T04:00:00+03:00\",\"2018-11-29T05:00:00+03:00\",\"2018-11-29T06:00:00+03:00\",\"2018-11-29T07:00:00+03:00\",\"2018-11-29T08:00:00+03:00\",\"2018-11-29T09:00:00+03:00\",\"2018-11-29T10:00:00+03:00\",\"2018-11-29T11:00:00+03:00\",\"2018-11-29T12:00:00+03:00\",\"2018-11-29T13:00:00+03:00\",\"2018-11-29T14:00:00+03:00\",\"2018-11-29T15:00:00+03:00\",\"2018-11-29T16:00:00+03:00\",\"2018-11-29T17:00:00+03:00\",\"2018-11-29T18:00:00+03:00\",\"2018-11-29T19:00:00+03:00\",\"2018-11-29T20:00:00+03:00\",\"2018-11-29T21:00:00+03:00\",\"2018-11-29T22:00:00+03:00\",\"2018-11-29T23:00:00+03:00\",\"2018-11-30T00:00:00+03:00\",\"2018-11-30T01:00:00+03:00\",\"2018-11-30T02:00:00+03:00\",\"2018-11-30T03:00:00+03:00\",\"2018-11-30T04:00:00+03:00\",\"2018-11-30T05:00:00+03:00\",\"2018-11-30T06:00:00+03:00\",\"2018-11-30T07:00:00+03:00\",\"2018-11-30T08:00:00+03:00\",\"2018-11-30T09:00:00+03:00\",\"2018-11-30T10:00:00+03:00\",\"2018-11-30T11:00:00+03:00\",\"2018-11-30T12:00:00+03:00\",\"2018-11-30T13:00:00+03:00\",\"2018-11-30T14:00:00+03:00\",\"2018-11-30T15:00:00+03:00\",\"2018-11-30T16:00:00+03:00\",\"2018-11-30T17:00:00+03:00\",\"2018-11-30T18:00:00+03:00\",\"2018-11-30T19:00:00+03:00\",\"2018-11-30T20:00:00+03:00\",\"2018-11-30T21:00:00+03:00\",\"2018-11-30T22:00:00+03:00\",\"2018-11-30T23:00:00+03:00\",\"2018-12-01T00:00:00+03:00\",\"2018-12-01T01:00:00+03:00\",\"2018-12-01T02:00:00+03:00\"],\"xaxis\":\"x\",\"y\":[21.4225,12.85125,9.299999999999999,7.7508333333333335,6.8447826086956525,7.28125,9.62,17.927916666666665,24.361666666666665,12.754347826086958,9.60608695652174,8.861666666666666,7.53,7.0978260869565215,6.01125,5.690909090909091,6.990833333333334,8.044782608695652,9.055,9.384545454545455,9.72125,10.140833333333333,10.951739130434783,10.212916666666667,8.735,8.051250000000001,7.572500000000001,7.6570833333333335,8.060833333333333,8.29,10.769583333333335,18.683333333333334,14.784166666666666,11.460833333333333,10.114347826086956,9.1975,14.928095238095239,59.33941176470588,20.500833333333333,11.261304347826087,7.635416666666667,7.374583333333334,16.940833333333334,12.8025,10.803333333333335,10.4325,9.105,8.665217391304349,7.802083333333333,8.804166666666665,7.639166666666667,7.407916666666666,7.2562500000000005,9.2575,16.51478260869565,18.369565217391305,19.496521739130436,19.468333333333334,10.659583333333334,8.720416666666667,7.7225,7.19125,6.490869565217391,6.167368421052632,6.384583333333333,9.091739130434783,8.816521739130435,11.151904761904762,11.206249999999999,16.110869565217392,34.444782608695654,29.04125,20.266666666666666,16.605833333333333,10.57304347826087,9.623478260869565,9.706666666666667,8.284583333333332,10.808750000000002,25.508750000000003,27.598260869565216,19.05375,31.73,14.468333333333334,11.181666666666667,7.8116666666666665,4.456666666666666,12.829583333333334,22.300833333333333,25.6425,12.367826086956521,9.134782608695652,6.482499999999999,5.5874999999999995,5.645833333333333,6.957272727272727,6.412916666666667,9.854166666666666,8.177083333333334,7.689130434782609,5.15875,5.882083333333333,7.437916666666666,10.667727272727273,7.115714285714286,6.708333333333333,5.940416666666667,7.457777777777778,4.742916666666667,11.714,27.635833333333334,8.885909090909092,5.915,5.4714285714285715,5.8786956521739135,7.062916666666666,8.772272727272728,8.278333333333334,8.473333333333334,10.024,7.566666666666666,6.7250000000000005,8.554166666666667,7.039166666666667,7.56375,6.95,10.039583333333333,11.891304347826088,9.004999999999999,6.14,11.219565217391304,7.326250000000001,5.347391304347826,4.655,4.005,3.9400000000000004,4.9437500000000005,5.896249999999999,8.200000000000001,9.19909090909091,9.1525,10.805,12.926521739130434,7.968333333333334,7.260416666666667,7.52375,8.486521739130435,8.880416666666667,13.530416666666667,13.46125,12.91375,13.056363636363637,11.760416666666666,8.91625,5.867391304347826,9.607916666666666,7.205,6.031666666666666,4.505454545454546,5.725217391304348,6.9925,6.717142857142857,7.695,10.85,13.576521739130435,13.458571428571428,11.01909090909091,8.98952380952381,8.328125,8.506,9.423913043478262,9.881818181818183,9.290833333333333,9.271666666666667,11.868181818181819,15.6895,15.407058823529413,14.487499999999999,12.345,11.348125,7.944583333333333,6.5042857142857144,6.544999999999999,6.949166666666667,7.9695833333333335,9.3225,10.439583333333333,12.096521739130436,12.969999999999999,13.8125,13.950416666666667,13.0025,12.235,11.258181818181818,9.835833333333333,9.484583333333333,9.049999999999999,9.230416666666667,9.6925,9.276818181818182,9.268333333333333,9.165217391304349,7.507083333333334,7.07,6.698181818181819,5.735,5.421666666666667,5.102083333333334,5.902916666666666,6.820434782608696,8.737391304347826,11.3825,11.412083333333333,23.234117647058824,16.074210526315788,31.839444444444446,17.252105263157897,12.72,10.854736842105263],\"yaxis\":\"y\",\"type\":\"scatter\"},{\"hovertemplate\":\"variable=y_pred_wfv<br>index=%{x}<br>PM2.5=%{y}<extra></extra>\",\"legendgroup\":\"y_pred_wfv\",\"line\":{\"color\":\"#EF553B\",\"dash\":\"solid\"},\"marker\":{\"symbol\":\"circle\"},\"mode\":\"lines\",\"name\":\"y_pred_wfv\",\"orientation\":\"v\",\"showlegend\":true,\"x\":[\"2018-11-22T00:00:00+03:00\",\"2018-11-22T01:00:00+03:00\",\"2018-11-22T02:00:00+03:00\",\"2018-11-22T03:00:00+03:00\",\"2018-11-22T04:00:00+03:00\",\"2018-11-22T05:00:00+03:00\",\"2018-11-22T06:00:00+03:00\",\"2018-11-22T07:00:00+03:00\",\"2018-11-22T08:00:00+03:00\",\"2018-11-22T09:00:00+03:00\",\"2018-11-22T10:00:00+03:00\",\"2018-11-22T11:00:00+03:00\",\"2018-11-22T12:00:00+03:00\",\"2018-11-22T13:00:00+03:00\",\"2018-11-22T14:00:00+03:00\",\"2018-11-22T15:00:00+03:00\",\"2018-11-22T16:00:00+03:00\",\"2018-11-22T17:00:00+03:00\",\"2018-11-22T18:00:00+03:00\",\"2018-11-22T19:00:00+03:00\",\"2018-11-22T20:00:00+03:00\",\"2018-11-22T21:00:00+03:00\",\"2018-11-22T22:00:00+03:00\",\"2018-11-22T23:00:00+03:00\",\"2018-11-23T00:00:00+03:00\",\"2018-11-23T01:00:00+03:00\",\"2018-11-23T02:00:00+03:00\",\"2018-11-23T03:00:00+03:00\",\"2018-11-23T04:00:00+03:00\",\"2018-11-23T05:00:00+03:00\",\"2018-11-23T06:00:00+03:00\",\"2018-11-23T07:00:00+03:00\",\"2018-11-23T08:00:00+03:00\",\"2018-11-23T09:00:00+03:00\",\"2018-11-23T10:00:00+03:00\",\"2018-11-23T11:00:00+03:00\",\"2018-11-23T12:00:00+03:00\",\"2018-11-23T13:00:00+03:00\",\"2018-11-23T14:00:00+03:00\",\"2018-11-23T15:00:00+03:00\",\"2018-11-23T16:00:00+03:00\",\"2018-11-23T17:00:00+03:00\",\"2018-11-23T18:00:00+03:00\",\"2018-11-23T19:00:00+03:00\",\"2018-11-23T20:00:00+03:00\",\"2018-11-23T21:00:00+03:00\",\"2018-11-23T22:00:00+03:00\",\"2018-11-23T23:00:00+03:00\",\"2018-11-24T00:00:00+03:00\",\"2018-11-24T01:00:00+03:00\",\"2018-11-24T02:00:00+03:00\",\"2018-11-24T03:00:00+03:00\",\"2018-11-24T04:00:00+03:00\",\"2018-11-24T05:00:00+03:00\",\"2018-11-24T06:00:00+03:00\",\"2018-11-24T07:00:00+03:00\",\"2018-11-24T08:00:00+03:00\",\"2018-11-24T09:00:00+03:00\",\"2018-11-24T10:00:00+03:00\",\"2018-11-24T11:00:00+03:00\",\"2018-11-24T12:00:00+03:00\",\"2018-11-24T13:00:00+03:00\",\"2018-11-24T14:00:00+03:00\",\"2018-11-24T15:00:00+03:00\",\"2018-11-24T16:00:00+03:00\",\"2018-11-24T17:00:00+03:00\",\"2018-11-24T18:00:00+03:00\",\"2018-11-24T19:00:00+03:00\",\"2018-11-24T20:00:00+03:00\",\"2018-11-24T21:00:00+03:00\",\"2018-11-24T22:00:00+03:00\",\"2018-11-24T23:00:00+03:00\",\"2018-11-25T00:00:00+03:00\",\"2018-11-25T01:00:00+03:00\",\"2018-11-25T02:00:00+03:00\",\"2018-11-25T03:00:00+03:00\",\"2018-11-25T04:00:00+03:00\",\"2018-11-25T05:00:00+03:00\",\"2018-11-25T06:00:00+03:00\",\"2018-11-25T07:00:00+03:00\",\"2018-11-25T08:00:00+03:00\",\"2018-11-25T09:00:00+03:00\",\"2018-11-25T10:00:00+03:00\",\"2018-11-25T11:00:00+03:00\",\"2018-11-25T12:00:00+03:00\",\"2018-11-25T13:00:00+03:00\",\"2018-11-25T14:00:00+03:00\",\"2018-11-25T15:00:00+03:00\",\"2018-11-25T16:00:00+03:00\",\"2018-11-25T17:00:00+03:00\",\"2018-11-25T18:00:00+03:00\",\"2018-11-25T19:00:00+03:00\",\"2018-11-25T20:00:00+03:00\",\"2018-11-25T21:00:00+03:00\",\"2018-11-25T22:00:00+03:00\",\"2018-11-25T23:00:00+03:00\",\"2018-11-26T00:00:00+03:00\",\"2018-11-26T01:00:00+03:00\",\"2018-11-26T02:00:00+03:00\",\"2018-11-26T03:00:00+03:00\",\"2018-11-26T04:00:00+03:00\",\"2018-11-26T05:00:00+03:00\",\"2018-11-26T06:00:00+03:00\",\"2018-11-26T07:00:00+03:00\",\"2018-11-26T08:00:00+03:00\",\"2018-11-26T09:00:00+03:00\",\"2018-11-26T10:00:00+03:00\",\"2018-11-26T11:00:00+03:00\",\"2018-11-26T12:00:00+03:00\",\"2018-11-26T13:00:00+03:00\",\"2018-11-26T14:00:00+03:00\",\"2018-11-26T15:00:00+03:00\",\"2018-11-26T16:00:00+03:00\",\"2018-11-26T17:00:00+03:00\",\"2018-11-26T18:00:00+03:00\",\"2018-11-26T19:00:00+03:00\",\"2018-11-26T20:00:00+03:00\",\"2018-11-26T21:00:00+03:00\",\"2018-11-26T22:00:00+03:00\",\"2018-11-26T23:00:00+03:00\",\"2018-11-27T00:00:00+03:00\",\"2018-11-27T01:00:00+03:00\",\"2018-11-27T02:00:00+03:00\",\"2018-11-27T03:00:00+03:00\",\"2018-11-27T04:00:00+03:00\",\"2018-11-27T05:00:00+03:00\",\"2018-11-27T06:00:00+03:00\",\"2018-11-27T07:00:00+03:00\",\"2018-11-27T08:00:00+03:00\",\"2018-11-27T09:00:00+03:00\",\"2018-11-27T10:00:00+03:00\",\"2018-11-27T11:00:00+03:00\",\"2018-11-27T12:00:00+03:00\",\"2018-11-27T13:00:00+03:00\",\"2018-11-27T14:00:00+03:00\",\"2018-11-27T15:00:00+03:00\",\"2018-11-27T16:00:00+03:00\",\"2018-11-27T17:00:00+03:00\",\"2018-11-27T18:00:00+03:00\",\"2018-11-27T19:00:00+03:00\",\"2018-11-27T20:00:00+03:00\",\"2018-11-27T21:00:00+03:00\",\"2018-11-27T22:00:00+03:00\",\"2018-11-27T23:00:00+03:00\",\"2018-11-28T00:00:00+03:00\",\"2018-11-28T01:00:00+03:00\",\"2018-11-28T02:00:00+03:00\",\"2018-11-28T03:00:00+03:00\",\"2018-11-28T04:00:00+03:00\",\"2018-11-28T05:00:00+03:00\",\"2018-11-28T06:00:00+03:00\",\"2018-11-28T07:00:00+03:00\",\"2018-11-28T08:00:00+03:00\",\"2018-11-28T09:00:00+03:00\",\"2018-11-28T10:00:00+03:00\",\"2018-11-28T11:00:00+03:00\",\"2018-11-28T12:00:00+03:00\",\"2018-11-28T13:00:00+03:00\",\"2018-11-28T14:00:00+03:00\",\"2018-11-28T15:00:00+03:00\",\"2018-11-28T16:00:00+03:00\",\"2018-11-28T17:00:00+03:00\",\"2018-11-28T18:00:00+03:00\",\"2018-11-28T19:00:00+03:00\",\"2018-11-28T20:00:00+03:00\",\"2018-11-28T21:00:00+03:00\",\"2018-11-28T22:00:00+03:00\",\"2018-11-28T23:00:00+03:00\",\"2018-11-29T00:00:00+03:00\",\"2018-11-29T01:00:00+03:00\",\"2018-11-29T02:00:00+03:00\",\"2018-11-29T03:00:00+03:00\",\"2018-11-29T04:00:00+03:00\",\"2018-11-29T05:00:00+03:00\",\"2018-11-29T06:00:00+03:00\",\"2018-11-29T07:00:00+03:00\",\"2018-11-29T08:00:00+03:00\",\"2018-11-29T09:00:00+03:00\",\"2018-11-29T10:00:00+03:00\",\"2018-11-29T11:00:00+03:00\",\"2018-11-29T12:00:00+03:00\",\"2018-11-29T13:00:00+03:00\",\"2018-11-29T14:00:00+03:00\",\"2018-11-29T15:00:00+03:00\",\"2018-11-29T16:00:00+03:00\",\"2018-11-29T17:00:00+03:00\",\"2018-11-29T18:00:00+03:00\",\"2018-11-29T19:00:00+03:00\",\"2018-11-29T20:00:00+03:00\",\"2018-11-29T21:00:00+03:00\",\"2018-11-29T22:00:00+03:00\",\"2018-11-29T23:00:00+03:00\",\"2018-11-30T00:00:00+03:00\",\"2018-11-30T01:00:00+03:00\",\"2018-11-30T02:00:00+03:00\",\"2018-11-30T03:00:00+03:00\",\"2018-11-30T04:00:00+03:00\",\"2018-11-30T05:00:00+03:00\",\"2018-11-30T06:00:00+03:00\",\"2018-11-30T07:00:00+03:00\",\"2018-11-30T08:00:00+03:00\",\"2018-11-30T09:00:00+03:00\",\"2018-11-30T10:00:00+03:00\",\"2018-11-30T11:00:00+03:00\",\"2018-11-30T12:00:00+03:00\",\"2018-11-30T13:00:00+03:00\",\"2018-11-30T14:00:00+03:00\",\"2018-11-30T15:00:00+03:00\",\"2018-11-30T16:00:00+03:00\",\"2018-11-30T17:00:00+03:00\",\"2018-11-30T18:00:00+03:00\",\"2018-11-30T19:00:00+03:00\",\"2018-11-30T20:00:00+03:00\",\"2018-11-30T21:00:00+03:00\",\"2018-11-30T22:00:00+03:00\",\"2018-11-30T23:00:00+03:00\",\"2018-12-01T00:00:00+03:00\",\"2018-12-01T01:00:00+03:00\",\"2018-12-01T02:00:00+03:00\"],\"xaxis\":\"x\",\"y\":[18.671845613001672,14.811705984835601,11.917063110018002,9.107423933331035,7.729007487998732,7.835031475862227,8.58040895283861,10.733973073500096,18.057385964735904,20.39034993607463,11.580902930319354,11.780469961229237,9.848465391158006,7.883379595824904,7.3409012779345355,7.200440164927555,7.46265541607568,8.621295293549409,9.625161696590826,9.649044091398645,9.872222747675716,10.500223724671342,10.528756292367403,11.298996000230714,11.324071991826465,8.690477897902467,8.09510224086133,8.000056828459533,7.846164466093607,9.05760537977592,9.856164799598256,11.873827785538253,17.50519903202124,13.251748304872013,11.024075888001283,10.082400562518183,9.161542101378448,12.894750413075153,43.1175301559752,10.901140711122698,16.156384120620192,8.763422358516728,8.494125688696823,14.21845228982339,10.856944634788341,12.20632672838929,13.406600649143048,12.142964495845968,9.591140452658749,9.249266987225953,10.092640756181453,8.044952894168615,8.633695784430353,8.810335538801557,8.746752176718832,14.255341926037124,16.410272642140992,14.018511003342143,15.729866988895871,11.411171999701473,10.899437454457285,11.075617003618323,11.544306272225116,5.8784152401960075,8.09889858666642,8.790989423581864,11.214380789667333,10.835169421500112,11.50381035427135,10.926016561327634,14.237724919134385,25.41068826657595,19.78232320542932,16.573983887912426,13.791420891311656,9.480382757146671,9.594025575020181,9.48678118682621,10.12363977206,13.711805241085314,23.258148004844077,22.367170516749027,17.272235483970753,25.76221597242055,10.805357922648968,12.049135388199698,7.139855446233226,5.586190373758315,11.944110455663788,18.608113084890782,20.362824818503675,12.477760600743817,12.972343582972641,8.903365643769522,9.536488577572818,9.363119628183288,8.454918341607618,8.082239062798124,11.482667667705993,8.207815564485534,8.408577250102208,7.64648972605243,7.517689021103722,9.241328467920258,12.741774364080785,8.606180246104131,8.859266155997318,8.49694073830501,7.336022204444889,5.461987869698614,11.634818398368665,21.984601950544263,9.011715823987668,10.918882705139733,7.162690829595982,6.680439643331828,7.5050831361427575,8.769288025008686,9.039045777554074,10.442950289900413,10.789320946676083,8.332403279052524,8.811705596036193,8.899576135085656,7.590790083339652,8.517279435333313,8.044092734344096,9.98022460355147,11.247054058008626,9.33894332642057,6.764940209372937,11.269405068801733,8.229360404822337,7.746941364991503,7.657467506279172,7.57633080823833,5.280002294463717,6.733899455706453,7.474882383936352,9.252664587089466,9.732492380735568,9.611440231751892,10.499753747850706,11.607392734163952,7.939417285510143,8.146256187854023,7.9774145612011225,8.820642432866066,9.038001249469861,12.934346870687193,12.20421006167131,12.850778254365173,12.549375776379591,11.060025930543313,9.301859169140325,7.668183529489671,9.677185532809707,7.638301796050599,7.884954869226345,6.494703489032046,7.936735552419045,8.559773172610324,8.115287786960398,9.038318120410445,11.098242841280056,12.332902049028567,11.92273717956767,10.449701138596357,8.647464233864866,8.469825240582715,8.785820954896908,9.714273164425109,10.348191830028945,10.606478103428374,10.702208885866352,12.014977925138263,14.115177003774493,13.43648179690403,12.96661814455096,11.368170566494452,11.026056131584102,8.073289810758746,7.615439795085267,7.684180548508332,8.449477043528871,9.345531686337452,10.35729571885281,11.298836248338933,12.4289936050958,12.513172268173747,12.543146013462596,12.144210197687261,11.385551158118163,11.071562491969111,10.5702040869453,9.774253868100798,9.886124307021289,9.835233369675173,10.472836131766108,11.059128769976057,10.89088793415156,10.636203020760405,10.159085393789185,8.658697175940857,8.318042519851476,7.600206421720623,7.069070055430805,7.0534379793010125,6.915246178402833,7.666685871772802,8.291438761536757,9.654394844394876,11.330511840147727,11.150909162320822,19.31599378116732,12.570255206508746,25.40067185922765,12.106618202471969,12.953377220690278],\"yaxis\":\"y\",\"type\":\"scatter\"}],                        {\"template\":{\"data\":{\"histogram2dcontour\":[{\"type\":\"histogram2dcontour\",\"colorbar\":{\"outlinewidth\":0,\"ticks\":\"\"},\"colorscale\":[[0.0,\"#0d0887\"],[0.1111111111111111,\"#46039f\"],[0.2222222222222222,\"#7201a8\"],[0.3333333333333333,\"#9c179e\"],[0.4444444444444444,\"#bd3786\"],[0.5555555555555556,\"#d8576b\"],[0.6666666666666666,\"#ed7953\"],[0.7777777777777778,\"#fb9f3a\"],[0.8888888888888888,\"#fdca26\"],[1.0,\"#f0f921\"]]}],\"choropleth\":[{\"type\":\"choropleth\",\"colorbar\":{\"outlinewidth\":0,\"ticks\":\"\"}}],\"histogram2d\":[{\"type\":\"histogram2d\",\"colorbar\":{\"outlinewidth\":0,\"ticks\":\"\"},\"colorscale\":[[0.0,\"#0d0887\"],[0.1111111111111111,\"#46039f\"],[0.2222222222222222,\"#7201a8\"],[0.3333333333333333,\"#9c179e\"],[0.4444444444444444,\"#bd3786\"],[0.5555555555555556,\"#d8576b\"],[0.6666666666666666,\"#ed7953\"],[0.7777777777777778,\"#fb9f3a\"],[0.8888888888888888,\"#fdca26\"],[1.0,\"#f0f921\"]]}],\"heatmap\":[{\"type\":\"heatmap\",\"colorbar\":{\"outlinewidth\":0,\"ticks\":\"\"},\"colorscale\":[[0.0,\"#0d0887\"],[0.1111111111111111,\"#46039f\"],[0.2222222222222222,\"#7201a8\"],[0.3333333333333333,\"#9c179e\"],[0.4444444444444444,\"#bd3786\"],[0.5555555555555556,\"#d8576b\"],[0.6666666666666666,\"#ed7953\"],[0.7777777777777778,\"#fb9f3a\"],[0.8888888888888888,\"#fdca26\"],[1.0,\"#f0f921\"]]}],\"heatmapgl\":[{\"type\":\"heatmapgl\",\"colorbar\":{\"outlinewidth\":0,\"ticks\":\"\"},\"colorscale\":[[0.0,\"#0d0887\"],[0.1111111111111111,\"#46039f\"],[0.2222222222222222,\"#7201a8\"],[0.3333333333333333,\"#9c179e\"],[0.4444444444444444,\"#bd3786\"],[0.5555555555555556,\"#d8576b\"],[0.6666666666666666,\"#ed7953\"],[0.7777777777777778,\"#fb9f3a\"],[0.8888888888888888,\"#fdca26\"],[1.0,\"#f0f921\"]]}],\"contourcarpet\":[{\"type\":\"contourcarpet\",\"colorbar\":{\"outlinewidth\":0,\"ticks\":\"\"}}],\"contour\":[{\"type\":\"contour\",\"colorbar\":{\"outlinewidth\":0,\"ticks\":\"\"},\"colorscale\":[[0.0,\"#0d0887\"],[0.1111111111111111,\"#46039f\"],[0.2222222222222222,\"#7201a8\"],[0.3333333333333333,\"#9c179e\"],[0.4444444444444444,\"#bd3786\"],[0.5555555555555556,\"#d8576b\"],[0.6666666666666666,\"#ed7953\"],[0.7777777777777778,\"#fb9f3a\"],[0.8888888888888888,\"#fdca26\"],[1.0,\"#f0f921\"]]}],\"surface\":[{\"type\":\"surface\",\"colorbar\":{\"outlinewidth\":0,\"ticks\":\"\"},\"colorscale\":[[0.0,\"#0d0887\"],[0.1111111111111111,\"#46039f\"],[0.2222222222222222,\"#7201a8\"],[0.3333333333333333,\"#9c179e\"],[0.4444444444444444,\"#bd3786\"],[0.5555555555555556,\"#d8576b\"],[0.6666666666666666,\"#ed7953\"],[0.7777777777777778,\"#fb9f3a\"],[0.8888888888888888,\"#fdca26\"],[1.0,\"#f0f921\"]]}],\"mesh3d\":[{\"type\":\"mesh3d\",\"colorbar\":{\"outlinewidth\":0,\"ticks\":\"\"}}],\"scatter\":[{\"fillpattern\":{\"fillmode\":\"overlay\",\"size\":10,\"solidity\":0.2},\"type\":\"scatter\"}],\"parcoords\":[{\"type\":\"parcoords\",\"line\":{\"colorbar\":{\"outlinewidth\":0,\"ticks\":\"\"}}}],\"scatterpolargl\":[{\"type\":\"scatterpolargl\",\"marker\":{\"colorbar\":{\"outlinewidth\":0,\"ticks\":\"\"}}}],\"bar\":[{\"error_x\":{\"color\":\"#2a3f5f\"},\"error_y\":{\"color\":\"#2a3f5f\"},\"marker\":{\"line\":{\"color\":\"#E5ECF6\",\"width\":0.5},\"pattern\":{\"fillmode\":\"overlay\",\"size\":10,\"solidity\":0.2}},\"type\":\"bar\"}],\"scattergeo\":[{\"type\":\"scattergeo\",\"marker\":{\"colorbar\":{\"outlinewidth\":0,\"ticks\":\"\"}}}],\"scatterpolar\":[{\"type\":\"scatterpolar\",\"marker\":{\"colorbar\":{\"outlinewidth\":0,\"ticks\":\"\"}}}],\"histogram\":[{\"marker\":{\"pattern\":{\"fillmode\":\"overlay\",\"size\":10,\"solidity\":0.2}},\"type\":\"histogram\"}],\"scattergl\":[{\"type\":\"scattergl\",\"marker\":{\"colorbar\":{\"outlinewidth\":0,\"ticks\":\"\"}}}],\"scatter3d\":[{\"type\":\"scatter3d\",\"line\":{\"colorbar\":{\"outlinewidth\":0,\"ticks\":\"\"}},\"marker\":{\"colorbar\":{\"outlinewidth\":0,\"ticks\":\"\"}}}],\"scattermapbox\":[{\"type\":\"scattermapbox\",\"marker\":{\"colorbar\":{\"outlinewidth\":0,\"ticks\":\"\"}}}],\"scatterternary\":[{\"type\":\"scatterternary\",\"marker\":{\"colorbar\":{\"outlinewidth\":0,\"ticks\":\"\"}}}],\"scattercarpet\":[{\"type\":\"scattercarpet\",\"marker\":{\"colorbar\":{\"outlinewidth\":0,\"ticks\":\"\"}}}],\"carpet\":[{\"aaxis\":{\"endlinecolor\":\"#2a3f5f\",\"gridcolor\":\"white\",\"linecolor\":\"white\",\"minorgridcolor\":\"white\",\"startlinecolor\":\"#2a3f5f\"},\"baxis\":{\"endlinecolor\":\"#2a3f5f\",\"gridcolor\":\"white\",\"linecolor\":\"white\",\"minorgridcolor\":\"white\",\"startlinecolor\":\"#2a3f5f\"},\"type\":\"carpet\"}],\"table\":[{\"cells\":{\"fill\":{\"color\":\"#EBF0F8\"},\"line\":{\"color\":\"white\"}},\"header\":{\"fill\":{\"color\":\"#C8D4E3\"},\"line\":{\"color\":\"white\"}},\"type\":\"table\"}],\"barpolar\":[{\"marker\":{\"line\":{\"color\":\"#E5ECF6\",\"width\":0.5},\"pattern\":{\"fillmode\":\"overlay\",\"size\":10,\"solidity\":0.2}},\"type\":\"barpolar\"}],\"pie\":[{\"automargin\":true,\"type\":\"pie\"}]},\"layout\":{\"autotypenumbers\":\"strict\",\"colorway\":[\"#636efa\",\"#EF553B\",\"#00cc96\",\"#ab63fa\",\"#FFA15A\",\"#19d3f3\",\"#FF6692\",\"#B6E880\",\"#FF97FF\",\"#FECB52\"],\"font\":{\"color\":\"#2a3f5f\"},\"hovermode\":\"closest\",\"hoverlabel\":{\"align\":\"left\"},\"paper_bgcolor\":\"white\",\"plot_bgcolor\":\"#E5ECF6\",\"polar\":{\"bgcolor\":\"#E5ECF6\",\"angularaxis\":{\"gridcolor\":\"white\",\"linecolor\":\"white\",\"ticks\":\"\"},\"radialaxis\":{\"gridcolor\":\"white\",\"linecolor\":\"white\",\"ticks\":\"\"}},\"ternary\":{\"bgcolor\":\"#E5ECF6\",\"aaxis\":{\"gridcolor\":\"white\",\"linecolor\":\"white\",\"ticks\":\"\"},\"baxis\":{\"gridcolor\":\"white\",\"linecolor\":\"white\",\"ticks\":\"\"},\"caxis\":{\"gridcolor\":\"white\",\"linecolor\":\"white\",\"ticks\":\"\"}},\"coloraxis\":{\"colorbar\":{\"outlinewidth\":0,\"ticks\":\"\"}},\"colorscale\":{\"sequential\":[[0.0,\"#0d0887\"],[0.1111111111111111,\"#46039f\"],[0.2222222222222222,\"#7201a8\"],[0.3333333333333333,\"#9c179e\"],[0.4444444444444444,\"#bd3786\"],[0.5555555555555556,\"#d8576b\"],[0.6666666666666666,\"#ed7953\"],[0.7777777777777778,\"#fb9f3a\"],[0.8888888888888888,\"#fdca26\"],[1.0,\"#f0f921\"]],\"sequentialminus\":[[0.0,\"#0d0887\"],[0.1111111111111111,\"#46039f\"],[0.2222222222222222,\"#7201a8\"],[0.3333333333333333,\"#9c179e\"],[0.4444444444444444,\"#bd3786\"],[0.5555555555555556,\"#d8576b\"],[0.6666666666666666,\"#ed7953\"],[0.7777777777777778,\"#fb9f3a\"],[0.8888888888888888,\"#fdca26\"],[1.0,\"#f0f921\"]],\"diverging\":[[0,\"#8e0152\"],[0.1,\"#c51b7d\"],[0.2,\"#de77ae\"],[0.3,\"#f1b6da\"],[0.4,\"#fde0ef\"],[0.5,\"#f7f7f7\"],[0.6,\"#e6f5d0\"],[0.7,\"#b8e186\"],[0.8,\"#7fbc41\"],[0.9,\"#4d9221\"],[1,\"#276419\"]]},\"xaxis\":{\"gridcolor\":\"white\",\"linecolor\":\"white\",\"ticks\":\"\",\"title\":{\"standoff\":15},\"zerolinecolor\":\"white\",\"automargin\":true,\"zerolinewidth\":2},\"yaxis\":{\"gridcolor\":\"white\",\"linecolor\":\"white\",\"ticks\":\"\",\"title\":{\"standoff\":15},\"zerolinecolor\":\"white\",\"automargin\":true,\"zerolinewidth\":2},\"scene\":{\"xaxis\":{\"backgroundcolor\":\"#E5ECF6\",\"gridcolor\":\"white\",\"linecolor\":\"white\",\"showbackground\":true,\"ticks\":\"\",\"zerolinecolor\":\"white\",\"gridwidth\":2},\"yaxis\":{\"backgroundcolor\":\"#E5ECF6\",\"gridcolor\":\"white\",\"linecolor\":\"white\",\"showbackground\":true,\"ticks\":\"\",\"zerolinecolor\":\"white\",\"gridwidth\":2},\"zaxis\":{\"backgroundcolor\":\"#E5ECF6\",\"gridcolor\":\"white\",\"linecolor\":\"white\",\"showbackground\":true,\"ticks\":\"\",\"zerolinecolor\":\"white\",\"gridwidth\":2}},\"shapedefaults\":{\"line\":{\"color\":\"#2a3f5f\"}},\"annotationdefaults\":{\"arrowcolor\":\"#2a3f5f\",\"arrowhead\":0,\"arrowwidth\":1},\"geo\":{\"bgcolor\":\"white\",\"landcolor\":\"#E5ECF6\",\"subunitcolor\":\"white\",\"showland\":true,\"showlakes\":true,\"lakecolor\":\"white\"},\"title\":{\"x\":0.05},\"mapbox\":{\"style\":\"light\"}}},\"xaxis\":{\"anchor\":\"y\",\"domain\":[0.0,1.0],\"title\":{\"text\":\"index\"}},\"yaxis\":{\"anchor\":\"x\",\"domain\":[0.0,1.0],\"title\":{\"text\":\"PM2.5\"}},\"legend\":{\"title\":{\"text\":\"variable\"},\"tracegroupgap\":0},\"margin\":{\"t\":60}},                        {\"responsive\": true}                    ).then(function(){\n",
       "                            \n",
       "var gd = document.getElementById('c0a2025b-38ea-4950-86a9-a14de38e8c7c');\n",
       "var x = new MutationObserver(function (mutations, observer) {{\n",
       "        var display = window.getComputedStyle(gd).display;\n",
       "        if (!display || display === 'none') {{\n",
       "            console.log([gd, 'removed!']);\n",
       "            Plotly.purge(gd);\n",
       "            observer.disconnect();\n",
       "        }}\n",
       "}});\n",
       "\n",
       "// Listen for the removal of the full notebook cells\n",
       "var notebookContainer = gd.closest('#notebook-container');\n",
       "if (notebookContainer) {{\n",
       "    x.observe(notebookContainer, {childList: true});\n",
       "}}\n",
       "\n",
       "// Listen for the clearing of the current output cell\n",
       "var outputEl = gd.closest('.output');\n",
       "if (outputEl) {{\n",
       "    x.observe(outputEl, {childList: true});\n",
       "}}\n",
       "\n",
       "                        })                };                });            </script>        </div>"
      ]
     },
     "metadata": {},
     "output_type": "display_data"
    }
   ],
   "source": [
    "#Put the values for y_test and y_pred_wfv into the DataFrame df_pred_test (don't forget the index). Then plot df_pred_test using plotly express.\n",
    "df_pred_test = pd.DataFrame(\n",
    "    {'y_test': y_test, 'y_pred_wfv': y_pred_wfv\n",
    "    }\n",
    "\n",
    ")\n",
    "fig = px.line(df_pred_test, labels={'value' : 'PM2.5'})\n",
    "fig.show()"
   ]
  },
  {
   "cell_type": "markdown",
   "id": "6f6f50b7",
   "metadata": {},
   "source": [
    "# Next Steps\n",
    "- Add more Data\n",
    "- Deploy the model"
   ]
  },
  {
   "cell_type": "code",
   "execution_count": null,
   "id": "c6c77ebd",
   "metadata": {},
   "outputs": [],
   "source": []
  }
 ],
 "metadata": {
  "kernelspec": {
   "display_name": "Python 3 (ipykernel)",
   "language": "python",
   "name": "python3"
  },
  "language_info": {
   "codemirror_mode": {
    "name": "ipython",
    "version": 3
   },
   "file_extension": ".py",
   "mimetype": "text/x-python",
   "name": "python",
   "nbconvert_exporter": "python",
   "pygments_lexer": "ipython3",
   "version": "3.11.5"
  }
 },
 "nbformat": 4,
 "nbformat_minor": 5
}
